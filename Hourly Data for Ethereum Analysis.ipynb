{
 "cells": [
  {
   "cell_type": "markdown",
   "metadata": {},
   "source": [
    "# Data Collection and Pre-Processing\n",
    "*Here I use the data from https://www.cryptodatadownload.com/ to create a train and test set for my models"
   ]
  },
  {
   "cell_type": "code",
   "execution_count": 24,
   "metadata": {},
   "outputs": [],
   "source": [
    "import pandas as pd\n",
    "import numpy as np\n",
    "import matplotlib.pyplot as plt"
   ]
  },
  {
   "cell_type": "code",
   "execution_count": 25,
   "metadata": {},
   "outputs": [],
   "source": [
    "ethData = pd.read_csv('Coinbase_ETHUSD_1h.csv', header = 1)"
   ]
  },
  {
   "cell_type": "code",
   "execution_count": 26,
   "metadata": {},
   "outputs": [
    {
     "data": {
      "text/html": [
       "<div>\n",
       "<style scoped>\n",
       "    .dataframe tbody tr th:only-of-type {\n",
       "        vertical-align: middle;\n",
       "    }\n",
       "\n",
       "    .dataframe tbody tr th {\n",
       "        vertical-align: top;\n",
       "    }\n",
       "\n",
       "    .dataframe thead th {\n",
       "        text-align: right;\n",
       "    }\n",
       "</style>\n",
       "<table border=\"1\" class=\"dataframe\">\n",
       "  <thead>\n",
       "    <tr style=\"text-align: right;\">\n",
       "      <th></th>\n",
       "      <th>Date</th>\n",
       "      <th>Symbol</th>\n",
       "      <th>Open</th>\n",
       "      <th>High</th>\n",
       "      <th>Low</th>\n",
       "      <th>Close</th>\n",
       "      <th>Volume ETH</th>\n",
       "      <th>Volume USD</th>\n",
       "    </tr>\n",
       "  </thead>\n",
       "  <tbody>\n",
       "    <tr>\n",
       "      <th>0</th>\n",
       "      <td>2020-08-05 03-PM</td>\n",
       "      <td>ETHUSD</td>\n",
       "      <td>394.97</td>\n",
       "      <td>396.41</td>\n",
       "      <td>393.27</td>\n",
       "      <td>396.12</td>\n",
       "      <td>2821.61</td>\n",
       "      <td>1115468.85</td>\n",
       "    </tr>\n",
       "    <tr>\n",
       "      <th>1</th>\n",
       "      <td>2020-08-05 02-PM</td>\n",
       "      <td>ETHUSD</td>\n",
       "      <td>399.52</td>\n",
       "      <td>400.00</td>\n",
       "      <td>390.56</td>\n",
       "      <td>394.97</td>\n",
       "      <td>13497.02</td>\n",
       "      <td>5335869.99</td>\n",
       "    </tr>\n",
       "    <tr>\n",
       "      <th>2</th>\n",
       "      <td>2020-08-05 01-PM</td>\n",
       "      <td>ETHUSD</td>\n",
       "      <td>399.68</td>\n",
       "      <td>402.47</td>\n",
       "      <td>397.75</td>\n",
       "      <td>399.52</td>\n",
       "      <td>12616.77</td>\n",
       "      <td>5042197.51</td>\n",
       "    </tr>\n",
       "    <tr>\n",
       "      <th>3</th>\n",
       "      <td>2020-08-05 12-PM</td>\n",
       "      <td>ETHUSD</td>\n",
       "      <td>397.69</td>\n",
       "      <td>400.89</td>\n",
       "      <td>395.39</td>\n",
       "      <td>399.68</td>\n",
       "      <td>15939.92</td>\n",
       "      <td>6350713.81</td>\n",
       "    </tr>\n",
       "    <tr>\n",
       "      <th>4</th>\n",
       "      <td>2020-08-05 11-AM</td>\n",
       "      <td>ETHUSD</td>\n",
       "      <td>392.80</td>\n",
       "      <td>397.80</td>\n",
       "      <td>392.80</td>\n",
       "      <td>397.69</td>\n",
       "      <td>11127.11</td>\n",
       "      <td>4407241.22</td>\n",
       "    </tr>\n",
       "  </tbody>\n",
       "</table>\n",
       "</div>"
      ],
      "text/plain": [
       "               Date  Symbol    Open    High     Low   Close  Volume ETH  \\\n",
       "0  2020-08-05 03-PM  ETHUSD  394.97  396.41  393.27  396.12     2821.61   \n",
       "1  2020-08-05 02-PM  ETHUSD  399.52  400.00  390.56  394.97    13497.02   \n",
       "2  2020-08-05 01-PM  ETHUSD  399.68  402.47  397.75  399.52    12616.77   \n",
       "3  2020-08-05 12-PM  ETHUSD  397.69  400.89  395.39  399.68    15939.92   \n",
       "4  2020-08-05 11-AM  ETHUSD  392.80  397.80  392.80  397.69    11127.11   \n",
       "\n",
       "   Volume USD  \n",
       "0  1115468.85  \n",
       "1  5335869.99  \n",
       "2  5042197.51  \n",
       "3  6350713.81  \n",
       "4  4407241.22  "
      ]
     },
     "execution_count": 26,
     "metadata": {},
     "output_type": "execute_result"
    }
   ],
   "source": [
    "ethData.head()"
   ]
  },
  {
   "cell_type": "code",
   "execution_count": 27,
   "metadata": {},
   "outputs": [
    {
     "data": {
      "text/plain": [
       "27149"
      ]
     },
     "execution_count": 27,
     "metadata": {},
     "output_type": "execute_result"
    }
   ],
   "source": [
    "ethData.shape[0]"
   ]
  },
  {
   "cell_type": "code",
   "execution_count": 28,
   "metadata": {},
   "outputs": [
    {
     "data": {
      "text/html": [
       "<div>\n",
       "<style scoped>\n",
       "    .dataframe tbody tr th:only-of-type {\n",
       "        vertical-align: middle;\n",
       "    }\n",
       "\n",
       "    .dataframe tbody tr th {\n",
       "        vertical-align: top;\n",
       "    }\n",
       "\n",
       "    .dataframe thead th {\n",
       "        text-align: right;\n",
       "    }\n",
       "</style>\n",
       "<table border=\"1\" class=\"dataframe\">\n",
       "  <thead>\n",
       "    <tr style=\"text-align: right;\">\n",
       "      <th></th>\n",
       "      <th>Open</th>\n",
       "      <th>High</th>\n",
       "      <th>Low</th>\n",
       "      <th>Close</th>\n",
       "      <th>Volume ETH</th>\n",
       "      <th>Volume USD</th>\n",
       "    </tr>\n",
       "  </thead>\n",
       "  <tbody>\n",
       "    <tr>\n",
       "      <th>Open</th>\n",
       "      <td>1.000000</td>\n",
       "      <td>0.999818</td>\n",
       "      <td>0.999747</td>\n",
       "      <td>0.999686</td>\n",
       "      <td>0.033940</td>\n",
       "      <td>0.480830</td>\n",
       "    </tr>\n",
       "    <tr>\n",
       "      <th>High</th>\n",
       "      <td>0.999818</td>\n",
       "      <td>1.000000</td>\n",
       "      <td>0.999602</td>\n",
       "      <td>0.999829</td>\n",
       "      <td>0.041234</td>\n",
       "      <td>0.489963</td>\n",
       "    </tr>\n",
       "    <tr>\n",
       "      <th>Low</th>\n",
       "      <td>0.999747</td>\n",
       "      <td>0.999602</td>\n",
       "      <td>1.000000</td>\n",
       "      <td>0.999796</td>\n",
       "      <td>0.025120</td>\n",
       "      <td>0.469757</td>\n",
       "    </tr>\n",
       "    <tr>\n",
       "      <th>Close</th>\n",
       "      <td>0.999686</td>\n",
       "      <td>0.999829</td>\n",
       "      <td>0.999796</td>\n",
       "      <td>1.000000</td>\n",
       "      <td>0.034066</td>\n",
       "      <td>0.481365</td>\n",
       "    </tr>\n",
       "    <tr>\n",
       "      <th>Volume ETH</th>\n",
       "      <td>0.033940</td>\n",
       "      <td>0.041234</td>\n",
       "      <td>0.025120</td>\n",
       "      <td>0.034066</td>\n",
       "      <td>1.000000</td>\n",
       "      <td>0.706661</td>\n",
       "    </tr>\n",
       "    <tr>\n",
       "      <th>Volume USD</th>\n",
       "      <td>0.480830</td>\n",
       "      <td>0.489963</td>\n",
       "      <td>0.469757</td>\n",
       "      <td>0.481365</td>\n",
       "      <td>0.706661</td>\n",
       "      <td>1.000000</td>\n",
       "    </tr>\n",
       "  </tbody>\n",
       "</table>\n",
       "</div>"
      ],
      "text/plain": [
       "                Open      High       Low     Close  Volume ETH  Volume USD\n",
       "Open        1.000000  0.999818  0.999747  0.999686    0.033940    0.480830\n",
       "High        0.999818  1.000000  0.999602  0.999829    0.041234    0.489963\n",
       "Low         0.999747  0.999602  1.000000  0.999796    0.025120    0.469757\n",
       "Close       0.999686  0.999829  0.999796  1.000000    0.034066    0.481365\n",
       "Volume ETH  0.033940  0.041234  0.025120  0.034066    1.000000    0.706661\n",
       "Volume USD  0.480830  0.489963  0.469757  0.481365    0.706661    1.000000"
      ]
     },
     "execution_count": 28,
     "metadata": {},
     "output_type": "execute_result"
    }
   ],
   "source": [
    "ethData.corr()"
   ]
  },
  {
   "cell_type": "code",
   "execution_count": 29,
   "metadata": {},
   "outputs": [],
   "source": [
    "ethData['Close'] = ethData['Close'].replace(0, method='ffill')\n",
    "ethPrices = ethData['Close'].to_numpy()"
   ]
  },
  {
   "cell_type": "code",
   "execution_count": 30,
   "metadata": {},
   "outputs": [
    {
     "data": {
      "text/plain": [
       "array([396.12, 394.97, 399.52, 399.68, 397.69, 392.8 , 393.27, 390.48,\n",
       "       390.05, 390.5 ])"
      ]
     },
     "execution_count": 30,
     "metadata": {},
     "output_type": "execute_result"
    }
   ],
   "source": [
    "ethPrices[:10]"
   ]
  },
  {
   "cell_type": "code",
   "execution_count": 31,
   "metadata": {},
   "outputs": [
    {
     "name": "stdout",
     "output_type": "stream",
     "text": [
      "(array([], dtype=int64),)\n"
     ]
    },
    {
     "data": {
      "text/plain": [
       "[<matplotlib.lines.Line2D at 0x1199112e8>]"
      ]
     },
     "execution_count": 31,
     "metadata": {},
     "output_type": "execute_result"
    },
    {
     "data": {
      "image/png": "[encoded data removed]",
      "text/plain": [
       "<Figure size 432x288 with 1 Axes>"
      ]
     },
     "metadata": {
      "needs_background": "light"
     },
     "output_type": "display_data"
    }
   ],
   "source": [
    "print(np.where(ethPrices == 0))\n",
    "plt.plot(ethPrices)"
   ]
  },
  {
   "cell_type": "code",
   "execution_count": 32,
   "metadata": {},
   "outputs": [],
   "source": [
    "def percent_change(arr):\n",
    "    array = np.copy(arr)\n",
    "    p0 = array[0]\n",
    "    for i in range(len(array)):\n",
    "        p = array[i]\n",
    "        if p0==p:\n",
    "            array[i]=0\n",
    "            continue\n",
    "        elif p0==0:\n",
    "            array[i]=1\n",
    "            p0=p\n",
    "            continue\n",
    "        array[i] = 100 * (p - p0)/p0\n",
    "        p0 = p\n",
    "    return array"
   ]
  },
  {
   "cell_type": "code",
   "execution_count": 33,
   "metadata": {},
   "outputs": [],
   "source": [
    "eth_pct = percent_change(ethPrices)"
   ]
  },
  {
   "cell_type": "code",
   "execution_count": 34,
   "metadata": {},
   "outputs": [
    {
     "data": {
      "text/plain": [
       "Text(0.5, 1.0, 'Price fluctuation for Ethereum')"
      ]
     },
     "execution_count": 34,
     "metadata": {},
     "output_type": "execute_result"
    },
    {
     "data": {
      "image/png": "[encoded data removed]",
      "text/plain": [
       "<Figure size 432x288 with 1 Axes>"
      ]
     },
     "metadata": {
      "needs_background": "light"
     },
     "output_type": "display_data"
    }
   ],
   "source": [
    "plt.plot(eth_pct)\n",
    "plt.ylabel('% Change from previous')\n",
    "plt.title('Price fluctuation for Ethereum')"
   ]
  },
  {
   "cell_type": "code",
   "execution_count": 35,
   "metadata": {},
   "outputs": [
    {
     "name": "stdout",
     "output_type": "stream",
     "text": [
      "0.06822445846835945\n"
     ]
    }
   ],
   "source": [
    "print(eth_pct[1003])"
   ]
  },
  {
   "cell_type": "code",
   "execution_count": 36,
   "metadata": {},
   "outputs": [
    {
     "name": "stdout",
     "output_type": "stream",
     "text": [
      "24.378109452736332\n"
     ]
    }
   ],
   "source": [
    "print(np.max(eth_pct))"
   ]
  },
  {
   "cell_type": "code",
   "execution_count": 37,
   "metadata": {},
   "outputs": [
    {
     "name": "stdout",
     "output_type": "stream",
     "text": [
      "(array([], dtype=int64),)\n"
     ]
    }
   ],
   "source": [
    "print(np.where(eth_pct > 50))#as expected we have no massive fluctuations above 25% "
   ]
  },
  {
   "cell_type": "code",
   "execution_count": 38,
   "metadata": {},
   "outputs": [
    {
     "name": "stdout",
     "output_type": "stream",
     "text": [
      "(array([], dtype=int64),)\n"
     ]
    }
   ],
   "source": [
    "print(np.where(ethPrices == 0)) "
   ]
  },
  {
   "cell_type": "code",
   "execution_count": 39,
   "metadata": {},
   "outputs": [
    {
     "data": {
      "text/plain": [
       "Text(0.5, 1.0, 'Price fluctuation for Ethereum')"
      ]
     },
     "execution_count": 39,
     "metadata": {},
     "output_type": "execute_result"
    },
    {
     "data": {
      "image/png": "[encoded data removed]",
      "text/plain": [
       "<Figure size 432x288 with 1 Axes>"
      ]
     },
     "metadata": {
      "needs_background": "light"
     },
     "output_type": "display_data"
    }
   ],
   "source": [
    "plt.plot(eth_pct[10000:15000])\n",
    "plt.ylabel('% Change from previous')\n",
    "plt.title('Price fluctuation for Ethereum')"
   ]
  },
  {
   "cell_type": "code",
   "execution_count": 40,
   "metadata": {},
   "outputs": [
    {
     "data": {
      "text/plain": [
       "(array([ 3492,  3494,  3510, 22971]),)"
      ]
     },
     "execution_count": 40,
     "metadata": {},
     "output_type": "execute_result"
    }
   ],
   "source": [
    "large_fs = np.where(np.abs(eth_pct)>15)\n",
    "large_fs"
   ]
  },
  {
   "cell_type": "code",
   "execution_count": 48,
   "metadata": {},
   "outputs": [
    {
     "data": {
      "text/html": [
       "<div>\n",
       "<style scoped>\n",
       "    .dataframe tbody tr th:only-of-type {\n",
       "        vertical-align: middle;\n",
       "    }\n",
       "\n",
       "    .dataframe tbody tr th {\n",
       "        vertical-align: top;\n",
       "    }\n",
       "\n",
       "    .dataframe thead th {\n",
       "        text-align: right;\n",
       "    }\n",
       "</style>\n",
       "<table border=\"1\" class=\"dataframe\">\n",
       "  <thead>\n",
       "    <tr style=\"text-align: right;\">\n",
       "      <th></th>\n",
       "      <th>Close</th>\n",
       "      <th>%Change</th>\n",
       "    </tr>\n",
       "  </thead>\n",
       "  <tbody>\n",
       "    <tr>\n",
       "      <th>3491</th>\n",
       "      <td>111.87</td>\n",
       "      <td>-4.278258</td>\n",
       "    </tr>\n",
       "    <tr>\n",
       "      <th>3492</th>\n",
       "      <td>130.91</td>\n",
       "      <td>17.019755</td>\n",
       "    </tr>\n",
       "    <tr>\n",
       "      <th>3493</th>\n",
       "      <td>117.02</td>\n",
       "      <td>-10.610343</td>\n",
       "    </tr>\n",
       "    <tr>\n",
       "      <th>3494</th>\n",
       "      <td>98.88</td>\n",
       "      <td>-15.501624</td>\n",
       "    </tr>\n",
       "    <tr>\n",
       "      <th>3495</th>\n",
       "      <td>107.09</td>\n",
       "      <td>8.302994</td>\n",
       "    </tr>\n",
       "    <tr>\n",
       "      <th>3496</th>\n",
       "      <td>110.30</td>\n",
       "      <td>2.997479</td>\n",
       "    </tr>\n",
       "    <tr>\n",
       "      <th>3497</th>\n",
       "      <td>126.78</td>\n",
       "      <td>14.941070</td>\n",
       "    </tr>\n",
       "    <tr>\n",
       "      <th>3498</th>\n",
       "      <td>130.30</td>\n",
       "      <td>2.776463</td>\n",
       "    </tr>\n",
       "    <tr>\n",
       "      <th>3499</th>\n",
       "      <td>128.15</td>\n",
       "      <td>-1.650038</td>\n",
       "    </tr>\n",
       "    <tr>\n",
       "      <th>3500</th>\n",
       "      <td>138.00</td>\n",
       "      <td>7.686305</td>\n",
       "    </tr>\n",
       "    <tr>\n",
       "      <th>3501</th>\n",
       "      <td>137.04</td>\n",
       "      <td>-0.695652</td>\n",
       "    </tr>\n",
       "    <tr>\n",
       "      <th>3502</th>\n",
       "      <td>141.80</td>\n",
       "      <td>3.473438</td>\n",
       "    </tr>\n",
       "    <tr>\n",
       "      <th>3503</th>\n",
       "      <td>139.25</td>\n",
       "      <td>-1.798307</td>\n",
       "    </tr>\n",
       "    <tr>\n",
       "      <th>3504</th>\n",
       "      <td>141.24</td>\n",
       "      <td>1.429084</td>\n",
       "    </tr>\n",
       "    <tr>\n",
       "      <th>3505</th>\n",
       "      <td>140.79</td>\n",
       "      <td>-0.318607</td>\n",
       "    </tr>\n",
       "    <tr>\n",
       "      <th>3506</th>\n",
       "      <td>135.39</td>\n",
       "      <td>-3.835500</td>\n",
       "    </tr>\n",
       "    <tr>\n",
       "      <th>3507</th>\n",
       "      <td>137.67</td>\n",
       "      <td>1.684024</td>\n",
       "    </tr>\n",
       "    <tr>\n",
       "      <th>3508</th>\n",
       "      <td>136.83</td>\n",
       "      <td>-0.610155</td>\n",
       "    </tr>\n",
       "    <tr>\n",
       "      <th>3509</th>\n",
       "      <td>134.67</td>\n",
       "      <td>-1.578601</td>\n",
       "    </tr>\n",
       "    <tr>\n",
       "      <th>3510</th>\n",
       "      <td>167.50</td>\n",
       "      <td>24.378109</td>\n",
       "    </tr>\n",
       "  </tbody>\n",
       "</table>\n",
       "</div>"
      ],
      "text/plain": [
       "       Close    %Change\n",
       "3491  111.87  -4.278258\n",
       "3492  130.91  17.019755\n",
       "3493  117.02 -10.610343\n",
       "3494   98.88 -15.501624\n",
       "3495  107.09   8.302994\n",
       "3496  110.30   2.997479\n",
       "3497  126.78  14.941070\n",
       "3498  130.30   2.776463\n",
       "3499  128.15  -1.650038\n",
       "3500  138.00   7.686305\n",
       "3501  137.04  -0.695652\n",
       "3502  141.80   3.473438\n",
       "3503  139.25  -1.798307\n",
       "3504  141.24   1.429084\n",
       "3505  140.79  -0.318607\n",
       "3506  135.39  -3.835500\n",
       "3507  137.67   1.684024\n",
       "3508  136.83  -0.610155\n",
       "3509  134.67  -1.578601\n",
       "3510  167.50  24.378109"
      ]
     },
     "execution_count": 48,
     "metadata": {},
     "output_type": "execute_result"
    }
   ],
   "source": [
    "ethData.iloc[3492-1:3510+1][['Close', '%Change']]"
   ]
  },
  {
   "cell_type": "code",
   "execution_count": 42,
   "metadata": {},
   "outputs": [
    {
     "data": {
      "text/plain": [
       "0        0.000000\n",
       "1       -0.290316\n",
       "2        1.151986\n",
       "3        0.040048\n",
       "4       -0.497898\n",
       "           ...   \n",
       "27144    1.705224\n",
       "27145   -2.505778\n",
       "27146    1.147738\n",
       "27147    2.247107\n",
       "27148    0.065495\n",
       "Name: %Change, Length: 27149, dtype: float64"
      ]
     },
     "execution_count": 42,
     "metadata": {},
     "output_type": "execute_result"
    }
   ],
   "source": [
    "s = pd.Series(eth_pct, name = '%Change')\n",
    "s"
   ]
  },
  {
   "cell_type": "code",
   "execution_count": 43,
   "metadata": {},
   "outputs": [
    {
     "data": {
      "text/html": [
       "<div>\n",
       "<style scoped>\n",
       "    .dataframe tbody tr th:only-of-type {\n",
       "        vertical-align: middle;\n",
       "    }\n",
       "\n",
       "    .dataframe tbody tr th {\n",
       "        vertical-align: top;\n",
       "    }\n",
       "\n",
       "    .dataframe thead th {\n",
       "        text-align: right;\n",
       "    }\n",
       "</style>\n",
       "<table border=\"1\" class=\"dataframe\">\n",
       "  <thead>\n",
       "    <tr style=\"text-align: right;\">\n",
       "      <th></th>\n",
       "      <th>Date</th>\n",
       "      <th>Symbol</th>\n",
       "      <th>Open</th>\n",
       "      <th>High</th>\n",
       "      <th>Low</th>\n",
       "      <th>Close</th>\n",
       "      <th>Volume ETH</th>\n",
       "      <th>Volume USD</th>\n",
       "      <th>%Change</th>\n",
       "    </tr>\n",
       "  </thead>\n",
       "  <tbody>\n",
       "    <tr>\n",
       "      <th>0</th>\n",
       "      <td>2020-08-05 03-PM</td>\n",
       "      <td>ETHUSD</td>\n",
       "      <td>394.97</td>\n",
       "      <td>396.41</td>\n",
       "      <td>393.27</td>\n",
       "      <td>396.12</td>\n",
       "      <td>2821.61</td>\n",
       "      <td>1115468.85</td>\n",
       "      <td>0.000000</td>\n",
       "    </tr>\n",
       "    <tr>\n",
       "      <th>1</th>\n",
       "      <td>2020-08-05 02-PM</td>\n",
       "      <td>ETHUSD</td>\n",
       "      <td>399.52</td>\n",
       "      <td>400.00</td>\n",
       "      <td>390.56</td>\n",
       "      <td>394.97</td>\n",
       "      <td>13497.02</td>\n",
       "      <td>5335869.99</td>\n",
       "      <td>-0.290316</td>\n",
       "    </tr>\n",
       "    <tr>\n",
       "      <th>2</th>\n",
       "      <td>2020-08-05 01-PM</td>\n",
       "      <td>ETHUSD</td>\n",
       "      <td>399.68</td>\n",
       "      <td>402.47</td>\n",
       "      <td>397.75</td>\n",
       "      <td>399.52</td>\n",
       "      <td>12616.77</td>\n",
       "      <td>5042197.51</td>\n",
       "      <td>1.151986</td>\n",
       "    </tr>\n",
       "    <tr>\n",
       "      <th>3</th>\n",
       "      <td>2020-08-05 12-PM</td>\n",
       "      <td>ETHUSD</td>\n",
       "      <td>397.69</td>\n",
       "      <td>400.89</td>\n",
       "      <td>395.39</td>\n",
       "      <td>399.68</td>\n",
       "      <td>15939.92</td>\n",
       "      <td>6350713.81</td>\n",
       "      <td>0.040048</td>\n",
       "    </tr>\n",
       "    <tr>\n",
       "      <th>4</th>\n",
       "      <td>2020-08-05 11-AM</td>\n",
       "      <td>ETHUSD</td>\n",
       "      <td>392.80</td>\n",
       "      <td>397.80</td>\n",
       "      <td>392.80</td>\n",
       "      <td>397.69</td>\n",
       "      <td>11127.11</td>\n",
       "      <td>4407241.22</td>\n",
       "      <td>-0.497898</td>\n",
       "    </tr>\n",
       "  </tbody>\n",
       "</table>\n",
       "</div>"
      ],
      "text/plain": [
       "               Date  Symbol    Open    High     Low   Close  Volume ETH  \\\n",
       "0  2020-08-05 03-PM  ETHUSD  394.97  396.41  393.27  396.12     2821.61   \n",
       "1  2020-08-05 02-PM  ETHUSD  399.52  400.00  390.56  394.97    13497.02   \n",
       "2  2020-08-05 01-PM  ETHUSD  399.68  402.47  397.75  399.52    12616.77   \n",
       "3  2020-08-05 12-PM  ETHUSD  397.69  400.89  395.39  399.68    15939.92   \n",
       "4  2020-08-05 11-AM  ETHUSD  392.80  397.80  392.80  397.69    11127.11   \n",
       "\n",
       "   Volume USD   %Change  \n",
       "0  1115468.85  0.000000  \n",
       "1  5335869.99 -0.290316  \n",
       "2  5042197.51  1.151986  \n",
       "3  6350713.81  0.040048  \n",
       "4  4407241.22 -0.497898  "
      ]
     },
     "execution_count": 43,
     "metadata": {},
     "output_type": "execute_result"
    }
   ],
   "source": [
    "ethData['%Change'] = s\n",
    "ethData.head()"
   ]
  },
  {
   "cell_type": "code",
   "execution_count": 52,
   "metadata": {},
   "outputs": [
    {
     "name": "stdout",
     "output_type": "stream",
     "text": [
      "[1, 0, 1, 1, 0, 0, 1, 0, 0, 1]\n"
     ]
    },
    {
     "data": {
      "text/html": [
       "<div>\n",
       "<style scoped>\n",
       "    .dataframe tbody tr th:only-of-type {\n",
       "        vertical-align: middle;\n",
       "    }\n",
       "\n",
       "    .dataframe tbody tr th {\n",
       "        vertical-align: top;\n",
       "    }\n",
       "\n",
       "    .dataframe thead th {\n",
       "        text-align: right;\n",
       "    }\n",
       "</style>\n",
       "<table border=\"1\" class=\"dataframe\">\n",
       "  <thead>\n",
       "    <tr style=\"text-align: right;\">\n",
       "      <th></th>\n",
       "      <th>Date</th>\n",
       "      <th>Symbol</th>\n",
       "      <th>Open</th>\n",
       "      <th>High</th>\n",
       "      <th>Low</th>\n",
       "      <th>Close</th>\n",
       "      <th>Volume ETH</th>\n",
       "      <th>Volume USD</th>\n",
       "      <th>%Change</th>\n",
       "      <th>Gradient</th>\n",
       "    </tr>\n",
       "  </thead>\n",
       "  <tbody>\n",
       "    <tr>\n",
       "      <th>0</th>\n",
       "      <td>2020-08-05 03-PM</td>\n",
       "      <td>ETHUSD</td>\n",
       "      <td>394.97</td>\n",
       "      <td>396.41</td>\n",
       "      <td>393.27</td>\n",
       "      <td>396.12</td>\n",
       "      <td>2821.61</td>\n",
       "      <td>1115468.85</td>\n",
       "      <td>0.000000</td>\n",
       "      <td>1</td>\n",
       "    </tr>\n",
       "    <tr>\n",
       "      <th>1</th>\n",
       "      <td>2020-08-05 02-PM</td>\n",
       "      <td>ETHUSD</td>\n",
       "      <td>399.52</td>\n",
       "      <td>400.00</td>\n",
       "      <td>390.56</td>\n",
       "      <td>394.97</td>\n",
       "      <td>13497.02</td>\n",
       "      <td>5335869.99</td>\n",
       "      <td>-0.290316</td>\n",
       "      <td>0</td>\n",
       "    </tr>\n",
       "    <tr>\n",
       "      <th>2</th>\n",
       "      <td>2020-08-05 01-PM</td>\n",
       "      <td>ETHUSD</td>\n",
       "      <td>399.68</td>\n",
       "      <td>402.47</td>\n",
       "      <td>397.75</td>\n",
       "      <td>399.52</td>\n",
       "      <td>12616.77</td>\n",
       "      <td>5042197.51</td>\n",
       "      <td>1.151986</td>\n",
       "      <td>1</td>\n",
       "    </tr>\n",
       "    <tr>\n",
       "      <th>3</th>\n",
       "      <td>2020-08-05 12-PM</td>\n",
       "      <td>ETHUSD</td>\n",
       "      <td>397.69</td>\n",
       "      <td>400.89</td>\n",
       "      <td>395.39</td>\n",
       "      <td>399.68</td>\n",
       "      <td>15939.92</td>\n",
       "      <td>6350713.81</td>\n",
       "      <td>0.040048</td>\n",
       "      <td>1</td>\n",
       "    </tr>\n",
       "    <tr>\n",
       "      <th>4</th>\n",
       "      <td>2020-08-05 11-AM</td>\n",
       "      <td>ETHUSD</td>\n",
       "      <td>392.80</td>\n",
       "      <td>397.80</td>\n",
       "      <td>392.80</td>\n",
       "      <td>397.69</td>\n",
       "      <td>11127.11</td>\n",
       "      <td>4407241.22</td>\n",
       "      <td>-0.497898</td>\n",
       "      <td>0</td>\n",
       "    </tr>\n",
       "  </tbody>\n",
       "</table>\n",
       "</div>"
      ],
      "text/plain": [
       "               Date  Symbol    Open    High     Low   Close  Volume ETH  \\\n",
       "0  2020-08-05 03-PM  ETHUSD  394.97  396.41  393.27  396.12     2821.61   \n",
       "1  2020-08-05 02-PM  ETHUSD  399.52  400.00  390.56  394.97    13497.02   \n",
       "2  2020-08-05 01-PM  ETHUSD  399.68  402.47  397.75  399.52    12616.77   \n",
       "3  2020-08-05 12-PM  ETHUSD  397.69  400.89  395.39  399.68    15939.92   \n",
       "4  2020-08-05 11-AM  ETHUSD  392.80  397.80  392.80  397.69    11127.11   \n",
       "\n",
       "   Volume USD   %Change  Gradient  \n",
       "0  1115468.85  0.000000         1  \n",
       "1  5335869.99 -0.290316         0  \n",
       "2  5042197.51  1.151986         1  \n",
       "3  6350713.81  0.040048         1  \n",
       "4  4407241.22 -0.497898         0  "
      ]
     },
     "execution_count": 52,
     "metadata": {},
     "output_type": "execute_result"
    }
   ],
   "source": [
    "grad = []\n",
    "for change in ethData['%Change']:\n",
    "    if change < 0:\n",
    "        grad.append(0)\n",
    "    else:\n",
    "        grad.append(1)\n",
    "print(grad[:10])\n",
    "ethData['Gradient'] = pd.Series(grad, name = 'Gradient')\n",
    "ethData.head()"
   ]
  },
  {
   "cell_type": "code",
   "execution_count": null,
   "metadata": {},
   "outputs": [],
   "source": []
  }
 ],
 "metadata": {
  "kernelspec": {
   "display_name": "Python 3",
   "language": "python",
   "name": "python3"
  },
  "language_info": {
   "codemirror_mode": {
    "name": "ipython",
    "version": 3
   },
   "file_extension": ".py",
   "mimetype": "text/x-python",
   "name": "python",
   "nbconvert_exporter": "python",
   "pygments_lexer": "ipython3",
   "version": "3.7.1"
  }
 },
 "nbformat": 4,
 "nbformat_minor": 2
}
