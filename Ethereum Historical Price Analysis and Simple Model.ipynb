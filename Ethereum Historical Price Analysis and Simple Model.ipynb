{
 "cells": [
  {
   "cell_type": "markdown",
   "metadata": {},
   "source": [
    "# Data Collection and Pre-Processing\n",
    "*Here I use the data from https://www.cryptodatadownload.com/ to create a train and test set for my models"
   ]
  },
  {
   "cell_type": "code",
   "execution_count": 1,
   "metadata": {},
   "outputs": [],
   "source": [
    "import pandas as pd\n",
    "import numpy as np\n",
    "import matplotlib.pyplot as plt"
   ]
  },
  {
   "cell_type": "code",
   "execution_count": 2,
   "metadata": {},
   "outputs": [],
   "source": [
    "ethData = pd.read_csv('Coinbase_ETHUSD_1h.csv', header = 1)"
   ]
  },
  {
   "cell_type": "code",
   "execution_count": 3,
   "metadata": {},
   "outputs": [
    {
     "data": {
      "text/html": [
       "<div>\n",
       "<style scoped>\n",
       "    .dataframe tbody tr th:only-of-type {\n",
       "        vertical-align: middle;\n",
       "    }\n",
       "\n",
       "    .dataframe tbody tr th {\n",
       "        vertical-align: top;\n",
       "    }\n",
       "\n",
       "    .dataframe thead th {\n",
       "        text-align: right;\n",
       "    }\n",
       "</style>\n",
       "<table border=\"1\" class=\"dataframe\">\n",
       "  <thead>\n",
       "    <tr style=\"text-align: right;\">\n",
       "      <th></th>\n",
       "      <th>Date</th>\n",
       "      <th>Symbol</th>\n",
       "      <th>Open</th>\n",
       "      <th>High</th>\n",
       "      <th>Low</th>\n",
       "      <th>Close</th>\n",
       "      <th>Volume ETH</th>\n",
       "      <th>Volume USD</th>\n",
       "    </tr>\n",
       "  </thead>\n",
       "  <tbody>\n",
       "    <tr>\n",
       "      <th>0</th>\n",
       "      <td>2020-08-05 03-PM</td>\n",
       "      <td>ETHUSD</td>\n",
       "      <td>394.97</td>\n",
       "      <td>396.41</td>\n",
       "      <td>393.27</td>\n",
       "      <td>396.12</td>\n",
       "      <td>2821.61</td>\n",
       "      <td>1115468.85</td>\n",
       "    </tr>\n",
       "    <tr>\n",
       "      <th>1</th>\n",
       "      <td>2020-08-05 02-PM</td>\n",
       "      <td>ETHUSD</td>\n",
       "      <td>399.52</td>\n",
       "      <td>400.00</td>\n",
       "      <td>390.56</td>\n",
       "      <td>394.97</td>\n",
       "      <td>13497.02</td>\n",
       "      <td>5335869.99</td>\n",
       "    </tr>\n",
       "    <tr>\n",
       "      <th>2</th>\n",
       "      <td>2020-08-05 01-PM</td>\n",
       "      <td>ETHUSD</td>\n",
       "      <td>399.68</td>\n",
       "      <td>402.47</td>\n",
       "      <td>397.75</td>\n",
       "      <td>399.52</td>\n",
       "      <td>12616.77</td>\n",
       "      <td>5042197.51</td>\n",
       "    </tr>\n",
       "    <tr>\n",
       "      <th>3</th>\n",
       "      <td>2020-08-05 12-PM</td>\n",
       "      <td>ETHUSD</td>\n",
       "      <td>397.69</td>\n",
       "      <td>400.89</td>\n",
       "      <td>395.39</td>\n",
       "      <td>399.68</td>\n",
       "      <td>15939.92</td>\n",
       "      <td>6350713.81</td>\n",
       "    </tr>\n",
       "    <tr>\n",
       "      <th>4</th>\n",
       "      <td>2020-08-05 11-AM</td>\n",
       "      <td>ETHUSD</td>\n",
       "      <td>392.80</td>\n",
       "      <td>397.80</td>\n",
       "      <td>392.80</td>\n",
       "      <td>397.69</td>\n",
       "      <td>11127.11</td>\n",
       "      <td>4407241.22</td>\n",
       "    </tr>\n",
       "  </tbody>\n",
       "</table>\n",
       "</div>"
      ],
      "text/plain": [
       "               Date  Symbol    Open    High     Low   Close  Volume ETH  \\\n",
       "0  2020-08-05 03-PM  ETHUSD  394.97  396.41  393.27  396.12     2821.61   \n",
       "1  2020-08-05 02-PM  ETHUSD  399.52  400.00  390.56  394.97    13497.02   \n",
       "2  2020-08-05 01-PM  ETHUSD  399.68  402.47  397.75  399.52    12616.77   \n",
       "3  2020-08-05 12-PM  ETHUSD  397.69  400.89  395.39  399.68    15939.92   \n",
       "4  2020-08-05 11-AM  ETHUSD  392.80  397.80  392.80  397.69    11127.11   \n",
       "\n",
       "   Volume USD  \n",
       "0  1115468.85  \n",
       "1  5335869.99  \n",
       "2  5042197.51  \n",
       "3  6350713.81  \n",
       "4  4407241.22  "
      ]
     },
     "execution_count": 3,
     "metadata": {},
     "output_type": "execute_result"
    }
   ],
   "source": [
    "ethData.head()"
   ]
  },
  {
   "cell_type": "code",
   "execution_count": 4,
   "metadata": {},
   "outputs": [
    {
     "data": {
      "text/plain": [
       "27149"
      ]
     },
     "execution_count": 4,
     "metadata": {},
     "output_type": "execute_result"
    }
   ],
   "source": [
    "ethData.shape[0]"
   ]
  },
  {
   "cell_type": "code",
   "execution_count": 5,
   "metadata": {},
   "outputs": [
    {
     "data": {
      "text/html": [
       "<div>\n",
       "<style scoped>\n",
       "    .dataframe tbody tr th:only-of-type {\n",
       "        vertical-align: middle;\n",
       "    }\n",
       "\n",
       "    .dataframe tbody tr th {\n",
       "        vertical-align: top;\n",
       "    }\n",
       "\n",
       "    .dataframe thead th {\n",
       "        text-align: right;\n",
       "    }\n",
       "</style>\n",
       "<table border=\"1\" class=\"dataframe\">\n",
       "  <thead>\n",
       "    <tr style=\"text-align: right;\">\n",
       "      <th></th>\n",
       "      <th>Open</th>\n",
       "      <th>High</th>\n",
       "      <th>Low</th>\n",
       "      <th>Close</th>\n",
       "      <th>Volume ETH</th>\n",
       "      <th>Volume USD</th>\n",
       "    </tr>\n",
       "  </thead>\n",
       "  <tbody>\n",
       "    <tr>\n",
       "      <th>Open</th>\n",
       "      <td>1.000000</td>\n",
       "      <td>0.999818</td>\n",
       "      <td>0.999747</td>\n",
       "      <td>0.999686</td>\n",
       "      <td>0.033940</td>\n",
       "      <td>0.480830</td>\n",
       "    </tr>\n",
       "    <tr>\n",
       "      <th>High</th>\n",
       "      <td>0.999818</td>\n",
       "      <td>1.000000</td>\n",
       "      <td>0.999602</td>\n",
       "      <td>0.999829</td>\n",
       "      <td>0.041234</td>\n",
       "      <td>0.489963</td>\n",
       "    </tr>\n",
       "    <tr>\n",
       "      <th>Low</th>\n",
       "      <td>0.999747</td>\n",
       "      <td>0.999602</td>\n",
       "      <td>1.000000</td>\n",
       "      <td>0.999796</td>\n",
       "      <td>0.025120</td>\n",
       "      <td>0.469757</td>\n",
       "    </tr>\n",
       "    <tr>\n",
       "      <th>Close</th>\n",
       "      <td>0.999686</td>\n",
       "      <td>0.999829</td>\n",
       "      <td>0.999796</td>\n",
       "      <td>1.000000</td>\n",
       "      <td>0.034066</td>\n",
       "      <td>0.481365</td>\n",
       "    </tr>\n",
       "    <tr>\n",
       "      <th>Volume ETH</th>\n",
       "      <td>0.033940</td>\n",
       "      <td>0.041234</td>\n",
       "      <td>0.025120</td>\n",
       "      <td>0.034066</td>\n",
       "      <td>1.000000</td>\n",
       "      <td>0.706661</td>\n",
       "    </tr>\n",
       "    <tr>\n",
       "      <th>Volume USD</th>\n",
       "      <td>0.480830</td>\n",
       "      <td>0.489963</td>\n",
       "      <td>0.469757</td>\n",
       "      <td>0.481365</td>\n",
       "      <td>0.706661</td>\n",
       "      <td>1.000000</td>\n",
       "    </tr>\n",
       "  </tbody>\n",
       "</table>\n",
       "</div>"
      ],
      "text/plain": [
       "                Open      High       Low     Close  Volume ETH  Volume USD\n",
       "Open        1.000000  0.999818  0.999747  0.999686    0.033940    0.480830\n",
       "High        0.999818  1.000000  0.999602  0.999829    0.041234    0.489963\n",
       "Low         0.999747  0.999602  1.000000  0.999796    0.025120    0.469757\n",
       "Close       0.999686  0.999829  0.999796  1.000000    0.034066    0.481365\n",
       "Volume ETH  0.033940  0.041234  0.025120  0.034066    1.000000    0.706661\n",
       "Volume USD  0.480830  0.489963  0.469757  0.481365    0.706661    1.000000"
      ]
     },
     "execution_count": 5,
     "metadata": {},
     "output_type": "execute_result"
    }
   ],
   "source": [
    "ethData.corr()"
   ]
  },
  {
   "cell_type": "code",
   "execution_count": 6,
   "metadata": {},
   "outputs": [],
   "source": [
    "ethData['Close'] = ethData['Close'].replace(0, method='ffill')\n",
    "ethPrices = ethData['Close'].to_numpy()"
   ]
  },
  {
   "cell_type": "code",
   "execution_count": 7,
   "metadata": {},
   "outputs": [
    {
     "data": {
      "text/plain": [
       "array([396.12, 394.97, 399.52, 399.68, 397.69, 392.8 , 393.27, 390.48,\n",
       "       390.05, 390.5 ])"
      ]
     },
     "execution_count": 7,
     "metadata": {},
     "output_type": "execute_result"
    }
   ],
   "source": [
    "ethPrices[:10]"
   ]
  },
  {
   "cell_type": "code",
   "execution_count": 8,
   "metadata": {},
   "outputs": [
    {
     "name": "stdout",
     "output_type": "stream",
     "text": [
      "(array([], dtype=int64),)\n"
     ]
    },
    {
     "data": {
      "text/plain": [
       "[<matplotlib.lines.Line2D at 0x1b5a57d0ac8>]"
      ]
     },
     "execution_count": 8,
     "metadata": {},
     "output_type": "execute_result"
    },
    {
     "data": {
      "image/png": "[encoded data removed]",
      "text/plain": [
       "<Figure size 432x288 with 1 Axes>"
      ]
     },
     "metadata": {
      "needs_background": "light"
     },
     "output_type": "display_data"
    }
   ],
   "source": [
    "print(np.where(ethPrices == 0))\n",
    "plt.plot(ethPrices)"
   ]
  },
  {
   "cell_type": "code",
   "execution_count": 9,
   "metadata": {},
   "outputs": [],
   "source": [
    "def percent_change(arr):\n",
    "    array = np.copy(arr)\n",
    "    p0 = array[0]\n",
    "    for i in range(len(array)):\n",
    "        p = array[i]\n",
    "        if p0==p:\n",
    "            array[i]=0\n",
    "            continue\n",
    "        elif p0==0:\n",
    "            array[i]=1\n",
    "            p0=p\n",
    "            continue\n",
    "        array[i] = 100 * (p - p0)/p0\n",
    "        p0 = p\n",
    "    return array"
   ]
  },
  {
   "cell_type": "code",
   "execution_count": 10,
   "metadata": {
    "scrolled": true
   },
   "outputs": [
    {
     "data": {
      "text/plain": [
       "[0.7921091798895192,\n",
       " 2.3599999999999994,\n",
       " 1.1727582180038332,\n",
       " 1.3719474169971813,\n",
       " 1.256913021618904,\n",
       " 0.5792094299359752,\n",
       " 0.830518375536545,\n",
       " 0.7220492932591682,\n",
       " 0.7469345093940416,\n",
       " 0.8959618264423029]"
      ]
     },
     "execution_count": 10,
     "metadata": {},
     "output_type": "execute_result"
    }
   ],
   "source": [
    "def price_fluc(df):\n",
    "    fluc = []\n",
    "    for index, row in df.iterrows():\n",
    "        fluc.append(100*(row['High'] - row['Low']) / row['High'])\n",
    "    return fluc\n",
    "price_fluctuations = price_fluc(ethData)\n",
    "\n",
    "price_fluctuations[:10]"
   ]
  },
  {
   "cell_type": "code",
   "execution_count": 11,
   "metadata": {},
   "outputs": [],
   "source": [
    "eth_pct = percent_change(ethPrices)"
   ]
  },
  {
   "cell_type": "code",
   "execution_count": 12,
   "metadata": {},
   "outputs": [
    {
     "data": {
      "text/plain": [
       "Text(0.5, 1.0, 'Price fluctuation for Ethereum')"
      ]
     },
     "execution_count": 12,
     "metadata": {},
     "output_type": "execute_result"
    },
    {
     "data": {
      "image/png": "[encoded data removed]",
      "text/plain": [
       "<Figure size 432x288 with 1 Axes>"
      ]
     },
     "metadata": {
      "needs_background": "light"
     },
     "output_type": "display_data"
    }
   ],
   "source": [
    "plt.plot(eth_pct)\n",
    "plt.ylabel('% Change from previous')\n",
    "plt.title('Price fluctuation for Ethereum')"
   ]
  },
  {
   "cell_type": "code",
   "execution_count": 13,
   "metadata": {},
   "outputs": [
    {
     "name": "stdout",
     "output_type": "stream",
     "text": [
      "0.06822445846835945\n"
     ]
    }
   ],
   "source": [
    "print(eth_pct[1003])"
   ]
  },
  {
   "cell_type": "code",
   "execution_count": 14,
   "metadata": {},
   "outputs": [
    {
     "name": "stdout",
     "output_type": "stream",
     "text": [
      "24.378109452736332\n"
     ]
    }
   ],
   "source": [
    "print(np.max(eth_pct))"
   ]
  },
  {
   "cell_type": "code",
   "execution_count": 15,
   "metadata": {},
   "outputs": [
    {
     "name": "stdout",
     "output_type": "stream",
     "text": [
      "(array([], dtype=int64),)\n"
     ]
    }
   ],
   "source": [
    "print(np.where(eth_pct > 50))#as expected we have no massive fluctuations above 25% "
   ]
  },
  {
   "cell_type": "code",
   "execution_count": 16,
   "metadata": {},
   "outputs": [
    {
     "name": "stdout",
     "output_type": "stream",
     "text": [
      "(array([], dtype=int64),)\n"
     ]
    }
   ],
   "source": [
    "print(np.where(ethPrices == 0)) "
   ]
  },
  {
   "cell_type": "code",
   "execution_count": 17,
   "metadata": {},
   "outputs": [
    {
     "data": {
      "text/plain": [
       "Text(0.5, 1.0, 'Price fluctuation for Ethereum')"
      ]
     },
     "execution_count": 17,
     "metadata": {},
     "output_type": "execute_result"
    },
    {
     "data": {
      "image/png": "[encoded data removed]",
      "text/plain": [
       "<Figure size 432x288 with 1 Axes>"
      ]
     },
     "metadata": {
      "needs_background": "light"
     },
     "output_type": "display_data"
    }
   ],
   "source": [
    "plt.plot(eth_pct[10000:15000])\n",
    "plt.ylabel('% Change from previous')\n",
    "plt.title('Price fluctuation for Ethereum')"
   ]
  },
  {
   "cell_type": "code",
   "execution_count": 18,
   "metadata": {},
   "outputs": [
    {
     "data": {
      "text/plain": [
       "(array([ 3492,  3494,  3510, 22971], dtype=int64),)"
      ]
     },
     "execution_count": 18,
     "metadata": {},
     "output_type": "execute_result"
    }
   ],
   "source": [
    "large_fs = np.where(np.abs(eth_pct)>15)\n",
    "large_fs"
   ]
  },
  {
   "cell_type": "code",
   "execution_count": 19,
   "metadata": {},
   "outputs": [],
   "source": [
    "#ethData.iloc[3492-1:3510+1][['Close', '%Change']]"
   ]
  },
  {
   "cell_type": "code",
   "execution_count": 20,
   "metadata": {},
   "outputs": [
    {
     "data": {
      "text/plain": [
       "0        0.000000\n",
       "1       -0.290316\n",
       "2        1.151986\n",
       "3        0.040048\n",
       "4       -0.497898\n",
       "           ...   \n",
       "27144    1.705224\n",
       "27145   -2.505778\n",
       "27146    1.147738\n",
       "27147    2.247107\n",
       "27148    0.065495\n",
       "Name: %Change, Length: 27149, dtype: float64"
      ]
     },
     "execution_count": 20,
     "metadata": {},
     "output_type": "execute_result"
    }
   ],
   "source": [
    "s = pd.Series(eth_pct, name = '%Change')\n",
    "s"
   ]
  },
  {
   "cell_type": "code",
   "execution_count": 21,
   "metadata": {},
   "outputs": [
    {
     "data": {
      "text/html": [
       "<div>\n",
       "<style scoped>\n",
       "    .dataframe tbody tr th:only-of-type {\n",
       "        vertical-align: middle;\n",
       "    }\n",
       "\n",
       "    .dataframe tbody tr th {\n",
       "        vertical-align: top;\n",
       "    }\n",
       "\n",
       "    .dataframe thead th {\n",
       "        text-align: right;\n",
       "    }\n",
       "</style>\n",
       "<table border=\"1\" class=\"dataframe\">\n",
       "  <thead>\n",
       "    <tr style=\"text-align: right;\">\n",
       "      <th></th>\n",
       "      <th>Date</th>\n",
       "      <th>Symbol</th>\n",
       "      <th>Open</th>\n",
       "      <th>High</th>\n",
       "      <th>Low</th>\n",
       "      <th>Close</th>\n",
       "      <th>Volume ETH</th>\n",
       "      <th>Volume USD</th>\n",
       "      <th>%Change</th>\n",
       "      <th>%Fluc</th>\n",
       "    </tr>\n",
       "  </thead>\n",
       "  <tbody>\n",
       "    <tr>\n",
       "      <th>0</th>\n",
       "      <td>2020-08-05 03-PM</td>\n",
       "      <td>ETHUSD</td>\n",
       "      <td>394.97</td>\n",
       "      <td>396.41</td>\n",
       "      <td>393.27</td>\n",
       "      <td>396.12</td>\n",
       "      <td>2821.61</td>\n",
       "      <td>1115468.85</td>\n",
       "      <td>0.000000</td>\n",
       "      <td>0.792109</td>\n",
       "    </tr>\n",
       "    <tr>\n",
       "      <th>1</th>\n",
       "      <td>2020-08-05 02-PM</td>\n",
       "      <td>ETHUSD</td>\n",
       "      <td>399.52</td>\n",
       "      <td>400.00</td>\n",
       "      <td>390.56</td>\n",
       "      <td>394.97</td>\n",
       "      <td>13497.02</td>\n",
       "      <td>5335869.99</td>\n",
       "      <td>-0.290316</td>\n",
       "      <td>2.360000</td>\n",
       "    </tr>\n",
       "    <tr>\n",
       "      <th>2</th>\n",
       "      <td>2020-08-05 01-PM</td>\n",
       "      <td>ETHUSD</td>\n",
       "      <td>399.68</td>\n",
       "      <td>402.47</td>\n",
       "      <td>397.75</td>\n",
       "      <td>399.52</td>\n",
       "      <td>12616.77</td>\n",
       "      <td>5042197.51</td>\n",
       "      <td>1.151986</td>\n",
       "      <td>1.172758</td>\n",
       "    </tr>\n",
       "    <tr>\n",
       "      <th>3</th>\n",
       "      <td>2020-08-05 12-PM</td>\n",
       "      <td>ETHUSD</td>\n",
       "      <td>397.69</td>\n",
       "      <td>400.89</td>\n",
       "      <td>395.39</td>\n",
       "      <td>399.68</td>\n",
       "      <td>15939.92</td>\n",
       "      <td>6350713.81</td>\n",
       "      <td>0.040048</td>\n",
       "      <td>1.371947</td>\n",
       "    </tr>\n",
       "    <tr>\n",
       "      <th>4</th>\n",
       "      <td>2020-08-05 11-AM</td>\n",
       "      <td>ETHUSD</td>\n",
       "      <td>392.80</td>\n",
       "      <td>397.80</td>\n",
       "      <td>392.80</td>\n",
       "      <td>397.69</td>\n",
       "      <td>11127.11</td>\n",
       "      <td>4407241.22</td>\n",
       "      <td>-0.497898</td>\n",
       "      <td>1.256913</td>\n",
       "    </tr>\n",
       "  </tbody>\n",
       "</table>\n",
       "</div>"
      ],
      "text/plain": [
       "               Date  Symbol    Open    High     Low   Close  Volume ETH  \\\n",
       "0  2020-08-05 03-PM  ETHUSD  394.97  396.41  393.27  396.12     2821.61   \n",
       "1  2020-08-05 02-PM  ETHUSD  399.52  400.00  390.56  394.97    13497.02   \n",
       "2  2020-08-05 01-PM  ETHUSD  399.68  402.47  397.75  399.52    12616.77   \n",
       "3  2020-08-05 12-PM  ETHUSD  397.69  400.89  395.39  399.68    15939.92   \n",
       "4  2020-08-05 11-AM  ETHUSD  392.80  397.80  392.80  397.69    11127.11   \n",
       "\n",
       "   Volume USD   %Change     %Fluc  \n",
       "0  1115468.85  0.000000  0.792109  \n",
       "1  5335869.99 -0.290316  2.360000  \n",
       "2  5042197.51  1.151986  1.172758  \n",
       "3  6350713.81  0.040048  1.371947  \n",
       "4  4407241.22 -0.497898  1.256913  "
      ]
     },
     "execution_count": 21,
     "metadata": {},
     "output_type": "execute_result"
    }
   ],
   "source": [
    "ethData['%Change'] = s\n",
    "ethData['%Fluc'] = pd.Series(price_fluctuations, name='%Fluc')\n",
    "ethData.head()"
   ]
  },
  {
   "cell_type": "code",
   "execution_count": 22,
   "metadata": {},
   "outputs": [
    {
     "name": "stdout",
     "output_type": "stream",
     "text": [
      "[1, 0, 1, 1, 0, 0, 1, 0, 0, 1]\n"
     ]
    },
    {
     "data": {
      "text/html": [
       "<div>\n",
       "<style scoped>\n",
       "    .dataframe tbody tr th:only-of-type {\n",
       "        vertical-align: middle;\n",
       "    }\n",
       "\n",
       "    .dataframe tbody tr th {\n",
       "        vertical-align: top;\n",
       "    }\n",
       "\n",
       "    .dataframe thead th {\n",
       "        text-align: right;\n",
       "    }\n",
       "</style>\n",
       "<table border=\"1\" class=\"dataframe\">\n",
       "  <thead>\n",
       "    <tr style=\"text-align: right;\">\n",
       "      <th></th>\n",
       "      <th>Date</th>\n",
       "      <th>Symbol</th>\n",
       "      <th>Open</th>\n",
       "      <th>High</th>\n",
       "      <th>Low</th>\n",
       "      <th>Close</th>\n",
       "      <th>Volume ETH</th>\n",
       "      <th>Volume USD</th>\n",
       "      <th>%Change</th>\n",
       "      <th>%Fluc</th>\n",
       "      <th>Gradient</th>\n",
       "    </tr>\n",
       "  </thead>\n",
       "  <tbody>\n",
       "    <tr>\n",
       "      <th>0</th>\n",
       "      <td>2020-08-05 03-PM</td>\n",
       "      <td>ETHUSD</td>\n",
       "      <td>394.97</td>\n",
       "      <td>396.41</td>\n",
       "      <td>393.27</td>\n",
       "      <td>396.12</td>\n",
       "      <td>2821.61</td>\n",
       "      <td>1115468.85</td>\n",
       "      <td>0.000000</td>\n",
       "      <td>0.792109</td>\n",
       "      <td>1</td>\n",
       "    </tr>\n",
       "    <tr>\n",
       "      <th>1</th>\n",
       "      <td>2020-08-05 02-PM</td>\n",
       "      <td>ETHUSD</td>\n",
       "      <td>399.52</td>\n",
       "      <td>400.00</td>\n",
       "      <td>390.56</td>\n",
       "      <td>394.97</td>\n",
       "      <td>13497.02</td>\n",
       "      <td>5335869.99</td>\n",
       "      <td>-0.290316</td>\n",
       "      <td>2.360000</td>\n",
       "      <td>0</td>\n",
       "    </tr>\n",
       "    <tr>\n",
       "      <th>2</th>\n",
       "      <td>2020-08-05 01-PM</td>\n",
       "      <td>ETHUSD</td>\n",
       "      <td>399.68</td>\n",
       "      <td>402.47</td>\n",
       "      <td>397.75</td>\n",
       "      <td>399.52</td>\n",
       "      <td>12616.77</td>\n",
       "      <td>5042197.51</td>\n",
       "      <td>1.151986</td>\n",
       "      <td>1.172758</td>\n",
       "      <td>1</td>\n",
       "    </tr>\n",
       "    <tr>\n",
       "      <th>3</th>\n",
       "      <td>2020-08-05 12-PM</td>\n",
       "      <td>ETHUSD</td>\n",
       "      <td>397.69</td>\n",
       "      <td>400.89</td>\n",
       "      <td>395.39</td>\n",
       "      <td>399.68</td>\n",
       "      <td>15939.92</td>\n",
       "      <td>6350713.81</td>\n",
       "      <td>0.040048</td>\n",
       "      <td>1.371947</td>\n",
       "      <td>1</td>\n",
       "    </tr>\n",
       "    <tr>\n",
       "      <th>4</th>\n",
       "      <td>2020-08-05 11-AM</td>\n",
       "      <td>ETHUSD</td>\n",
       "      <td>392.80</td>\n",
       "      <td>397.80</td>\n",
       "      <td>392.80</td>\n",
       "      <td>397.69</td>\n",
       "      <td>11127.11</td>\n",
       "      <td>4407241.22</td>\n",
       "      <td>-0.497898</td>\n",
       "      <td>1.256913</td>\n",
       "      <td>0</td>\n",
       "    </tr>\n",
       "  </tbody>\n",
       "</table>\n",
       "</div>"
      ],
      "text/plain": [
       "               Date  Symbol    Open    High     Low   Close  Volume ETH  \\\n",
       "0  2020-08-05 03-PM  ETHUSD  394.97  396.41  393.27  396.12     2821.61   \n",
       "1  2020-08-05 02-PM  ETHUSD  399.52  400.00  390.56  394.97    13497.02   \n",
       "2  2020-08-05 01-PM  ETHUSD  399.68  402.47  397.75  399.52    12616.77   \n",
       "3  2020-08-05 12-PM  ETHUSD  397.69  400.89  395.39  399.68    15939.92   \n",
       "4  2020-08-05 11-AM  ETHUSD  392.80  397.80  392.80  397.69    11127.11   \n",
       "\n",
       "   Volume USD   %Change     %Fluc  Gradient  \n",
       "0  1115468.85  0.000000  0.792109         1  \n",
       "1  5335869.99 -0.290316  2.360000         0  \n",
       "2  5042197.51  1.151986  1.172758         1  \n",
       "3  6350713.81  0.040048  1.371947         1  \n",
       "4  4407241.22 -0.497898  1.256913         0  "
      ]
     },
     "execution_count": 22,
     "metadata": {},
     "output_type": "execute_result"
    }
   ],
   "source": [
    "grad = []\n",
    "for change in ethData['%Change']:\n",
    "    if change < 0:\n",
    "        grad.append(0)\n",
    "    else:\n",
    "        grad.append(1)\n",
    "print(grad[:10])\n",
    "ethData['Gradient'] = pd.Series(grad, name = 'Gradient')\n",
    "ethData.head()"
   ]
  },
  {
   "cell_type": "code",
   "execution_count": 23,
   "metadata": {},
   "outputs": [
    {
     "data": {
      "text/html": [
       "<div>\n",
       "<style scoped>\n",
       "    .dataframe tbody tr th:only-of-type {\n",
       "        vertical-align: middle;\n",
       "    }\n",
       "\n",
       "    .dataframe tbody tr th {\n",
       "        vertical-align: top;\n",
       "    }\n",
       "\n",
       "    .dataframe thead th {\n",
       "        text-align: right;\n",
       "    }\n",
       "</style>\n",
       "<table border=\"1\" class=\"dataframe\">\n",
       "  <thead>\n",
       "    <tr style=\"text-align: right;\">\n",
       "      <th></th>\n",
       "      <th>Open</th>\n",
       "      <th>High</th>\n",
       "      <th>Low</th>\n",
       "      <th>Close</th>\n",
       "      <th>Volume ETH</th>\n",
       "      <th>Volume USD</th>\n",
       "      <th>%Change</th>\n",
       "      <th>%Fluc</th>\n",
       "      <th>Gradient</th>\n",
       "    </tr>\n",
       "  </thead>\n",
       "  <tbody>\n",
       "    <tr>\n",
       "      <th>Open</th>\n",
       "      <td>1.000000</td>\n",
       "      <td>0.999818</td>\n",
       "      <td>0.999747</td>\n",
       "      <td>0.999686</td>\n",
       "      <td>0.033940</td>\n",
       "      <td>0.480830</td>\n",
       "      <td>0.011134</td>\n",
       "      <td>0.162989</td>\n",
       "      <td>-0.009225</td>\n",
       "    </tr>\n",
       "    <tr>\n",
       "      <th>High</th>\n",
       "      <td>0.999818</td>\n",
       "      <td>1.000000</td>\n",
       "      <td>0.999602</td>\n",
       "      <td>0.999829</td>\n",
       "      <td>0.041234</td>\n",
       "      <td>0.489963</td>\n",
       "      <td>0.011320</td>\n",
       "      <td>0.172234</td>\n",
       "      <td>-0.008712</td>\n",
       "    </tr>\n",
       "    <tr>\n",
       "      <th>Low</th>\n",
       "      <td>0.999747</td>\n",
       "      <td>0.999602</td>\n",
       "      <td>1.000000</td>\n",
       "      <td>0.999796</td>\n",
       "      <td>0.025120</td>\n",
       "      <td>0.469757</td>\n",
       "      <td>0.011980</td>\n",
       "      <td>0.150516</td>\n",
       "      <td>-0.008433</td>\n",
       "    </tr>\n",
       "    <tr>\n",
       "      <th>Close</th>\n",
       "      <td>0.999686</td>\n",
       "      <td>0.999829</td>\n",
       "      <td>0.999796</td>\n",
       "      <td>1.000000</td>\n",
       "      <td>0.034066</td>\n",
       "      <td>0.481365</td>\n",
       "      <td>0.011776</td>\n",
       "      <td>0.162144</td>\n",
       "      <td>-0.008003</td>\n",
       "    </tr>\n",
       "    <tr>\n",
       "      <th>Volume ETH</th>\n",
       "      <td>0.033940</td>\n",
       "      <td>0.041234</td>\n",
       "      <td>0.025120</td>\n",
       "      <td>0.034066</td>\n",
       "      <td>1.000000</td>\n",
       "      <td>0.706661</td>\n",
       "      <td>-0.018850</td>\n",
       "      <td>0.827085</td>\n",
       "      <td>-0.010901</td>\n",
       "    </tr>\n",
       "    <tr>\n",
       "      <th>Volume USD</th>\n",
       "      <td>0.480830</td>\n",
       "      <td>0.489963</td>\n",
       "      <td>0.469757</td>\n",
       "      <td>0.481365</td>\n",
       "      <td>0.706661</td>\n",
       "      <td>1.000000</td>\n",
       "      <td>-0.021929</td>\n",
       "      <td>0.700356</td>\n",
       "      <td>-0.012133</td>\n",
       "    </tr>\n",
       "    <tr>\n",
       "      <th>%Change</th>\n",
       "      <td>0.011134</td>\n",
       "      <td>0.011320</td>\n",
       "      <td>0.011980</td>\n",
       "      <td>0.011776</td>\n",
       "      <td>-0.018850</td>\n",
       "      <td>-0.021929</td>\n",
       "      <td>1.000000</td>\n",
       "      <td>-0.017893</td>\n",
       "      <td>0.593376</td>\n",
       "    </tr>\n",
       "    <tr>\n",
       "      <th>%Fluc</th>\n",
       "      <td>0.162989</td>\n",
       "      <td>0.172234</td>\n",
       "      <td>0.150516</td>\n",
       "      <td>0.162144</td>\n",
       "      <td>0.827085</td>\n",
       "      <td>0.700356</td>\n",
       "      <td>-0.017893</td>\n",
       "      <td>1.000000</td>\n",
       "      <td>-0.013479</td>\n",
       "    </tr>\n",
       "    <tr>\n",
       "      <th>Gradient</th>\n",
       "      <td>-0.009225</td>\n",
       "      <td>-0.008712</td>\n",
       "      <td>-0.008433</td>\n",
       "      <td>-0.008003</td>\n",
       "      <td>-0.010901</td>\n",
       "      <td>-0.012133</td>\n",
       "      <td>0.593376</td>\n",
       "      <td>-0.013479</td>\n",
       "      <td>1.000000</td>\n",
       "    </tr>\n",
       "  </tbody>\n",
       "</table>\n",
       "</div>"
      ],
      "text/plain": [
       "                Open      High       Low     Close  Volume ETH  Volume USD  \\\n",
       "Open        1.000000  0.999818  0.999747  0.999686    0.033940    0.480830   \n",
       "High        0.999818  1.000000  0.999602  0.999829    0.041234    0.489963   \n",
       "Low         0.999747  0.999602  1.000000  0.999796    0.025120    0.469757   \n",
       "Close       0.999686  0.999829  0.999796  1.000000    0.034066    0.481365   \n",
       "Volume ETH  0.033940  0.041234  0.025120  0.034066    1.000000    0.706661   \n",
       "Volume USD  0.480830  0.489963  0.469757  0.481365    0.706661    1.000000   \n",
       "%Change     0.011134  0.011320  0.011980  0.011776   -0.018850   -0.021929   \n",
       "%Fluc       0.162989  0.172234  0.150516  0.162144    0.827085    0.700356   \n",
       "Gradient   -0.009225 -0.008712 -0.008433 -0.008003   -0.010901   -0.012133   \n",
       "\n",
       "             %Change     %Fluc  Gradient  \n",
       "Open        0.011134  0.162989 -0.009225  \n",
       "High        0.011320  0.172234 -0.008712  \n",
       "Low         0.011980  0.150516 -0.008433  \n",
       "Close       0.011776  0.162144 -0.008003  \n",
       "Volume ETH -0.018850  0.827085 -0.010901  \n",
       "Volume USD -0.021929  0.700356 -0.012133  \n",
       "%Change     1.000000 -0.017893  0.593376  \n",
       "%Fluc      -0.017893  1.000000 -0.013479  \n",
       "Gradient    0.593376 -0.013479  1.000000  "
      ]
     },
     "execution_count": 23,
     "metadata": {},
     "output_type": "execute_result"
    }
   ],
   "source": [
    "ethData.corr()"
   ]
  },
  {
   "cell_type": "code",
   "execution_count": 24,
   "metadata": {
    "scrolled": true
   },
   "outputs": [
    {
     "data": {
      "image/png": "[encoded data removed]",
      "text/plain": [
       "<Figure size 432x288 with 3 Axes>"
      ]
     },
     "metadata": {
      "needs_background": "light"
     },
     "output_type": "display_data"
    }
   ],
   "source": [
    "plt.subplot(311)\n",
    "plt.plot(ethData['Open'][3450:3500])\n",
    "plt.subplot(312)\n",
    "plt.plot(ethData['%Change'][3450:3500])\n",
    "plt.subplot(313)\n",
    "plt.plot(ethData['Gradient'][3450:3500])\n",
    "plt.show()"
   ]
  },
  {
   "cell_type": "markdown",
   "metadata": {},
   "source": [
    "## Batch and Split the data into sets\n",
    "\n",
    "We'll want to create a sequence of % changes with a given sequence_length variable and a gradient target classifier."
   ]
  },
  {
   "cell_type": "code",
   "execution_count": 25,
   "metadata": {},
   "outputs": [],
   "source": [
    "#DEFINE SEQUENCE LENGTH\n",
    "seq_len=7"
   ]
  },
  {
   "cell_type": "code",
   "execution_count": 26,
   "metadata": {},
   "outputs": [
    {
     "data": {
      "text/plain": [
       "[array([ 0.        , -0.29031607,  1.15198623,  0.04004806, -0.49789832,\n",
       "        -1.22960095,  0.11965377]),\n",
       " 0]"
      ]
     },
     "execution_count": 26,
     "metadata": {},
     "output_type": "execute_result"
    }
   ],
   "source": [
    "def create_targets(dataset, sequence_length):\n",
    "    mLData = []\n",
    "    for i in range(sequence_length, dataset.shape[0]):\n",
    "        mLData.append([dataset['%Change'][i-sequence_length:i].to_numpy(),dataset['Gradient'][i]])\n",
    "    return mLData\n",
    "\n",
    "#create the data into sequences with the correct targets\n",
    "\n",
    "input_data = create_targets(ethData,seq_len)\n",
    "\n",
    "input_data[0]"
   ]
  },
  {
   "cell_type": "code",
   "execution_count": 27,
   "metadata": {},
   "outputs": [],
   "source": [
    "#Randomize the list\n",
    "import random\n",
    "random.shuffle(input_data)"
   ]
  },
  {
   "cell_type": "code",
   "execution_count": 28,
   "metadata": {},
   "outputs": [],
   "source": [
    "n=len(input_data)\n",
    "train=int(0.7*n)\n",
    "valid=int(0.2*n)\n",
    "test=int(0.1*n)\n",
    "train_data=input_data[:train]\n",
    "valid_data=input_data[train:train+valid]\n",
    "test_data=input_data[-test:]\n"
   ]
  },
  {
   "cell_type": "code",
   "execution_count": 29,
   "metadata": {},
   "outputs": [
    {
     "name": "stdout",
     "output_type": "stream",
     "text": [
      "27142\n",
      "[array([ 0.92354215,  0.57901769, -0.29388084, -0.78330036, -0.93191714,\n",
      "        1.92244496,  0.90278897]), 1]\n",
      "[array([ 0.35592617,  0.06079951,  0.41014735,  0.38830055, -0.41191541,\n",
      "        0.56998739,  0.62192798]), 1]\n",
      "[array([-1.71486015,  0.1835028 , -1.06597003,  0.46133301,  0.60422961,\n",
      "        0.69069069,  0.0029824 ]), 0]\n"
     ]
    }
   ],
   "source": [
    "print(len(input_data))\n",
    "for i in range(3):\n",
    "    print(input_data[i])"
   ]
  },
  {
   "cell_type": "code",
   "execution_count": 30,
   "metadata": {},
   "outputs": [
    {
     "data": {
      "text/html": [
       "<div>\n",
       "<style scoped>\n",
       "    .dataframe tbody tr th:only-of-type {\n",
       "        vertical-align: middle;\n",
       "    }\n",
       "\n",
       "    .dataframe tbody tr th {\n",
       "        vertical-align: top;\n",
       "    }\n",
       "\n",
       "    .dataframe thead th {\n",
       "        text-align: right;\n",
       "    }\n",
       "</style>\n",
       "<table border=\"1\" class=\"dataframe\">\n",
       "  <thead>\n",
       "    <tr style=\"text-align: right;\">\n",
       "      <th></th>\n",
       "      <th>Date</th>\n",
       "      <th>Symbol</th>\n",
       "      <th>Open</th>\n",
       "      <th>High</th>\n",
       "      <th>Low</th>\n",
       "      <th>Close</th>\n",
       "      <th>Volume ETH</th>\n",
       "      <th>Volume USD</th>\n",
       "      <th>%Change</th>\n",
       "      <th>%Fluc</th>\n",
       "      <th>Gradient</th>\n",
       "    </tr>\n",
       "  </thead>\n",
       "  <tbody>\n",
       "    <tr>\n",
       "      <th>0</th>\n",
       "      <td>2020-08-05 03-PM</td>\n",
       "      <td>ETHUSD</td>\n",
       "      <td>394.97</td>\n",
       "      <td>396.41</td>\n",
       "      <td>393.27</td>\n",
       "      <td>396.12</td>\n",
       "      <td>2821.61</td>\n",
       "      <td>1115468.85</td>\n",
       "      <td>0.000000</td>\n",
       "      <td>0.792109</td>\n",
       "      <td>1</td>\n",
       "    </tr>\n",
       "    <tr>\n",
       "      <th>1</th>\n",
       "      <td>2020-08-05 02-PM</td>\n",
       "      <td>ETHUSD</td>\n",
       "      <td>399.52</td>\n",
       "      <td>400.00</td>\n",
       "      <td>390.56</td>\n",
       "      <td>394.97</td>\n",
       "      <td>13497.02</td>\n",
       "      <td>5335869.99</td>\n",
       "      <td>-0.290316</td>\n",
       "      <td>2.360000</td>\n",
       "      <td>0</td>\n",
       "    </tr>\n",
       "    <tr>\n",
       "      <th>2</th>\n",
       "      <td>2020-08-05 01-PM</td>\n",
       "      <td>ETHUSD</td>\n",
       "      <td>399.68</td>\n",
       "      <td>402.47</td>\n",
       "      <td>397.75</td>\n",
       "      <td>399.52</td>\n",
       "      <td>12616.77</td>\n",
       "      <td>5042197.51</td>\n",
       "      <td>1.151986</td>\n",
       "      <td>1.172758</td>\n",
       "      <td>1</td>\n",
       "    </tr>\n",
       "    <tr>\n",
       "      <th>3</th>\n",
       "      <td>2020-08-05 12-PM</td>\n",
       "      <td>ETHUSD</td>\n",
       "      <td>397.69</td>\n",
       "      <td>400.89</td>\n",
       "      <td>395.39</td>\n",
       "      <td>399.68</td>\n",
       "      <td>15939.92</td>\n",
       "      <td>6350713.81</td>\n",
       "      <td>0.040048</td>\n",
       "      <td>1.371947</td>\n",
       "      <td>1</td>\n",
       "    </tr>\n",
       "    <tr>\n",
       "      <th>4</th>\n",
       "      <td>2020-08-05 11-AM</td>\n",
       "      <td>ETHUSD</td>\n",
       "      <td>392.80</td>\n",
       "      <td>397.80</td>\n",
       "      <td>392.80</td>\n",
       "      <td>397.69</td>\n",
       "      <td>11127.11</td>\n",
       "      <td>4407241.22</td>\n",
       "      <td>-0.497898</td>\n",
       "      <td>1.256913</td>\n",
       "      <td>0</td>\n",
       "    </tr>\n",
       "    <tr>\n",
       "      <th>5</th>\n",
       "      <td>2020-08-05 10-AM</td>\n",
       "      <td>ETHUSD</td>\n",
       "      <td>393.27</td>\n",
       "      <td>393.64</td>\n",
       "      <td>391.36</td>\n",
       "      <td>392.80</td>\n",
       "      <td>2310.82</td>\n",
       "      <td>906502.29</td>\n",
       "      <td>-1.229601</td>\n",
       "      <td>0.579209</td>\n",
       "      <td>0</td>\n",
       "    </tr>\n",
       "    <tr>\n",
       "      <th>6</th>\n",
       "      <td>2020-08-05 09-AM</td>\n",
       "      <td>ETHUSD</td>\n",
       "      <td>390.48</td>\n",
       "      <td>393.73</td>\n",
       "      <td>390.46</td>\n",
       "      <td>393.27</td>\n",
       "      <td>3268.82</td>\n",
       "      <td>1282693.38</td>\n",
       "      <td>0.119654</td>\n",
       "      <td>0.830518</td>\n",
       "      <td>1</td>\n",
       "    </tr>\n",
       "  </tbody>\n",
       "</table>\n",
       "</div>"
      ],
      "text/plain": [
       "               Date  Symbol    Open    High     Low   Close  Volume ETH  \\\n",
       "0  2020-08-05 03-PM  ETHUSD  394.97  396.41  393.27  396.12     2821.61   \n",
       "1  2020-08-05 02-PM  ETHUSD  399.52  400.00  390.56  394.97    13497.02   \n",
       "2  2020-08-05 01-PM  ETHUSD  399.68  402.47  397.75  399.52    12616.77   \n",
       "3  2020-08-05 12-PM  ETHUSD  397.69  400.89  395.39  399.68    15939.92   \n",
       "4  2020-08-05 11-AM  ETHUSD  392.80  397.80  392.80  397.69    11127.11   \n",
       "5  2020-08-05 10-AM  ETHUSD  393.27  393.64  391.36  392.80     2310.82   \n",
       "6  2020-08-05 09-AM  ETHUSD  390.48  393.73  390.46  393.27     3268.82   \n",
       "\n",
       "   Volume USD   %Change     %Fluc  Gradient  \n",
       "0  1115468.85  0.000000  0.792109         1  \n",
       "1  5335869.99 -0.290316  2.360000         0  \n",
       "2  5042197.51  1.151986  1.172758         1  \n",
       "3  6350713.81  0.040048  1.371947         1  \n",
       "4  4407241.22 -0.497898  1.256913         0  \n",
       "5   906502.29 -1.229601  0.579209         0  \n",
       "6  1282693.38  0.119654  0.830518         1  "
      ]
     },
     "execution_count": 30,
     "metadata": {},
     "output_type": "execute_result"
    }
   ],
   "source": [
    "ethData.head(7)"
   ]
  },
  {
   "cell_type": "code",
   "execution_count": 31,
   "metadata": {},
   "outputs": [
    {
     "data": {
      "text/html": [
       "<div>\n",
       "<style scoped>\n",
       "    .dataframe tbody tr th:only-of-type {\n",
       "        vertical-align: middle;\n",
       "    }\n",
       "\n",
       "    .dataframe tbody tr th {\n",
       "        vertical-align: top;\n",
       "    }\n",
       "\n",
       "    .dataframe thead th {\n",
       "        text-align: right;\n",
       "    }\n",
       "</style>\n",
       "<table border=\"1\" class=\"dataframe\">\n",
       "  <thead>\n",
       "    <tr style=\"text-align: right;\">\n",
       "      <th></th>\n",
       "      <th>Open</th>\n",
       "      <th>High</th>\n",
       "      <th>Low</th>\n",
       "      <th>Close</th>\n",
       "      <th>Volume ETH</th>\n",
       "      <th>Volume USD</th>\n",
       "      <th>%Change</th>\n",
       "      <th>%Fluc</th>\n",
       "      <th>Gradient</th>\n",
       "    </tr>\n",
       "  </thead>\n",
       "  <tbody>\n",
       "    <tr>\n",
       "      <th>Open</th>\n",
       "      <td>1.000000</td>\n",
       "      <td>0.999818</td>\n",
       "      <td>0.999747</td>\n",
       "      <td>0.999686</td>\n",
       "      <td>0.033940</td>\n",
       "      <td>0.480830</td>\n",
       "      <td>0.011134</td>\n",
       "      <td>0.162989</td>\n",
       "      <td>-0.009225</td>\n",
       "    </tr>\n",
       "    <tr>\n",
       "      <th>High</th>\n",
       "      <td>0.999818</td>\n",
       "      <td>1.000000</td>\n",
       "      <td>0.999602</td>\n",
       "      <td>0.999829</td>\n",
       "      <td>0.041234</td>\n",
       "      <td>0.489963</td>\n",
       "      <td>0.011320</td>\n",
       "      <td>0.172234</td>\n",
       "      <td>-0.008712</td>\n",
       "    </tr>\n",
       "    <tr>\n",
       "      <th>Low</th>\n",
       "      <td>0.999747</td>\n",
       "      <td>0.999602</td>\n",
       "      <td>1.000000</td>\n",
       "      <td>0.999796</td>\n",
       "      <td>0.025120</td>\n",
       "      <td>0.469757</td>\n",
       "      <td>0.011980</td>\n",
       "      <td>0.150516</td>\n",
       "      <td>-0.008433</td>\n",
       "    </tr>\n",
       "    <tr>\n",
       "      <th>Close</th>\n",
       "      <td>0.999686</td>\n",
       "      <td>0.999829</td>\n",
       "      <td>0.999796</td>\n",
       "      <td>1.000000</td>\n",
       "      <td>0.034066</td>\n",
       "      <td>0.481365</td>\n",
       "      <td>0.011776</td>\n",
       "      <td>0.162144</td>\n",
       "      <td>-0.008003</td>\n",
       "    </tr>\n",
       "    <tr>\n",
       "      <th>Volume ETH</th>\n",
       "      <td>0.033940</td>\n",
       "      <td>0.041234</td>\n",
       "      <td>0.025120</td>\n",
       "      <td>0.034066</td>\n",
       "      <td>1.000000</td>\n",
       "      <td>0.706661</td>\n",
       "      <td>-0.018850</td>\n",
       "      <td>0.827085</td>\n",
       "      <td>-0.010901</td>\n",
       "    </tr>\n",
       "    <tr>\n",
       "      <th>Volume USD</th>\n",
       "      <td>0.480830</td>\n",
       "      <td>0.489963</td>\n",
       "      <td>0.469757</td>\n",
       "      <td>0.481365</td>\n",
       "      <td>0.706661</td>\n",
       "      <td>1.000000</td>\n",
       "      <td>-0.021929</td>\n",
       "      <td>0.700356</td>\n",
       "      <td>-0.012133</td>\n",
       "    </tr>\n",
       "    <tr>\n",
       "      <th>%Change</th>\n",
       "      <td>0.011134</td>\n",
       "      <td>0.011320</td>\n",
       "      <td>0.011980</td>\n",
       "      <td>0.011776</td>\n",
       "      <td>-0.018850</td>\n",
       "      <td>-0.021929</td>\n",
       "      <td>1.000000</td>\n",
       "      <td>-0.017893</td>\n",
       "      <td>0.593376</td>\n",
       "    </tr>\n",
       "    <tr>\n",
       "      <th>%Fluc</th>\n",
       "      <td>0.162989</td>\n",
       "      <td>0.172234</td>\n",
       "      <td>0.150516</td>\n",
       "      <td>0.162144</td>\n",
       "      <td>0.827085</td>\n",
       "      <td>0.700356</td>\n",
       "      <td>-0.017893</td>\n",
       "      <td>1.000000</td>\n",
       "      <td>-0.013479</td>\n",
       "    </tr>\n",
       "    <tr>\n",
       "      <th>Gradient</th>\n",
       "      <td>-0.009225</td>\n",
       "      <td>-0.008712</td>\n",
       "      <td>-0.008433</td>\n",
       "      <td>-0.008003</td>\n",
       "      <td>-0.010901</td>\n",
       "      <td>-0.012133</td>\n",
       "      <td>0.593376</td>\n",
       "      <td>-0.013479</td>\n",
       "      <td>1.000000</td>\n",
       "    </tr>\n",
       "  </tbody>\n",
       "</table>\n",
       "</div>"
      ],
      "text/plain": [
       "                Open      High       Low     Close  Volume ETH  Volume USD  \\\n",
       "Open        1.000000  0.999818  0.999747  0.999686    0.033940    0.480830   \n",
       "High        0.999818  1.000000  0.999602  0.999829    0.041234    0.489963   \n",
       "Low         0.999747  0.999602  1.000000  0.999796    0.025120    0.469757   \n",
       "Close       0.999686  0.999829  0.999796  1.000000    0.034066    0.481365   \n",
       "Volume ETH  0.033940  0.041234  0.025120  0.034066    1.000000    0.706661   \n",
       "Volume USD  0.480830  0.489963  0.469757  0.481365    0.706661    1.000000   \n",
       "%Change     0.011134  0.011320  0.011980  0.011776   -0.018850   -0.021929   \n",
       "%Fluc       0.162989  0.172234  0.150516  0.162144    0.827085    0.700356   \n",
       "Gradient   -0.009225 -0.008712 -0.008433 -0.008003   -0.010901   -0.012133   \n",
       "\n",
       "             %Change     %Fluc  Gradient  \n",
       "Open        0.011134  0.162989 -0.009225  \n",
       "High        0.011320  0.172234 -0.008712  \n",
       "Low         0.011980  0.150516 -0.008433  \n",
       "Close       0.011776  0.162144 -0.008003  \n",
       "Volume ETH -0.018850  0.827085 -0.010901  \n",
       "Volume USD -0.021929  0.700356 -0.012133  \n",
       "%Change     1.000000 -0.017893  0.593376  \n",
       "%Fluc      -0.017893  1.000000 -0.013479  \n",
       "Gradient    0.593376 -0.013479  1.000000  "
      ]
     },
     "execution_count": 31,
     "metadata": {},
     "output_type": "execute_result"
    }
   ],
   "source": [
    "ethData.corr()"
   ]
  },
  {
   "cell_type": "markdown",
   "metadata": {},
   "source": [
    "The data looks like it checks out, and correct next gradient given a previous sequence of 5"
   ]
  },
  {
   "cell_type": "markdown",
   "metadata": {},
   "source": [
    "## Attempting pattern recognition with a very simple model\n",
    "\n",
    "Next we can try to predict the gradient with a fully connected neural network. This will likely be innacurate but is a good litmus test for how our data behaves "
   ]
  },
  {
   "cell_type": "code",
   "execution_count": 32,
   "metadata": {},
   "outputs": [],
   "source": [
    "from torch import nn\n",
    "import torch"
   ]
  },
  {
   "cell_type": "code",
   "execution_count": 33,
   "metadata": {},
   "outputs": [],
   "source": [
    "#TODO: fix error when specifying larger batch size than 1 --- FIXED\n",
    "batch_size=32\n",
    "\n",
    "trainLoader = torch.utils.data.DataLoader(train_data,batch_size = batch_size, shuffle=True)\n",
    "validLoader = torch.utils.data.DataLoader(valid_data,batch_size = batch_size, shuffle=True)\n",
    "testLoader = torch.utils.data.DataLoader(test_data,batch_size = batch_size, shuffle=True)"
   ]
  },
  {
   "cell_type": "code",
   "execution_count": 34,
   "metadata": {},
   "outputs": [
    {
     "data": {
      "text/plain": [
       "Sequential(\n",
       "  (0): Linear(in_features=7, out_features=16, bias=True)\n",
       "  (1): ReLU()\n",
       "  (2): Linear(in_features=16, out_features=32, bias=True)\n",
       "  (3): ReLU()\n",
       "  (4): Linear(in_features=32, out_features=2, bias=True)\n",
       ")"
      ]
     },
     "execution_count": 34,
     "metadata": {},
     "output_type": "execute_result"
    }
   ],
   "source": [
    "\n",
    "net = nn.Sequential(nn.Linear(seq_len,16),\n",
    "                 nn.ReLU(),\n",
    "                 nn.Linear(16,32),\n",
    "                 nn.ReLU(),\n",
    "                 nn.Linear(32,2),\n",
    "                 )\n",
    "net"
   ]
  },
  {
   "cell_type": "markdown",
   "metadata": {},
   "source": [
    "Lets attempt to run some of our data through the network and see what happens"
   ]
  },
  {
   "cell_type": "code",
   "execution_count": 35,
   "metadata": {},
   "outputs": [
    {
     "name": "stdout",
     "output_type": "stream",
     "text": [
      "tensor(0)\n"
     ]
    }
   ],
   "source": [
    "test_seq = torch.from_numpy(input_data[0][0]).float()\n",
    "test_seq\n",
    "output = torch.argmax(net(test_seq)).squeeze(0)\n",
    "print(output)"
   ]
  },
  {
   "cell_type": "markdown",
   "metadata": {},
   "source": [
    "### Define the Accuracy Metric"
   ]
  },
  {
   "cell_type": "code",
   "execution_count": 36,
   "metadata": {},
   "outputs": [],
   "source": [
    "def accuracy(inp,r=0.1):\n",
    "    corr=0\n",
    "    length = int(r*len(inp))\n",
    "    for i in range(length):\n",
    "        test_seq = torch.from_numpy(inp[i][0]).float()\n",
    "        if inp[i][1] == torch.argmax(net(test_seq)).squeeze(0).item():\n",
    "            corr += 1\n",
    "    print(f'The model is {100*corr/length:0.2f}% accurate')"
   ]
  },
  {
   "cell_type": "markdown",
   "metadata": {},
   "source": [
    "## Write the Training Loop"
   ]
  },
  {
   "cell_type": "code",
   "execution_count": 37,
   "metadata": {},
   "outputs": [],
   "source": [
    "criterion = nn.CrossEntropyLoss()\n",
    "optimizer = torch.optim.Adam(net.parameters(),lr=0.001)"
   ]
  },
  {
   "cell_type": "code",
   "execution_count": 38,
   "metadata": {
    "scrolled": true
   },
   "outputs": [
    {
     "data": {
      "text/plain": [
       "\"\\nepochs=10\\nc=1\\nb_size=32\\nnet.train()\\nfor e in range(epochs):\\n    loss=0\\n    batch=0\\n    optimizer.zero_grad()\\n    for features, targets in trainLoader:\\n        features=features.float()\\n        #targets = torch.tensor([0])\\n        out=net(features)\\n        loss+=criterion(out,targets)\\n        if batch==b_size:\\n            loss=loss/b_size\\n            loss.backward()\\n            optimizer.step()\\n            optimizer.zero_grad()\\n            if c%50 == 0 and type(loss) is not int:#for every 50 batches, print the training loss\\n                net.eval()\\n                #print(targets.item(), torch.argmax(out).item())\\n                print('running loss:',round(loss.item(),3))\\n                print('for the training set')\\n                accuracy(train_data, 0.1)\\n                print('for validation set')\\n                accuracy(valid_data)\\n                print()\\n                net.train()\\n            batch=0\\n            loss=0\\n            c+=1\\n        batch+=1\\n        \\n\""
      ]
     },
     "execution_count": 38,
     "metadata": {},
     "output_type": "execute_result"
    }
   ],
   "source": [
    "'''\n",
    "epochs=10\n",
    "c=1\n",
    "b_size=32\n",
    "net.train()\n",
    "for e in range(epochs):\n",
    "    loss=0\n",
    "    batch=0\n",
    "    optimizer.zero_grad()\n",
    "    for features, targets in trainLoader:\n",
    "        features=features.float()\n",
    "        #targets = torch.tensor([0])\n",
    "        out=net(features)\n",
    "        loss+=criterion(out,targets)\n",
    "        if batch==b_size:\n",
    "            loss=loss/b_size\n",
    "            loss.backward()\n",
    "            optimizer.step()\n",
    "            optimizer.zero_grad()\n",
    "            if c%50 == 0 and type(loss) is not int:#for every 50 batches, print the training loss\n",
    "                net.eval()\n",
    "                #print(targets.item(), torch.argmax(out).item())\n",
    "                print('running loss:',round(loss.item(),3))\n",
    "                print('for the training set')\n",
    "                accuracy(train_data, 0.1)\n",
    "                print('for validation set')\n",
    "                accuracy(valid_data)\n",
    "                print()\n",
    "                net.train()\n",
    "            batch=0\n",
    "            loss=0\n",
    "            c+=1\n",
    "        batch+=1\n",
    "        \n",
    "'''   \n"
   ]
  },
  {
   "cell_type": "code",
   "execution_count": 39,
   "metadata": {
    "scrolled": true
   },
   "outputs": [
    {
     "name": "stdout",
     "output_type": "stream",
     "text": [
      "running loss: 0.696\n",
      "for the training set\n",
      "The model is 51.29% accurate\n",
      "for validation set\n",
      "The model is 47.23% accurate\n",
      "\n",
      "running loss: 0.694\n",
      "for the training set\n",
      "The model is 52.24% accurate\n",
      "for validation set\n",
      "The model is 49.26% accurate\n",
      "\n",
      "running loss: 0.701\n",
      "for the training set\n",
      "The model is 51.87% accurate\n",
      "for validation set\n",
      "The model is 49.26% accurate\n",
      "\n",
      "running loss: 0.692\n",
      "for the training set\n",
      "The model is 51.66% accurate\n",
      "for validation set\n",
      "The model is 49.08% accurate\n",
      "\n",
      "running loss: 0.692\n",
      "for the training set\n",
      "The model is 53.13% accurate\n",
      "for validation set\n",
      "The model is 51.66% accurate\n",
      "\n",
      "running loss: 0.711\n",
      "for the training set\n",
      "The model is 52.24% accurate\n",
      "for validation set\n",
      "The model is 50.92% accurate\n",
      "\n",
      "running loss: 0.684\n",
      "for the training set\n",
      "The model is 51.76% accurate\n",
      "for validation set\n",
      "The model is 51.29% accurate\n",
      "\n",
      "running loss: 0.701\n",
      "for the training set\n",
      "The model is 51.24% accurate\n",
      "for validation set\n",
      "The model is 48.71% accurate\n",
      "\n",
      "running loss: 0.696\n",
      "for the training set\n",
      "The model is 53.45% accurate\n",
      "for validation set\n",
      "The model is 51.29% accurate\n",
      "\n",
      "running loss: 0.683\n",
      "for the training set\n",
      "The model is 53.03% accurate\n",
      "for validation set\n",
      "The model is 53.14% accurate\n",
      "\n",
      "running loss: 0.696\n",
      "for the training set\n",
      "The model is 50.92% accurate\n",
      "for validation set\n",
      "The model is 54.80% accurate\n",
      "\n",
      "running loss: 0.689\n",
      "for the training set\n",
      "The model is 51.40% accurate\n",
      "for validation set\n",
      "The model is 52.21% accurate\n",
      "\n",
      "running loss: 0.689\n",
      "for the training set\n",
      "The model is 51.03% accurate\n",
      "for validation set\n",
      "The model is 56.09% accurate\n",
      "\n",
      "running loss: 0.689\n",
      "for the training set\n",
      "The model is 50.39% accurate\n",
      "for validation set\n",
      "The model is 54.80% accurate\n",
      "\n",
      "running loss: 0.678\n",
      "for the training set\n",
      "The model is 50.92% accurate\n",
      "for validation set\n",
      "The model is 53.51% accurate\n",
      "\n",
      "running loss: 0.694\n",
      "for the training set\n",
      "The model is 51.40% accurate\n",
      "for validation set\n",
      "The model is 52.95% accurate\n",
      "\n",
      "running loss: 0.697\n",
      "for the training set\n",
      "The model is 51.82% accurate\n",
      "for validation set\n",
      "The model is 51.85% accurate\n",
      "\n",
      "running loss: 0.693\n",
      "for the training set\n",
      "The model is 52.34% accurate\n",
      "for validation set\n",
      "The model is 51.85% accurate\n",
      "\n",
      "running loss: 0.71\n",
      "for the training set\n",
      "The model is 52.13% accurate\n",
      "for validation set\n",
      "The model is 50.74% accurate\n",
      "\n",
      "running loss: 0.698\n",
      "for the training set\n",
      "The model is 51.50% accurate\n",
      "for validation set\n",
      "The model is 52.77% accurate\n",
      "\n",
      "running loss: 0.711\n",
      "for the training set\n",
      "The model is 52.03% accurate\n",
      "for validation set\n",
      "The model is 54.98% accurate\n",
      "\n",
      "running loss: 0.692\n",
      "for the training set\n",
      "The model is 50.61% accurate\n",
      "for validation set\n",
      "The model is 50.74% accurate\n",
      "\n",
      "running loss: 0.697\n",
      "for the training set\n",
      "The model is 51.50% accurate\n",
      "for validation set\n",
      "The model is 50.18% accurate\n",
      "\n"
     ]
    }
   ],
   "source": [
    "epochs=2\n",
    "c=1\n",
    "net.train()\n",
    "for e in range(epochs):\n",
    "    for features, targets in trainLoader:\n",
    "        optimizer.zero_grad()\n",
    "        features=features.float()\n",
    "        out=net(features)\n",
    "        loss=criterion(out,targets)\n",
    "        loss.backward()\n",
    "        optimizer.step()\n",
    "        if c%50 == 0 and type(loss) is not int:#for every 50 batches, print the training loss\n",
    "            net.eval()\n",
    "                #print(targets.item(), torch.argmax(out).item())\n",
    "            print('running loss:',round(loss.item(),3))\n",
    "            print('for the training set')\n",
    "            accuracy(train_data, 0.1)\n",
    "            print('for validation set')\n",
    "            accuracy(valid_data)\n",
    "            print()\n",
    "            net.train()\n",
    "        c+=1\n",
    "        \n",
    " "
   ]
  },
  {
   "cell_type": "code",
   "execution_count": 40,
   "metadata": {},
   "outputs": [
    {
     "name": "stdout",
     "output_type": "stream",
     "text": [
      "tensor(0) 1\n"
     ]
    }
   ],
   "source": [
    "i=1\n",
    "test_seq = torch.from_numpy(input_data[i][0]).float()\n",
    "test_seq\n",
    "output = torch.argmax(net(test_seq)).squeeze(0)\n",
    "print(output, input_data[i][1])"
   ]
  },
  {
   "cell_type": "code",
   "execution_count": null,
   "metadata": {},
   "outputs": [],
   "source": []
  },
  {
   "cell_type": "code",
   "execution_count": 41,
   "metadata": {},
   "outputs": [
    {
     "name": "stdout",
     "output_type": "stream",
     "text": [
      "The model is 51.14% accurate\n"
     ]
    }
   ],
   "source": [
    "accuracy(test_data,1)"
   ]
  },
  {
   "cell_type": "markdown",
   "metadata": {},
   "source": [
    "# Test the Model with Real Time Data"
   ]
  },
  {
   "cell_type": "code",
   "execution_count": 42,
   "metadata": {},
   "outputs": [],
   "source": [
    "import cryptocompare as crc\n",
    "import datetime"
   ]
  },
  {
   "cell_type": "code",
   "execution_count": 43,
   "metadata": {},
   "outputs": [
    {
     "name": "stdout",
     "output_type": "stream",
     "text": [
      "Current Price: {'ETH': {'USD': 2370.56}}\n"
     ]
    }
   ],
   "source": [
    "tod = datetime.datetime.now()\n",
    "test=crc.get_historical_price('ETH', 'USD',\n",
    "                         timestamp=tod, exchange='Coinbase')\n",
    "print('Current Price:', test)"
   ]
  },
  {
   "cell_type": "code",
   "execution_count": 44,
   "metadata": {},
   "outputs": [
    {
     "name": "stdout",
     "output_type": "stream",
     "text": [
      "[2706.64, 2856.68, 2690.68, 2629.75, 2710.97, 2592.47, 2509.11, 2611.27]\n"
     ]
    }
   ],
   "source": [
    "def get_past_days(num_days=5,curr='ETH'):\n",
    "    tod = datetime.datetime.now()\n",
    "    prices=[]\n",
    "    for i in range(num_days+1,1,-1):\n",
    "        d = datetime.timedelta(days = i)\n",
    "        a = tod - d\n",
    "        price=crc.get_historical_price(curr, 'USD',\n",
    "                         timestamp=a, exchange='Coinbase')\n",
    "        prices.append(price[curr]['USD'])\n",
    "    return prices\n",
    "p=get_past_days(seq_len + 1)\n",
    "print(p)"
   ]
  },
  {
   "cell_type": "code",
   "execution_count": 45,
   "metadata": {},
   "outputs": [
    {
     "data": {
      "text/plain": [
       "array([ 5.54340437, -5.81094137, -2.26448333,  3.08850651, -4.37112915,\n",
       "       -3.21546633,  4.07156322])"
      ]
     },
     "execution_count": 45,
     "metadata": {},
     "output_type": "execute_result"
    }
   ],
   "source": [
    "delta_real=percent_change(p)[1:]\n",
    "delta_real"
   ]
  },
  {
   "cell_type": "code",
   "execution_count": 46,
   "metadata": {},
   "outputs": [
    {
     "data": {
      "text/plain": [
       "0"
      ]
     },
     "execution_count": 46,
     "metadata": {},
     "output_type": "execute_result"
    }
   ],
   "source": [
    "prediction = torch.argmax(net(torch.from_numpy(delta_real).float())).squeeze(0).item()\n",
    "prediction"
   ]
  },
  {
   "cell_type": "code",
   "execution_count": 47,
   "metadata": {},
   "outputs": [
    {
     "data": {
      "text/plain": [
       "1"
      ]
     },
     "execution_count": 47,
     "metadata": {},
     "output_type": "execute_result"
    }
   ],
   "source": [
    "real = int(get_past_days(1)[0] > crc.get_historical_price('ETH', 'USD',\n",
    "                                                       timestamp=datetime.datetime.now(),\n",
    "                                                       exchange='Coinbase')['ETH']['USD'])\n",
    "real"
   ]
  },
  {
   "cell_type": "markdown",
   "metadata": {},
   "source": [
    "In this case, our model correctly predicted that the price would increase. However, even a naive model would be right 50% of the time so this result is not surpising."
   ]
  },
  {
   "cell_type": "markdown",
   "metadata": {},
   "source": [
    "# RNN for Pattern Recognition of Ethereum Price\n",
    "Now we can try a slightly more advanced model in the form of an recurrent neural network using lstm cells"
   ]
  },
  {
   "cell_type": "code",
   "execution_count": 48,
   "metadata": {},
   "outputs": [
    {
     "name": "stdout",
     "output_type": "stream",
     "text": [
      "7\n"
     ]
    }
   ],
   "source": [
    "print(seq_len)"
   ]
  },
  {
   "cell_type": "code",
   "execution_count": 49,
   "metadata": {},
   "outputs": [
    {
     "data": {
      "text/plain": [
       "'\\nclass rnn_model(nn.Module):\\n    def __init__(self, input_size, hidden_dim):\\n        super().__init__()\\n        \\n        self.hidden_size = hidden_size\\n        self.lstm1 = nn.LSTM(input_size,hidden_dim)\\n        self.fcl = nn.Linear(dim,2)\\n        \\n    def forward(self,x):\\n        \\n        x=x.view(seq_len,-1,1)\\n        out, _ = self.lstm1(x)\\n        out = out.view(x.shape[1],len(x),-1)\\n        out = self.fcl(out)\\n        \\n        return out\\n    \\n    def initHidden(self):\\n        \\n        return torch.zeros(1,1,1,self.hidden_dim)\\n    \\nrnn = rnn_model(1,32)\\nrnn\\n'"
      ]
     },
     "execution_count": 49,
     "metadata": {},
     "output_type": "execute_result"
    }
   ],
   "source": [
    "#old model, replaced by new version\n",
    "'''\n",
    "class rnn_model(nn.Module):\n",
    "    def __init__(self, input_size, hidden_dim):\n",
    "        super().__init__()\n",
    "        \n",
    "        self.hidden_size = hidden_size\n",
    "        self.lstm1 = nn.LSTM(input_size,hidden_dim)\n",
    "        self.fcl = nn.Linear(dim,2)\n",
    "        \n",
    "    def forward(self,x):\n",
    "        \n",
    "        x=x.view(seq_len,-1,1)\n",
    "        out, _ = self.lstm1(x)\n",
    "        out = out.view(x.shape[1],len(x),-1)\n",
    "        out = self.fcl(out)\n",
    "        \n",
    "        return out\n",
    "    \n",
    "    def initHidden(self):\n",
    "        \n",
    "        return torch.zeros(1,1,1,self.hidden_dim)\n",
    "    \n",
    "rnn = rnn_model(1,32)\n",
    "rnn\n",
    "'''\n"
   ]
  },
  {
   "cell_type": "code",
   "execution_count": 50,
   "metadata": {},
   "outputs": [
    {
     "data": {
      "text/plain": [
       "rnn_model(\n",
       "  (lstm): LSTM(1, 32, num_layers=3, batch_first=True, dropout=0.2)\n",
       "  (fcn): Linear(in_features=32, out_features=1, bias=True)\n",
       "  (sig): Sigmoid()\n",
       ")"
      ]
     },
     "execution_count": 50,
     "metadata": {},
     "output_type": "execute_result"
    }
   ],
   "source": [
    "class rnn_model(nn.Module):\n",
    "    def __init__(self, input_size, n_hidden, n_layers, n_out):\n",
    "        super().__init__()\n",
    "        \n",
    "        self.n_hidden=n_hidden\n",
    "        self.n_layers = n_layers\n",
    "        self.lstm = nn.LSTM(input_size, n_hidden, n_layers, batch_first = True, dropout = 0.2)\n",
    "        self.fcn = nn.Linear(n_hidden, n_out)#binary class scores\n",
    "        self.sig = nn.Sigmoid()\n",
    "        \n",
    "    def forward(self, x, hidden):\n",
    "        #x input shape is (batch_size, seq_len, features)\n",
    "        lstm_out, hidden = self.lstm(x)\n",
    "        lstm_out = lstm_out.contiguous().view(-1,self.n_hidden) #reshape lstm output for fcl\n",
    "        output=self.fcn(lstm_out)\n",
    "        sig_out = self.sig(output)\n",
    "        #print(x.size(0))\n",
    "        sig_out = sig_out.view(x.size(0),-1)\n",
    "        return sig_out[:,-1], hidden #return last prediction for each batch, and the hidden state\n",
    "    \n",
    "    def init_hidden(self,batch_size):\n",
    "        \n",
    "        weight = next(self.parameters()).data\n",
    "        \n",
    "        hidden = (weight.new(self.n_layers, batch_size, self.n_hidden).zero_(),\n",
    "                  weight.new(self.n_layers, batch_size, self.n_hidden).zero_())\n",
    "        \n",
    "        return hidden\n",
    "        \n",
    "rnn = rnn_model(1,32,3,1)\n",
    "rnn"
   ]
  },
  {
   "cell_type": "code",
   "execution_count": 51,
   "metadata": {
    "scrolled": true
   },
   "outputs": [
    {
     "name": "stdout",
     "output_type": "stream",
     "text": [
      "tensor([[[ 5.5434],\n",
      "         [-5.8109],\n",
      "         [-2.2645],\n",
      "         [ 3.0885],\n",
      "         [-4.3711],\n",
      "         [-3.2155],\n",
      "         [ 4.0716]]])\n",
      "tensor([0.4639], grad_fn=<SelectBackward>)\n",
      "0\n",
      "1\n"
     ]
    }
   ],
   "source": [
    "hidden = rnn.init_hidden(batch_size)\n",
    "#print(delta_real.shape)\n",
    "delta_real = torch.Tensor(delta_real).float().view(1,-1,1)\n",
    "print(delta_real)\n",
    "test_output = rnn(delta_real, hidden)\n",
    "print(test_output[0])\n",
    "test_pred = round(test_output[0].item())\n",
    "print(test_pred)\n",
    "print(real)"
   ]
  },
  {
   "cell_type": "markdown",
   "metadata": {},
   "source": [
    "## Training the RNN Model\n",
    "Now that we have a suitable architecture, we need to further process the target data and write the training loop for the model"
   ]
  },
  {
   "cell_type": "code",
   "execution_count": 52,
   "metadata": {},
   "outputs": [
    {
     "name": "stdout",
     "output_type": "stream",
     "text": [
      "The model is 47.46% accurate\n"
     ]
    }
   ],
   "source": [
    "\n",
    "def accuracy(inp,r=0.1):\n",
    "    corr=0\n",
    "    length = int(r*len(inp))\n",
    "    hid = rnn.init_hidden(batch_size)\n",
    "    for i in range(length):\n",
    "        test_seq = torch.from_numpy(inp[i][0]).float().view(1,-1,1)\n",
    "        output, hid = rnn(test_seq, hid)\n",
    "        if inp[i][1] == round(test_output[0].item()):\n",
    "            corr += 1\n",
    "    print(f'The model is {100*corr/length:0.2f}% accurate')\n",
    "\n",
    "accuracy(test_data,0.5)\n"
   ]
  },
  {
   "cell_type": "code",
   "execution_count": 53,
   "metadata": {},
   "outputs": [
    {
     "name": "stdout",
     "output_type": "stream",
     "text": [
      "training loss:  0.68909\n",
      "validation loss:  0.69072\n",
      "training loss:  0.68334\n",
      "validation loss:  0.68862\n",
      "training loss:  0.71404\n",
      "validation loss:  0.69014\n",
      "training loss:  0.72585\n",
      "validation loss:  0.68777\n",
      "training loss:  0.67606\n",
      "validation loss:  0.68806\n",
      "training loss:  0.67651\n",
      "validation loss:  0.68736\n",
      "training loss:  0.66608\n",
      "validation loss:  0.68698\n",
      "training loss:  0.702\n",
      "validation loss:  0.68783\n",
      "training loss:  0.66339\n",
      "validation loss:  0.68798\n",
      "training loss:  0.71834\n",
      "validation loss:  0.68857\n",
      "training loss:  0.67774\n",
      "validation loss:  0.68874\n",
      "training loss:  0.68441\n",
      "validation loss:  0.68796\n",
      "training loss:  0.66687\n",
      "validation loss:  0.68879\n",
      "training loss:  0.69388\n",
      "validation loss:  0.69007\n",
      "training loss:  0.72274\n",
      "validation loss:  0.68997\n",
      "training loss:  0.66539\n",
      "validation loss:  0.68801\n",
      "training loss:  0.70358\n",
      "validation loss:  0.6907\n",
      "training loss:  0.68728\n",
      "validation loss:  0.69047\n",
      "training loss:  0.6656\n",
      "validation loss:  0.69024\n",
      "training loss:  0.68622\n",
      "validation loss:  0.69264\n",
      "training loss:  0.65538\n",
      "validation loss:  0.69312\n",
      "training loss:  0.72438\n",
      "validation loss:  0.69187\n",
      "training loss:  0.66327\n",
      "validation loss:  0.6891\n",
      "training loss:  0.76108\n",
      "validation loss:  0.697\n",
      "training loss:  0.69404\n",
      "validation loss:  0.6924\n",
      "training loss:  0.64581\n",
      "validation loss:  0.69329\n",
      "training loss:  0.70518\n",
      "validation loss:  0.69906\n",
      "training loss:  0.65503\n",
      "validation loss:  0.6942\n",
      "training loss:  0.64904\n",
      "validation loss:  0.69578\n"
     ]
    }
   ],
   "source": [
    "criterion = nn.BCELoss()#since we are dealing with a price increase/decrease, it makes sense to use a binary loss function\n",
    "optimizer = torch.optim.Adam(rnn.parameters(), lr=0.01)\n",
    "\n",
    "\n",
    "epochs=50\n",
    "counter=0\n",
    "clip=5 #gradient clipping to prevent exploding gradients common in lstms\n",
    "print_every=1000\n",
    "\n",
    "for e in range(epochs):\n",
    "    #initialize hidden state\n",
    "    h = rnn.init_hidden(batch_size)\n",
    "    \n",
    "    for inputs, labels in trainLoader:\n",
    "        counter+=1\n",
    "        \n",
    "        #reshape inputs and convert to float\n",
    "        inputs = inputs.float().unsqueeze(-1)\n",
    "        #print(inputs.shape)\n",
    "        \n",
    "        #make new variables for hidden state so back propagation doesnt occur through entire hidden layer history\n",
    "        h = tuple([each.data for each in h])\n",
    "        \n",
    "        #clear out gradients\n",
    "        rnn.zero_grad()\n",
    "        \n",
    "        #get model output\n",
    "        out, h = rnn(inputs, h)\n",
    "        \n",
    "        #print(out, labels.shape)\n",
    "        #calc loss and perform backpropagation\n",
    "        loss = criterion(out.squeeze(0),labels.float())\n",
    "        loss.backward()\n",
    "        \n",
    "        nn.utils.clip_grad_norm_(rnn.parameters(), clip)\n",
    "        optimizer.step()\n",
    "        \n",
    "        #every few loops, print the loss and accuracy metrics\n",
    "        if counter % print_every == 0:\n",
    "            val_h = rnn.init_hidden(batch_size)\n",
    "            val_losses = []\n",
    "            rnn.eval()\n",
    "            for inputs, labels in validLoader:\n",
    "                val_h = tuple([each.data for each in val_h])\n",
    "                inputs = inputs.float().unsqueeze(-1)\n",
    "                val_out, val_h = rnn(inputs, val_h)\n",
    "                \n",
    "                val_loss = criterion(val_out.squeeze(0), labels.float())\n",
    "                val_losses.append(val_loss.item())\n",
    "            print('training loss: ', round(loss.item(), 5))\n",
    "            \n",
    "            print('validation loss: ', round(np.mean(val_losses),5))\n",
    "            rnn.train()"
   ]
  },
  {
   "cell_type": "code",
   "execution_count": 54,
   "metadata": {},
   "outputs": [
    {
     "name": "stdout",
     "output_type": "stream",
     "text": [
      "The model is 47.46% accurate\n",
      "The model is 50.13% accurate\n",
      "The model is 49.23% accurate\n"
     ]
    }
   ],
   "source": [
    "accuracy(test_data,0.5)\n",
    "accuracy(train_data,0.1)\n",
    "accuracy(valid_data,0.5)"
   ]
  },
  {
   "cell_type": "code",
   "execution_count": 55,
   "metadata": {},
   "outputs": [
    {
     "data": {
      "text/plain": [
       "\"\\ndef accuracy(inp,r=0.1):\\n    corr=0\\n    length = int(r*len(inp))\\n    for i in range(length):\\n        test_seq = torch.from_numpy(inp[i][0]).float()\\n        output = rnn(torch.from_numpy(delta_real).float())\\n        print(output)\\n        if inp[i][1] == torch.argmax(test_output[-1]).item():\\n            corr += 1\\n    print(f'The model is {100*corr/length:0.2f}% accurate')\\n\\naccuracy(train_data,0.1)\\n\""
      ]
     },
     "execution_count": 55,
     "metadata": {},
     "output_type": "execute_result"
    }
   ],
   "source": [
    "#old rnn accuracy function, TODO replace with new function\n",
    "'''\n",
    "def accuracy(inp,r=0.1):\n",
    "    corr=0\n",
    "    length = int(r*len(inp))\n",
    "    for i in range(length):\n",
    "        test_seq = torch.from_numpy(inp[i][0]).float()\n",
    "        output = rnn(torch.from_numpy(delta_real).float())\n",
    "        print(output)\n",
    "        if inp[i][1] == torch.argmax(test_output[-1]).item():\n",
    "            corr += 1\n",
    "    print(f'The model is {100*corr/length:0.2f}% accurate')\n",
    "\n",
    "accuracy(train_data,0.1)\n",
    "'''"
   ]
  },
  {
   "cell_type": "code",
   "execution_count": 56,
   "metadata": {
    "scrolled": true
   },
   "outputs": [
    {
     "data": {
      "text/plain": [
       "\"\\ncriterion = nn.CrossEntropyLoss()\\noptimizer = torch.optim.Adam(rnn.parameters(),lr=0.01)\\nepochs = 3\\nc=1\\nfor e in range(epochs):\\n    for features, targets in trainLoader:\\n        features=features.float()\\n        optimizer.zero_grad()\\n        output=rnn(features)\\n        loss=criterion(output[:,-1], targets)\\n        loss.backward()\\n        optimizer.step()\\n        if c%1000 == 0:\\n            rnn.eval()\\n            #print(output)\\n            print('running loss:',round(loss.item(),3))\\n            print('for the training set')\\n            accuracy(train_data, 0.1)\\n            print('for validation set')\\n            accuracy(valid_data)\\n            rnn.train()\\n        c+=1\\n\""
      ]
     },
     "execution_count": 56,
     "metadata": {},
     "output_type": "execute_result"
    }
   ],
   "source": [
    "#old training loop, TODO replace with new training loop\n",
    "'''\n",
    "criterion = nn.CrossEntropyLoss()\n",
    "optimizer = torch.optim.Adam(rnn.parameters(),lr=0.01)\n",
    "epochs = 3\n",
    "c=1\n",
    "for e in range(epochs):\n",
    "    for features, targets in trainLoader:\n",
    "        features=features.float()\n",
    "        optimizer.zero_grad()\n",
    "        output=rnn(features)\n",
    "        loss=criterion(output[:,-1], targets)\n",
    "        loss.backward()\n",
    "        optimizer.step()\n",
    "        if c%1000 == 0:\n",
    "            rnn.eval()\n",
    "            #print(output)\n",
    "            print('running loss:',round(loss.item(),3))\n",
    "            print('for the training set')\n",
    "            accuracy(train_data, 0.1)\n",
    "            print('for validation set')\n",
    "            accuracy(valid_data)\n",
    "            rnn.train()\n",
    "        c+=1\n",
    "'''"
   ]
  },
  {
   "cell_type": "code",
   "execution_count": null,
   "metadata": {},
   "outputs": [],
   "source": []
  },
  {
   "cell_type": "code",
   "execution_count": null,
   "metadata": {},
   "outputs": [],
   "source": []
  },
  {
   "cell_type": "code",
   "execution_count": null,
   "metadata": {},
   "outputs": [],
   "source": []
  }
 ],
 "metadata": {
  "kernelspec": {
   "display_name": "Python 3",
   "language": "python",
   "name": "python3"
  },
  "language_info": {
   "codemirror_mode": {
    "name": "ipython",
    "version": 3
   },
   "file_extension": ".py",
   "mimetype": "text/x-python",
   "name": "python",
   "nbconvert_exporter": "python",
   "pygments_lexer": "ipython3",
   "version": "3.7.7"
  }
 },
 "nbformat": 4,
 "nbformat_minor": 2
}
