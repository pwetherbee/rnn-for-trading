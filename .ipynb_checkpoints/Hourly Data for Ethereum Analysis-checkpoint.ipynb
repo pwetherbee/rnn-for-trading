{
 "cells": [
  {
   "cell_type": "markdown",
   "metadata": {},
   "source": [
    "# Data Collection and Pre-Processing\n",
    "*Here I use the data from https://www.cryptodatadownload.com/ to create a train and test set for my models"
   ]
  },
  {
   "cell_type": "code",
   "execution_count": 393,
   "metadata": {},
   "outputs": [],
   "source": [
    "import pandas as pd\n",
    "import numpy as np\n",
    "import matplotlib.pyplot as plt"
   ]
  },
  {
   "cell_type": "code",
   "execution_count": 394,
   "metadata": {},
   "outputs": [],
   "source": [
    "ethData = pd.read_csv('Coinbase_ETHUSD_d.csv', header = 1)"
   ]
  },
  {
   "cell_type": "code",
   "execution_count": 395,
   "metadata": {},
   "outputs": [
    {
     "data": {
      "text/html": [
       "<div>\n",
       "<style scoped>\n",
       "    .dataframe tbody tr th:only-of-type {\n",
       "        vertical-align: middle;\n",
       "    }\n",
       "\n",
       "    .dataframe tbody tr th {\n",
       "        vertical-align: top;\n",
       "    }\n",
       "\n",
       "    .dataframe thead th {\n",
       "        text-align: right;\n",
       "    }\n",
       "</style>\n",
       "<table border=\"1\" class=\"dataframe\">\n",
       "  <thead>\n",
       "    <tr style=\"text-align: right;\">\n",
       "      <th></th>\n",
       "      <th>Date</th>\n",
       "      <th>Symbol</th>\n",
       "      <th>Open</th>\n",
       "      <th>High</th>\n",
       "      <th>Low</th>\n",
       "      <th>Close</th>\n",
       "      <th>Volume ETH</th>\n",
       "      <th>Volume USD</th>\n",
       "    </tr>\n",
       "  </thead>\n",
       "  <tbody>\n",
       "    <tr>\n",
       "      <th>0</th>\n",
       "      <td>2020-08-08</td>\n",
       "      <td>ETHUSD</td>\n",
       "      <td>379.75</td>\n",
       "      <td>383.11</td>\n",
       "      <td>376.18</td>\n",
       "      <td>380.52</td>\n",
       "      <td>22964.92</td>\n",
       "      <td>8713003.27</td>\n",
       "    </tr>\n",
       "    <tr>\n",
       "      <th>1</th>\n",
       "      <td>2020-08-07</td>\n",
       "      <td>ETHUSD</td>\n",
       "      <td>395.28</td>\n",
       "      <td>398.57</td>\n",
       "      <td>362.88</td>\n",
       "      <td>379.75</td>\n",
       "      <td>258109.56</td>\n",
       "      <td>98788837.44</td>\n",
       "    </tr>\n",
       "    <tr>\n",
       "      <th>2</th>\n",
       "      <td>2020-08-06</td>\n",
       "      <td>ETHUSD</td>\n",
       "      <td>401.21</td>\n",
       "      <td>404.03</td>\n",
       "      <td>391.00</td>\n",
       "      <td>395.28</td>\n",
       "      <td>147321.26</td>\n",
       "      <td>58496862.22</td>\n",
       "    </tr>\n",
       "    <tr>\n",
       "      <th>3</th>\n",
       "      <td>2020-08-05</td>\n",
       "      <td>ETHUSD</td>\n",
       "      <td>389.82</td>\n",
       "      <td>408.00</td>\n",
       "      <td>383.86</td>\n",
       "      <td>401.21</td>\n",
       "      <td>208372.76</td>\n",
       "      <td>82610803.46</td>\n",
       "    </tr>\n",
       "    <tr>\n",
       "      <th>4</th>\n",
       "      <td>2020-08-04</td>\n",
       "      <td>ETHUSD</td>\n",
       "      <td>386.22</td>\n",
       "      <td>403.64</td>\n",
       "      <td>380.67</td>\n",
       "      <td>389.82</td>\n",
       "      <td>250984.93</td>\n",
       "      <td>98150581.76</td>\n",
       "    </tr>\n",
       "  </tbody>\n",
       "</table>\n",
       "</div>"
      ],
      "text/plain": [
       "         Date  Symbol    Open    High     Low   Close  Volume ETH   Volume USD\n",
       "0  2020-08-08  ETHUSD  379.75  383.11  376.18  380.52    22964.92   8713003.27\n",
       "1  2020-08-07  ETHUSD  395.28  398.57  362.88  379.75   258109.56  98788837.44\n",
       "2  2020-08-06  ETHUSD  401.21  404.03  391.00  395.28   147321.26  58496862.22\n",
       "3  2020-08-05  ETHUSD  389.82  408.00  383.86  401.21   208372.76  82610803.46\n",
       "4  2020-08-04  ETHUSD  386.22  403.64  380.67  389.82   250984.93  98150581.76"
      ]
     },
     "execution_count": 395,
     "metadata": {},
     "output_type": "execute_result"
    }
   ],
   "source": [
    "ethData.head()"
   ]
  },
  {
   "cell_type": "code",
   "execution_count": 396,
   "metadata": {},
   "outputs": [
    {
     "data": {
      "text/plain": [
       "1523"
      ]
     },
     "execution_count": 396,
     "metadata": {},
     "output_type": "execute_result"
    }
   ],
   "source": [
    "ethData.shape[0]"
   ]
  },
  {
   "cell_type": "code",
   "execution_count": 397,
   "metadata": {},
   "outputs": [
    {
     "data": {
      "text/html": [
       "<div>\n",
       "<style scoped>\n",
       "    .dataframe tbody tr th:only-of-type {\n",
       "        vertical-align: middle;\n",
       "    }\n",
       "\n",
       "    .dataframe tbody tr th {\n",
       "        vertical-align: top;\n",
       "    }\n",
       "\n",
       "    .dataframe thead th {\n",
       "        text-align: right;\n",
       "    }\n",
       "</style>\n",
       "<table border=\"1\" class=\"dataframe\">\n",
       "  <thead>\n",
       "    <tr style=\"text-align: right;\">\n",
       "      <th></th>\n",
       "      <th>Open</th>\n",
       "      <th>High</th>\n",
       "      <th>Low</th>\n",
       "      <th>Close</th>\n",
       "      <th>Volume ETH</th>\n",
       "      <th>Volume USD</th>\n",
       "    </tr>\n",
       "  </thead>\n",
       "  <tbody>\n",
       "    <tr>\n",
       "      <th>Open</th>\n",
       "      <td>1.000000</td>\n",
       "      <td>0.998246</td>\n",
       "      <td>0.994306</td>\n",
       "      <td>0.995971</td>\n",
       "      <td>0.156844</td>\n",
       "      <td>0.681699</td>\n",
       "    </tr>\n",
       "    <tr>\n",
       "      <th>High</th>\n",
       "      <td>0.998246</td>\n",
       "      <td>1.000000</td>\n",
       "      <td>0.994007</td>\n",
       "      <td>0.998262</td>\n",
       "      <td>0.176951</td>\n",
       "      <td>0.700807</td>\n",
       "    </tr>\n",
       "    <tr>\n",
       "      <th>Low</th>\n",
       "      <td>0.994306</td>\n",
       "      <td>0.994007</td>\n",
       "      <td>1.000000</td>\n",
       "      <td>0.996331</td>\n",
       "      <td>0.117684</td>\n",
       "      <td>0.631969</td>\n",
       "    </tr>\n",
       "    <tr>\n",
       "      <th>Close</th>\n",
       "      <td>0.995971</td>\n",
       "      <td>0.998262</td>\n",
       "      <td>0.996331</td>\n",
       "      <td>1.000000</td>\n",
       "      <td>0.155605</td>\n",
       "      <td>0.676920</td>\n",
       "    </tr>\n",
       "    <tr>\n",
       "      <th>Volume ETH</th>\n",
       "      <td>0.156844</td>\n",
       "      <td>0.176951</td>\n",
       "      <td>0.117684</td>\n",
       "      <td>0.155605</td>\n",
       "      <td>1.000000</td>\n",
       "      <td>0.627961</td>\n",
       "    </tr>\n",
       "    <tr>\n",
       "      <th>Volume USD</th>\n",
       "      <td>0.681699</td>\n",
       "      <td>0.700807</td>\n",
       "      <td>0.631969</td>\n",
       "      <td>0.676920</td>\n",
       "      <td>0.627961</td>\n",
       "      <td>1.000000</td>\n",
       "    </tr>\n",
       "  </tbody>\n",
       "</table>\n",
       "</div>"
      ],
      "text/plain": [
       "                Open      High       Low     Close  Volume ETH  Volume USD\n",
       "Open        1.000000  0.998246  0.994306  0.995971    0.156844    0.681699\n",
       "High        0.998246  1.000000  0.994007  0.998262    0.176951    0.700807\n",
       "Low         0.994306  0.994007  1.000000  0.996331    0.117684    0.631969\n",
       "Close       0.995971  0.998262  0.996331  1.000000    0.155605    0.676920\n",
       "Volume ETH  0.156844  0.176951  0.117684  0.155605    1.000000    0.627961\n",
       "Volume USD  0.681699  0.700807  0.631969  0.676920    0.627961    1.000000"
      ]
     },
     "execution_count": 397,
     "metadata": {},
     "output_type": "execute_result"
    }
   ],
   "source": [
    "ethData.corr()"
   ]
  },
  {
   "cell_type": "code",
   "execution_count": 398,
   "metadata": {},
   "outputs": [],
   "source": [
    "ethData['Close'] = ethData['Close'].replace(0, method='ffill')\n",
    "ethPrices = ethData['Close'].to_numpy()"
   ]
  },
  {
   "cell_type": "code",
   "execution_count": 399,
   "metadata": {},
   "outputs": [
    {
     "data": {
      "text/plain": [
       "array([380.52, 379.75, 395.28, 401.21, 389.82, 386.22, 372.21, 387.4 ,\n",
       "       346.86, 335.31])"
      ]
     },
     "execution_count": 399,
     "metadata": {},
     "output_type": "execute_result"
    }
   ],
   "source": [
    "ethPrices[:10]"
   ]
  },
  {
   "cell_type": "code",
   "execution_count": 400,
   "metadata": {},
   "outputs": [
    {
     "name": "stdout",
     "output_type": "stream",
     "text": [
      "(array([], dtype=int64),)\n"
     ]
    },
    {
     "data": {
      "text/plain": [
       "[<matplotlib.lines.Line2D at 0x12b3cea90>]"
      ]
     },
     "execution_count": 400,
     "metadata": {},
     "output_type": "execute_result"
    },
    {
     "data": {
      "image/png": "[encoded data removed]",
      "text/plain": [
       "<Figure size 432x288 with 1 Axes>"
      ]
     },
     "metadata": {
      "needs_background": "light"
     },
     "output_type": "display_data"
    }
   ],
   "source": [
    "print(np.where(ethPrices == 0))\n",
    "plt.plot(ethPrices)"
   ]
  },
  {
   "cell_type": "code",
   "execution_count": 401,
   "metadata": {},
   "outputs": [],
   "source": [
    "def percent_change(arr):\n",
    "    array = np.copy(arr)\n",
    "    p0 = array[0]\n",
    "    for i in range(len(array)):\n",
    "        p = array[i]\n",
    "        if p0==p:\n",
    "            array[i]=0\n",
    "            continue\n",
    "        elif p0==0:\n",
    "            array[i]=1\n",
    "            p0=p\n",
    "            continue\n",
    "        array[i] = 100 * (p - p0)/p0\n",
    "        p0 = p\n",
    "    return array"
   ]
  },
  {
   "cell_type": "code",
   "execution_count": 402,
   "metadata": {},
   "outputs": [],
   "source": [
    "eth_pct = percent_change(ethPrices)"
   ]
  },
  {
   "cell_type": "code",
   "execution_count": 403,
   "metadata": {},
   "outputs": [
    {
     "data": {
      "text/plain": [
       "Text(0.5, 1.0, 'Price fluctuation for Ethereum')"
      ]
     },
     "execution_count": 403,
     "metadata": {},
     "output_type": "execute_result"
    },
    {
     "data": {
      "image/png": "[encoded data removed]",
      "text/plain": [
       "<Figure size 432x288 with 1 Axes>"
      ]
     },
     "metadata": {
      "needs_background": "light"
     },
     "output_type": "display_data"
    }
   ],
   "source": [
    "plt.plot(eth_pct)\n",
    "plt.ylabel('% Change from previous')\n",
    "plt.title('Price fluctuation for Ethereum')"
   ]
  },
  {
   "cell_type": "code",
   "execution_count": 404,
   "metadata": {},
   "outputs": [
    {
     "name": "stdout",
     "output_type": "stream",
     "text": [
      "-2.7259542487968824\n"
     ]
    }
   ],
   "source": [
    "print(eth_pct[1003])"
   ]
  },
  {
   "cell_type": "code",
   "execution_count": 405,
   "metadata": {},
   "outputs": [
    {
     "name": "stdout",
     "output_type": "stream",
     "text": [
      "76.43699002719856\n"
     ]
    }
   ],
   "source": [
    "print(np.max(eth_pct))"
   ]
  },
  {
   "cell_type": "code",
   "execution_count": 406,
   "metadata": {},
   "outputs": [
    {
     "name": "stdout",
     "output_type": "stream",
     "text": [
      "(array([150]),)\n"
     ]
    }
   ],
   "source": [
    "print(np.where(eth_pct > 50))#as expected we have no massive fluctuations above 25% "
   ]
  },
  {
   "cell_type": "code",
   "execution_count": 407,
   "metadata": {},
   "outputs": [
    {
     "name": "stdout",
     "output_type": "stream",
     "text": [
      "(array([], dtype=int64),)\n"
     ]
    }
   ],
   "source": [
    "print(np.where(ethPrices == 0)) "
   ]
  },
  {
   "cell_type": "code",
   "execution_count": 408,
   "metadata": {},
   "outputs": [
    {
     "data": {
      "text/plain": [
       "Text(0.5, 1.0, 'Price fluctuation for Ethereum')"
      ]
     },
     "execution_count": 408,
     "metadata": {},
     "output_type": "execute_result"
    },
    {
     "data": {
      "image/png": "[encoded data removed]",
      "text/plain": [
       "<Figure size 432x288 with 1 Axes>"
      ]
     },
     "metadata": {
      "needs_background": "light"
     },
     "output_type": "display_data"
    }
   ],
   "source": [
    "plt.plot(eth_pct[10000:15000])\n",
    "plt.ylabel('% Change from previous')\n",
    "plt.title('Price fluctuation for Ethereum')"
   ]
  },
  {
   "cell_type": "code",
   "execution_count": 409,
   "metadata": {},
   "outputs": [
    {
     "data": {
      "text/plain": [
       "(array([ 125,  149,  150,  154,  320,  392,  520,  565,  578,  617,  656,\n",
       "         692,  852,  904,  905,  924,  949,  959, 1048, 1105, 1106, 1107,\n",
       "        1109, 1114, 1144, 1164, 1166, 1181, 1188, 1222, 1227, 1228, 1230,\n",
       "        1231, 1233, 1329, 1455, 1456, 1463, 1491, 1501, 1502]),)"
      ]
     },
     "execution_count": 409,
     "metadata": {},
     "output_type": "execute_result"
    }
   ],
   "source": [
    "large_fs = np.where(np.abs(eth_pct)>15)\n",
    "large_fs"
   ]
  },
  {
   "cell_type": "code",
   "execution_count": 410,
   "metadata": {},
   "outputs": [],
   "source": [
    "#ethData.iloc[3492-1:3510+1][['Close', '%Change']]"
   ]
  },
  {
   "cell_type": "code",
   "execution_count": 411,
   "metadata": {},
   "outputs": [
    {
     "data": {
      "text/plain": [
       "0        0.000000\n",
       "1       -0.202355\n",
       "2        4.089533\n",
       "3        1.500202\n",
       "4       -2.838912\n",
       "          ...    \n",
       "1518     0.502513\n",
       "1519   -11.357143\n",
       "1520    -0.564061\n",
       "1521    -3.322528\n",
       "1522    -5.699916\n",
       "Name: %Change, Length: 1523, dtype: float64"
      ]
     },
     "execution_count": 411,
     "metadata": {},
     "output_type": "execute_result"
    }
   ],
   "source": [
    "s = pd.Series(eth_pct, name = '%Change')\n",
    "s"
   ]
  },
  {
   "cell_type": "code",
   "execution_count": 412,
   "metadata": {},
   "outputs": [
    {
     "data": {
      "text/html": [
       "<div>\n",
       "<style scoped>\n",
       "    .dataframe tbody tr th:only-of-type {\n",
       "        vertical-align: middle;\n",
       "    }\n",
       "\n",
       "    .dataframe tbody tr th {\n",
       "        vertical-align: top;\n",
       "    }\n",
       "\n",
       "    .dataframe thead th {\n",
       "        text-align: right;\n",
       "    }\n",
       "</style>\n",
       "<table border=\"1\" class=\"dataframe\">\n",
       "  <thead>\n",
       "    <tr style=\"text-align: right;\">\n",
       "      <th></th>\n",
       "      <th>Date</th>\n",
       "      <th>Symbol</th>\n",
       "      <th>Open</th>\n",
       "      <th>High</th>\n",
       "      <th>Low</th>\n",
       "      <th>Close</th>\n",
       "      <th>Volume ETH</th>\n",
       "      <th>Volume USD</th>\n",
       "      <th>%Change</th>\n",
       "    </tr>\n",
       "  </thead>\n",
       "  <tbody>\n",
       "    <tr>\n",
       "      <th>0</th>\n",
       "      <td>2020-08-08</td>\n",
       "      <td>ETHUSD</td>\n",
       "      <td>379.75</td>\n",
       "      <td>383.11</td>\n",
       "      <td>376.18</td>\n",
       "      <td>380.52</td>\n",
       "      <td>22964.92</td>\n",
       "      <td>8713003.27</td>\n",
       "      <td>0.000000</td>\n",
       "    </tr>\n",
       "    <tr>\n",
       "      <th>1</th>\n",
       "      <td>2020-08-07</td>\n",
       "      <td>ETHUSD</td>\n",
       "      <td>395.28</td>\n",
       "      <td>398.57</td>\n",
       "      <td>362.88</td>\n",
       "      <td>379.75</td>\n",
       "      <td>258109.56</td>\n",
       "      <td>98788837.44</td>\n",
       "      <td>-0.202355</td>\n",
       "    </tr>\n",
       "    <tr>\n",
       "      <th>2</th>\n",
       "      <td>2020-08-06</td>\n",
       "      <td>ETHUSD</td>\n",
       "      <td>401.21</td>\n",
       "      <td>404.03</td>\n",
       "      <td>391.00</td>\n",
       "      <td>395.28</td>\n",
       "      <td>147321.26</td>\n",
       "      <td>58496862.22</td>\n",
       "      <td>4.089533</td>\n",
       "    </tr>\n",
       "    <tr>\n",
       "      <th>3</th>\n",
       "      <td>2020-08-05</td>\n",
       "      <td>ETHUSD</td>\n",
       "      <td>389.82</td>\n",
       "      <td>408.00</td>\n",
       "      <td>383.86</td>\n",
       "      <td>401.21</td>\n",
       "      <td>208372.76</td>\n",
       "      <td>82610803.46</td>\n",
       "      <td>1.500202</td>\n",
       "    </tr>\n",
       "    <tr>\n",
       "      <th>4</th>\n",
       "      <td>2020-08-04</td>\n",
       "      <td>ETHUSD</td>\n",
       "      <td>386.22</td>\n",
       "      <td>403.64</td>\n",
       "      <td>380.67</td>\n",
       "      <td>389.82</td>\n",
       "      <td>250984.93</td>\n",
       "      <td>98150581.76</td>\n",
       "      <td>-2.838912</td>\n",
       "    </tr>\n",
       "  </tbody>\n",
       "</table>\n",
       "</div>"
      ],
      "text/plain": [
       "         Date  Symbol    Open    High     Low   Close  Volume ETH  \\\n",
       "0  2020-08-08  ETHUSD  379.75  383.11  376.18  380.52    22964.92   \n",
       "1  2020-08-07  ETHUSD  395.28  398.57  362.88  379.75   258109.56   \n",
       "2  2020-08-06  ETHUSD  401.21  404.03  391.00  395.28   147321.26   \n",
       "3  2020-08-05  ETHUSD  389.82  408.00  383.86  401.21   208372.76   \n",
       "4  2020-08-04  ETHUSD  386.22  403.64  380.67  389.82   250984.93   \n",
       "\n",
       "    Volume USD   %Change  \n",
       "0   8713003.27  0.000000  \n",
       "1  98788837.44 -0.202355  \n",
       "2  58496862.22  4.089533  \n",
       "3  82610803.46  1.500202  \n",
       "4  98150581.76 -2.838912  "
      ]
     },
     "execution_count": 412,
     "metadata": {},
     "output_type": "execute_result"
    }
   ],
   "source": [
    "ethData['%Change'] = s\n",
    "ethData.head()"
   ]
  },
  {
   "cell_type": "code",
   "execution_count": 413,
   "metadata": {},
   "outputs": [
    {
     "name": "stdout",
     "output_type": "stream",
     "text": [
      "[1, 0, 1, 1, 0, 0, 0, 1, 0, 0]\n"
     ]
    },
    {
     "data": {
      "text/html": [
       "<div>\n",
       "<style scoped>\n",
       "    .dataframe tbody tr th:only-of-type {\n",
       "        vertical-align: middle;\n",
       "    }\n",
       "\n",
       "    .dataframe tbody tr th {\n",
       "        vertical-align: top;\n",
       "    }\n",
       "\n",
       "    .dataframe thead th {\n",
       "        text-align: right;\n",
       "    }\n",
       "</style>\n",
       "<table border=\"1\" class=\"dataframe\">\n",
       "  <thead>\n",
       "    <tr style=\"text-align: right;\">\n",
       "      <th></th>\n",
       "      <th>Date</th>\n",
       "      <th>Symbol</th>\n",
       "      <th>Open</th>\n",
       "      <th>High</th>\n",
       "      <th>Low</th>\n",
       "      <th>Close</th>\n",
       "      <th>Volume ETH</th>\n",
       "      <th>Volume USD</th>\n",
       "      <th>%Change</th>\n",
       "      <th>Gradient</th>\n",
       "    </tr>\n",
       "  </thead>\n",
       "  <tbody>\n",
       "    <tr>\n",
       "      <th>0</th>\n",
       "      <td>2020-08-08</td>\n",
       "      <td>ETHUSD</td>\n",
       "      <td>379.75</td>\n",
       "      <td>383.11</td>\n",
       "      <td>376.18</td>\n",
       "      <td>380.52</td>\n",
       "      <td>22964.92</td>\n",
       "      <td>8713003.27</td>\n",
       "      <td>0.000000</td>\n",
       "      <td>1</td>\n",
       "    </tr>\n",
       "    <tr>\n",
       "      <th>1</th>\n",
       "      <td>2020-08-07</td>\n",
       "      <td>ETHUSD</td>\n",
       "      <td>395.28</td>\n",
       "      <td>398.57</td>\n",
       "      <td>362.88</td>\n",
       "      <td>379.75</td>\n",
       "      <td>258109.56</td>\n",
       "      <td>98788837.44</td>\n",
       "      <td>-0.202355</td>\n",
       "      <td>0</td>\n",
       "    </tr>\n",
       "    <tr>\n",
       "      <th>2</th>\n",
       "      <td>2020-08-06</td>\n",
       "      <td>ETHUSD</td>\n",
       "      <td>401.21</td>\n",
       "      <td>404.03</td>\n",
       "      <td>391.00</td>\n",
       "      <td>395.28</td>\n",
       "      <td>147321.26</td>\n",
       "      <td>58496862.22</td>\n",
       "      <td>4.089533</td>\n",
       "      <td>1</td>\n",
       "    </tr>\n",
       "    <tr>\n",
       "      <th>3</th>\n",
       "      <td>2020-08-05</td>\n",
       "      <td>ETHUSD</td>\n",
       "      <td>389.82</td>\n",
       "      <td>408.00</td>\n",
       "      <td>383.86</td>\n",
       "      <td>401.21</td>\n",
       "      <td>208372.76</td>\n",
       "      <td>82610803.46</td>\n",
       "      <td>1.500202</td>\n",
       "      <td>1</td>\n",
       "    </tr>\n",
       "    <tr>\n",
       "      <th>4</th>\n",
       "      <td>2020-08-04</td>\n",
       "      <td>ETHUSD</td>\n",
       "      <td>386.22</td>\n",
       "      <td>403.64</td>\n",
       "      <td>380.67</td>\n",
       "      <td>389.82</td>\n",
       "      <td>250984.93</td>\n",
       "      <td>98150581.76</td>\n",
       "      <td>-2.838912</td>\n",
       "      <td>0</td>\n",
       "    </tr>\n",
       "  </tbody>\n",
       "</table>\n",
       "</div>"
      ],
      "text/plain": [
       "         Date  Symbol    Open    High     Low   Close  Volume ETH  \\\n",
       "0  2020-08-08  ETHUSD  379.75  383.11  376.18  380.52    22964.92   \n",
       "1  2020-08-07  ETHUSD  395.28  398.57  362.88  379.75   258109.56   \n",
       "2  2020-08-06  ETHUSD  401.21  404.03  391.00  395.28   147321.26   \n",
       "3  2020-08-05  ETHUSD  389.82  408.00  383.86  401.21   208372.76   \n",
       "4  2020-08-04  ETHUSD  386.22  403.64  380.67  389.82   250984.93   \n",
       "\n",
       "    Volume USD   %Change  Gradient  \n",
       "0   8713003.27  0.000000         1  \n",
       "1  98788837.44 -0.202355         0  \n",
       "2  58496862.22  4.089533         1  \n",
       "3  82610803.46  1.500202         1  \n",
       "4  98150581.76 -2.838912         0  "
      ]
     },
     "execution_count": 413,
     "metadata": {},
     "output_type": "execute_result"
    }
   ],
   "source": [
    "grad = []\n",
    "for change in ethData['%Change']:\n",
    "    if change < 0:\n",
    "        grad.append(0)\n",
    "    else:\n",
    "        grad.append(1)\n",
    "print(grad[:10])\n",
    "ethData['Gradient'] = pd.Series(grad, name = 'Gradient')\n",
    "ethData.head()"
   ]
  },
  {
   "cell_type": "code",
   "execution_count": 414,
   "metadata": {
    "scrolled": true
   },
   "outputs": [
    {
     "data": {
      "image/png": "[encoded data removed]",
      "text/plain": [
       "<Figure size 432x288 with 3 Axes>"
      ]
     },
     "metadata": {
      "needs_background": "light"
     },
     "output_type": "display_data"
    }
   ],
   "source": [
    "plt.subplot(311)\n",
    "plt.plot(ethData['Open'][3450:3500])\n",
    "plt.subplot(312)\n",
    "plt.plot(ethData['%Change'][3450:3500])\n",
    "plt.subplot(313)\n",
    "plt.plot(ethData['Gradient'][3450:3500])\n",
    "plt.show()"
   ]
  },
  {
   "cell_type": "markdown",
   "metadata": {},
   "source": [
    "## Batch and Split the data into sets\n",
    "\n",
    "We'll want to create a sequence of % changes with a given sequence_length variable and a gradient target classifier."
   ]
  },
  {
   "cell_type": "code",
   "execution_count": 415,
   "metadata": {},
   "outputs": [
    {
     "data": {
      "text/plain": [
       "[array([ 0.        , -0.20235467,  4.08953259,  1.50020239, -2.83891229,\n",
       "        -0.92350316, -3.62746621]), 1]"
      ]
     },
     "execution_count": 415,
     "metadata": {},
     "output_type": "execute_result"
    }
   ],
   "source": [
    "def create_targets(dataset, sequence_length):\n",
    "    mLData = []\n",
    "    for i in range(sequence_length, dataset.shape[0]):\n",
    "        mLData.append([dataset['%Change'][i-sequence_length:i].to_numpy(),dataset['Gradient'][i]])\n",
    "    return mLData\n",
    "\n",
    "#create the data into sequences with the correct targets\n",
    "seq_len=7\n",
    "input_data = create_targets(ethData,seq_len)\n",
    "\n",
    "input_data[0]"
   ]
  },
  {
   "cell_type": "code",
   "execution_count": 416,
   "metadata": {},
   "outputs": [],
   "source": [
    "#Randomize the list\n",
    "import random\n",
    "random.shuffle(input_data)"
   ]
  },
  {
   "cell_type": "code",
   "execution_count": 417,
   "metadata": {},
   "outputs": [],
   "source": [
    "n=len(input_data)\n",
    "train=int(0.7*n)\n",
    "valid=int(0.2*n)\n",
    "test=int(0.1*n)\n",
    "train_data=input_data[:train]\n",
    "valid_data=input_data[train:train+valid]\n",
    "test_data=input_data[-test:]\n"
   ]
  },
  {
   "cell_type": "code",
   "execution_count": 418,
   "metadata": {},
   "outputs": [
    {
     "name": "stdout",
     "output_type": "stream",
     "text": [
      "1516\n",
      "[array([ 1.60646545,  1.80832413,  0.88650786,  5.68637987,  0.75666946,\n",
      "        0.43931254, -0.7329255 ]), 0]\n",
      "[array([ 0.8811312 , -0.41176226,  1.40745072, -1.49911453,  0.84876866,\n",
      "        0.33167496,  2.12396694]), 0]\n",
      "[array([ 3.93187172,  1.24215481,  0.92556718,  3.70243986,  0.04524515,\n",
      "       -6.33967849,  0.43896229]), 0]\n"
     ]
    }
   ],
   "source": [
    "print(len(input_data))\n",
    "for i in range(3):\n",
    "    print(input_data[i])"
   ]
  },
  {
   "cell_type": "code",
   "execution_count": 419,
   "metadata": {},
   "outputs": [
    {
     "data": {
      "text/html": [
       "<div>\n",
       "<style scoped>\n",
       "    .dataframe tbody tr th:only-of-type {\n",
       "        vertical-align: middle;\n",
       "    }\n",
       "\n",
       "    .dataframe tbody tr th {\n",
       "        vertical-align: top;\n",
       "    }\n",
       "\n",
       "    .dataframe thead th {\n",
       "        text-align: right;\n",
       "    }\n",
       "</style>\n",
       "<table border=\"1\" class=\"dataframe\">\n",
       "  <thead>\n",
       "    <tr style=\"text-align: right;\">\n",
       "      <th></th>\n",
       "      <th>Date</th>\n",
       "      <th>Symbol</th>\n",
       "      <th>Open</th>\n",
       "      <th>High</th>\n",
       "      <th>Low</th>\n",
       "      <th>Close</th>\n",
       "      <th>Volume ETH</th>\n",
       "      <th>Volume USD</th>\n",
       "      <th>%Change</th>\n",
       "      <th>Gradient</th>\n",
       "    </tr>\n",
       "  </thead>\n",
       "  <tbody>\n",
       "    <tr>\n",
       "      <th>0</th>\n",
       "      <td>2020-08-08</td>\n",
       "      <td>ETHUSD</td>\n",
       "      <td>379.75</td>\n",
       "      <td>383.11</td>\n",
       "      <td>376.18</td>\n",
       "      <td>380.52</td>\n",
       "      <td>22964.92</td>\n",
       "      <td>8.713003e+06</td>\n",
       "      <td>0.000000</td>\n",
       "      <td>1</td>\n",
       "    </tr>\n",
       "    <tr>\n",
       "      <th>1</th>\n",
       "      <td>2020-08-07</td>\n",
       "      <td>ETHUSD</td>\n",
       "      <td>395.28</td>\n",
       "      <td>398.57</td>\n",
       "      <td>362.88</td>\n",
       "      <td>379.75</td>\n",
       "      <td>258109.56</td>\n",
       "      <td>9.878884e+07</td>\n",
       "      <td>-0.202355</td>\n",
       "      <td>0</td>\n",
       "    </tr>\n",
       "    <tr>\n",
       "      <th>2</th>\n",
       "      <td>2020-08-06</td>\n",
       "      <td>ETHUSD</td>\n",
       "      <td>401.21</td>\n",
       "      <td>404.03</td>\n",
       "      <td>391.00</td>\n",
       "      <td>395.28</td>\n",
       "      <td>147321.26</td>\n",
       "      <td>5.849686e+07</td>\n",
       "      <td>4.089533</td>\n",
       "      <td>1</td>\n",
       "    </tr>\n",
       "    <tr>\n",
       "      <th>3</th>\n",
       "      <td>2020-08-05</td>\n",
       "      <td>ETHUSD</td>\n",
       "      <td>389.82</td>\n",
       "      <td>408.00</td>\n",
       "      <td>383.86</td>\n",
       "      <td>401.21</td>\n",
       "      <td>208372.76</td>\n",
       "      <td>8.261080e+07</td>\n",
       "      <td>1.500202</td>\n",
       "      <td>1</td>\n",
       "    </tr>\n",
       "    <tr>\n",
       "      <th>4</th>\n",
       "      <td>2020-08-04</td>\n",
       "      <td>ETHUSD</td>\n",
       "      <td>386.22</td>\n",
       "      <td>403.64</td>\n",
       "      <td>380.67</td>\n",
       "      <td>389.82</td>\n",
       "      <td>250984.93</td>\n",
       "      <td>9.815058e+07</td>\n",
       "      <td>-2.838912</td>\n",
       "      <td>0</td>\n",
       "    </tr>\n",
       "    <tr>\n",
       "      <th>5</th>\n",
       "      <td>2020-08-03</td>\n",
       "      <td>ETHUSD</td>\n",
       "      <td>372.21</td>\n",
       "      <td>399.69</td>\n",
       "      <td>366.34</td>\n",
       "      <td>386.22</td>\n",
       "      <td>246594.39</td>\n",
       "      <td>9.579646e+07</td>\n",
       "      <td>-0.923503</td>\n",
       "      <td>0</td>\n",
       "    </tr>\n",
       "    <tr>\n",
       "      <th>6</th>\n",
       "      <td>2020-08-02</td>\n",
       "      <td>ETHUSD</td>\n",
       "      <td>387.40</td>\n",
       "      <td>415.00</td>\n",
       "      <td>325.75</td>\n",
       "      <td>372.21</td>\n",
       "      <td>573196.45</td>\n",
       "      <td>2.166140e+08</td>\n",
       "      <td>-3.627466</td>\n",
       "      <td>0</td>\n",
       "    </tr>\n",
       "  </tbody>\n",
       "</table>\n",
       "</div>"
      ],
      "text/plain": [
       "         Date  Symbol    Open    High     Low   Close  Volume ETH  \\\n",
       "0  2020-08-08  ETHUSD  379.75  383.11  376.18  380.52    22964.92   \n",
       "1  2020-08-07  ETHUSD  395.28  398.57  362.88  379.75   258109.56   \n",
       "2  2020-08-06  ETHUSD  401.21  404.03  391.00  395.28   147321.26   \n",
       "3  2020-08-05  ETHUSD  389.82  408.00  383.86  401.21   208372.76   \n",
       "4  2020-08-04  ETHUSD  386.22  403.64  380.67  389.82   250984.93   \n",
       "5  2020-08-03  ETHUSD  372.21  399.69  366.34  386.22   246594.39   \n",
       "6  2020-08-02  ETHUSD  387.40  415.00  325.75  372.21   573196.45   \n",
       "\n",
       "     Volume USD   %Change  Gradient  \n",
       "0  8.713003e+06  0.000000         1  \n",
       "1  9.878884e+07 -0.202355         0  \n",
       "2  5.849686e+07  4.089533         1  \n",
       "3  8.261080e+07  1.500202         1  \n",
       "4  9.815058e+07 -2.838912         0  \n",
       "5  9.579646e+07 -0.923503         0  \n",
       "6  2.166140e+08 -3.627466         0  "
      ]
     },
     "execution_count": 419,
     "metadata": {},
     "output_type": "execute_result"
    }
   ],
   "source": [
    "ethData.head(7)"
   ]
  },
  {
   "cell_type": "code",
   "execution_count": null,
   "metadata": {},
   "outputs": [],
   "source": []
  },
  {
   "cell_type": "markdown",
   "metadata": {},
   "source": [
    "The data looks like it checks out, and correct next gradient given a previous sequence of 5"
   ]
  },
  {
   "cell_type": "markdown",
   "metadata": {},
   "source": [
    "## Attempting pattern recognition with a very simple model\n",
    "\n",
    "Next we can try to predict the gradient with a fully connected neural network. This will likely be innacurate but is a good litmus test for how our data behaves "
   ]
  },
  {
   "cell_type": "code",
   "execution_count": 420,
   "metadata": {},
   "outputs": [],
   "source": [
    "from torch import nn\n",
    "import torch"
   ]
  },
  {
   "cell_type": "code",
   "execution_count": 421,
   "metadata": {},
   "outputs": [],
   "source": [
    "#TODO: fix error when specifying larger batch size than 1\n",
    "\n",
    "trainLoader = torch.utils.data.DataLoader(train_data,batch_size = 1, shuffle=True)"
   ]
  },
  {
   "cell_type": "code",
   "execution_count": 422,
   "metadata": {},
   "outputs": [
    {
     "data": {
      "text/plain": [
       "Sequential(\n",
       "  (0): Linear(in_features=7, out_features=16, bias=True)\n",
       "  (1): ReLU()\n",
       "  (2): Linear(in_features=16, out_features=32, bias=True)\n",
       "  (3): ReLU()\n",
       "  (4): Linear(in_features=32, out_features=2, bias=True)\n",
       ")"
      ]
     },
     "execution_count": 422,
     "metadata": {},
     "output_type": "execute_result"
    }
   ],
   "source": [
    "\n",
    "net = nn.Sequential(nn.Linear(seq_len,16),\n",
    "                 nn.ReLU(),\n",
    "                 nn.Linear(16,32),\n",
    "                 nn.ReLU(),\n",
    "                 nn.Linear(32,2),\n",
    "                 )\n",
    "net"
   ]
  },
  {
   "cell_type": "markdown",
   "metadata": {},
   "source": [
    "Lets attempt to run some of our data through the network and see what happens"
   ]
  },
  {
   "cell_type": "code",
   "execution_count": 423,
   "metadata": {},
   "outputs": [
    {
     "name": "stdout",
     "output_type": "stream",
     "text": [
      "tensor(1)\n"
     ]
    }
   ],
   "source": [
    "test_seq = torch.from_numpy(input_data[0][0]).float()\n",
    "test_seq\n",
    "output = torch.argmax(net(test_seq)).squeeze(0)\n",
    "print(output)"
   ]
  },
  {
   "cell_type": "markdown",
   "metadata": {},
   "source": [
    "### Define the Accuracy Metric"
   ]
  },
  {
   "cell_type": "code",
   "execution_count": 424,
   "metadata": {},
   "outputs": [],
   "source": [
    "def accuracy(inp,r=0.1):\n",
    "    corr=0\n",
    "    length = int(r*len(inp))\n",
    "    for i in range(length):\n",
    "        test_seq = torch.from_numpy(inp[i][0]).float()\n",
    "        if inp[i][1] == torch.argmax(net(test_seq)).squeeze(0).item():\n",
    "            corr += 1\n",
    "    print(f'The model is {100*corr/length:0.2f}% accurate')"
   ]
  },
  {
   "cell_type": "markdown",
   "metadata": {},
   "source": [
    "## Write the Training Loop"
   ]
  },
  {
   "cell_type": "code",
   "execution_count": 425,
   "metadata": {},
   "outputs": [],
   "source": [
    "criterion = nn.CrossEntropyLoss()\n",
    "optimizer = torch.optim.Adam(net.parameters(),lr=0.01)"
   ]
  },
  {
   "cell_type": "code",
   "execution_count": 426,
   "metadata": {
    "scrolled": true
   },
   "outputs": [
    {
     "name": "stdout",
     "output_type": "stream",
     "text": [
      "running loss: 0.712\n",
      "for the training set\n",
      "The model is 40.57% accurate\n",
      "for validation set\n",
      "The model is 40.00% accurate\n",
      "\n",
      "running loss: 0.627\n",
      "for the training set\n",
      "The model is 48.11% accurate\n",
      "for validation set\n",
      "The model is 43.33% accurate\n",
      "\n",
      "running loss: 0.641\n",
      "for the training set\n",
      "The model is 54.72% accurate\n",
      "for validation set\n",
      "The model is 60.00% accurate\n",
      "\n",
      "running loss: 0.669\n",
      "for the training set\n",
      "The model is 52.83% accurate\n",
      "for validation set\n",
      "The model is 33.33% accurate\n",
      "\n",
      "running loss: 0.722\n",
      "for the training set\n",
      "The model is 65.09% accurate\n",
      "for validation set\n",
      "The model is 43.33% accurate\n",
      "\n",
      "running loss: 0.592\n",
      "for the training set\n",
      "The model is 54.72% accurate\n",
      "for validation set\n",
      "The model is 46.67% accurate\n",
      "\n"
     ]
    }
   ],
   "source": [
    "epochs=10\n",
    "c=1\n",
    "b_size=32\n",
    "net.train()\n",
    "for e in range(epochs):\n",
    "    loss=0\n",
    "    batch=0\n",
    "    optimizer.zero_grad()\n",
    "    for features, targets in trainLoader:\n",
    "        features=features.float()\n",
    "        #targets = torch.tensor([0])\n",
    "        out=net(features)\n",
    "        loss+=criterion(out,targets)\n",
    "        if batch==b_size:\n",
    "            loss=loss/b_size\n",
    "            loss.backward()\n",
    "            optimizer.step()\n",
    "            optimizer.zero_grad()\n",
    "            if c%50 == 0 and type(loss) is not int:#for every 250 batches, print the training loss\n",
    "                net.eval()\n",
    "                #print(targets.item(), torch.argmax(out).item())\n",
    "                print('running loss:',round(loss.item(),3))\n",
    "                print('for the training set')\n",
    "                accuracy(train_data, 0.1)\n",
    "                print('for validation set')\n",
    "                accuracy(valid_data)\n",
    "                print()\n",
    "                net.train()\n",
    "            batch=0\n",
    "            loss=0\n",
    "            c+=1\n",
    "        batch+=1\n",
    "        \n",
    "        \n"
   ]
  },
  {
   "cell_type": "code",
   "execution_count": 427,
   "metadata": {},
   "outputs": [
    {
     "name": "stdout",
     "output_type": "stream",
     "text": [
      "tensor(0) 0\n"
     ]
    }
   ],
   "source": [
    "i=1\n",
    "test_seq = torch.from_numpy(input_data[i][0]).float()\n",
    "test_seq\n",
    "output = torch.argmax(net(test_seq)).squeeze(0)\n",
    "print(output, input_data[i][1])"
   ]
  },
  {
   "cell_type": "code",
   "execution_count": null,
   "metadata": {},
   "outputs": [],
   "source": []
  },
  {
   "cell_type": "code",
   "execution_count": 428,
   "metadata": {},
   "outputs": [
    {
     "name": "stdout",
     "output_type": "stream",
     "text": [
      "The model is 47.02% accurate\n"
     ]
    }
   ],
   "source": [
    "accuracy(test_data,1)"
   ]
  },
  {
   "cell_type": "markdown",
   "metadata": {},
   "source": [
    "# Test the Model with Real Time Data"
   ]
  },
  {
   "cell_type": "code",
   "execution_count": 429,
   "metadata": {},
   "outputs": [],
   "source": [
    "import cryptocompare as crc\n",
    "import datetime"
   ]
  },
  {
   "cell_type": "code",
   "execution_count": 430,
   "metadata": {},
   "outputs": [
    {
     "name": "stdout",
     "output_type": "stream",
     "text": [
      "{'ETH': {'USD': 393.68}}\n"
     ]
    }
   ],
   "source": [
    "tod = datetime.datetime.now()\n",
    "test=crc.get_historical_price('ETH', 'USD',\n",
    "                         timestamp=tod, exchange='Coinbase')\n",
    "print(test)"
   ]
  },
  {
   "cell_type": "code",
   "execution_count": 440,
   "metadata": {},
   "outputs": [
    {
     "name": "stdout",
     "output_type": "stream",
     "text": [
      "[346.86, 387.4, 372.21, 386.22, 389.82, 401.21, 395.28, 379.75]\n"
     ]
    }
   ],
   "source": [
    "def get_past_days(num_days=5,curr='ETH'):\n",
    "    tod = datetime.datetime.now()\n",
    "    prices=[]\n",
    "    for i in range(num_days+1,1,-1):\n",
    "        d = datetime.timedelta(days = i)\n",
    "        a = tod - d\n",
    "        price=crc.get_historical_price(curr, 'USD',\n",
    "                         timestamp=a, exchange='Coinbase')\n",
    "        prices.append(price[curr]['USD'])\n",
    "    return prices\n",
    "p=get_past_days(8)\n",
    "print(p)"
   ]
  },
  {
   "cell_type": "code",
   "execution_count": 441,
   "metadata": {},
   "outputs": [
    {
     "data": {
      "text/plain": [
       "array([11.68771262, -3.92101187,  3.76400419,  0.93211123,  2.92186137,\n",
       "       -1.47802896, -3.92886055])"
      ]
     },
     "execution_count": 441,
     "metadata": {},
     "output_type": "execute_result"
    }
   ],
   "source": [
    "delta_real=percent_change(p)[1:]\n",
    "delta_real"
   ]
  },
  {
   "cell_type": "code",
   "execution_count": 442,
   "metadata": {},
   "outputs": [
    {
     "data": {
      "text/plain": [
       "0"
      ]
     },
     "execution_count": 442,
     "metadata": {},
     "output_type": "execute_result"
    }
   ],
   "source": [
    "prediction = torch.argmax(net(torch.from_numpy(delta_real).float())).squeeze(0).item()\n",
    "prediction"
   ]
  },
  {
   "cell_type": "code",
   "execution_count": 443,
   "metadata": {},
   "outputs": [
    {
     "data": {
      "text/plain": [
       "0"
      ]
     },
     "execution_count": 443,
     "metadata": {},
     "output_type": "execute_result"
    }
   ],
   "source": [
    "real = int(get_past_days(1)[0] > crc.get_historical_price('ETH', 'USD',\n",
    "                                                       timestamp=datetime.datetime.now(),\n",
    "                                                       exchange='Coinbase')['ETH']['USD'])\n",
    "real"
   ]
  },
  {
   "cell_type": "markdown",
   "metadata": {},
   "source": [
    "In this case, our model correctly predicted that the price would increase. However, even a naive model would be right 50% of the time so this result is not surpising."
   ]
  },
  {
   "cell_type": "markdown",
   "metadata": {},
   "source": [
    "# RNN Based Model for Pattern Recognition\n",
    "Now we can try a slightly more advanced model in the form of an recurrent neural network using lstm cells"
   ]
  },
  {
   "cell_type": "code",
   "execution_count": null,
   "metadata": {},
   "outputs": [],
   "source": [
    "class rnn_model():\n",
    "    def __init__():\n",
    "        super"
   ]
  }
 ],
 "metadata": {
  "kernelspec": {
   "display_name": "Python 3",
   "language": "python",
   "name": "python3"
  },
  "language_info": {
   "codemirror_mode": {
    "name": "ipython",
    "version": 3
   },
   "file_extension": ".py",
   "mimetype": "text/x-python",
   "name": "python",
   "nbconvert_exporter": "python",
   "pygments_lexer": "ipython3",
   "version": "3.7.1"
  }
 },
 "nbformat": 4,
 "nbformat_minor": 2
}
