{
 "cells": [
  {
   "cell_type": "code",
   "execution_count": 1,
   "metadata": {},
   "outputs": [],
   "source": [
    "import pandas as pd\n",
    "import numpy as np\n",
    "import matplotlib.pyplot as plt\n",
    "from torch import nn\n",
    "import torch\n",
    "import cryptocompare as crc\n",
    "import datetime"
   ]
  },
  {
   "cell_type": "code",
   "execution_count": 2,
   "metadata": {},
   "outputs": [],
   "source": [
    "#read and clean data\n",
    "ethData = pd.read_csv('Coinbase_ETHUSD_1h.csv', header = 1)\n",
    "ethData['Close'] = ethData['Close'].replace(0, method='ffill')\n",
    "ethPrices = ethData['Close'].to_numpy()"
   ]
  },
  {
   "cell_type": "code",
   "execution_count": 3,
   "metadata": {},
   "outputs": [
    {
     "data": {
      "text/plain": [
       "[<matplotlib.lines.Line2D at 0x223effe5f48>]"
      ]
     },
     "execution_count": 3,
     "metadata": {},
     "output_type": "execute_result"
    },
    {
     "data": {
      "image/png": "[encoded data removed]",
      "text/plain": [
       "<Figure size 432x288 with 1 Axes>"
      ]
     },
     "metadata": {
      "needs_background": "light"
     },
     "output_type": "display_data"
    }
   ],
   "source": [
    "plt.plot(ethData['Close'])"
   ]
  },
  {
   "cell_type": "code",
   "execution_count": 4,
   "metadata": {},
   "outputs": [
    {
     "name": "stdout",
     "output_type": "stream",
     "text": [
      "[396.12 394.97 399.52 399.68 397.69]\n",
      "[394.97 399.52 399.68 397.69 392.8 ]\n",
      "27149 27149\n"
     ]
    }
   ],
   "source": [
    "prices = ethData['Close'].to_numpy()\n",
    "\n",
    "targets = np.append(prices[1:], prices[-1])\n",
    "\n",
    "print(prices[:5])\n",
    "print(targets[:5])\n",
    "\n",
    "print(prices.size, targets.size)"
   ]
  },
  {
   "cell_type": "code",
   "execution_count": 5,
   "metadata": {},
   "outputs": [],
   "source": [
    "seq_len = 24\n",
    "data=[]\n",
    "for i in range(seq_len, prices.size):\n",
    "    data.append((prices[i-seq_len:i], targets[i]))\n"
   ]
  },
  {
   "cell_type": "code",
   "execution_count": 6,
   "metadata": {},
   "outputs": [
    {
     "data": {
      "text/plain": [
       "(array([381.65, 384.97, 384.06, 384.48, 381.31, 379.65, 383.82, 379.73,\n",
       "        377.93, 372.21, 373.71, 377.74, 373.19, 379.48, 385.65, 385.04,\n",
       "        382.17, 368.57, 369.17, 365.58, 359.05, 361.76, 372.67, 378.07]),\n",
       " 380.3)"
      ]
     },
     "execution_count": 6,
     "metadata": {},
     "output_type": "execute_result"
    }
   ],
   "source": [
    "data[55]"
   ]
  },
  {
   "cell_type": "code",
   "execution_count": 7,
   "metadata": {},
   "outputs": [],
   "source": [
    "n=len(data)\n",
    "train=int(0.7*n)\n",
    "valid=int(0.2*n)\n",
    "test=int(0.1*n)\n",
    "\n",
    "train_data=data[:train]\n",
    "valid_data=data[train:train+valid]\n",
    "test_data=data[-test:]"
   ]
  },
  {
   "cell_type": "code",
   "execution_count": 8,
   "metadata": {},
   "outputs": [],
   "source": [
    "#TODO: fix error when specifying larger batch size than 1 --- FIXED\n",
    "batch_size=64\n",
    "\n",
    "trainLoader = torch.utils.data.DataLoader(train_data,batch_size = batch_size, shuffle=True)\n",
    "validLoader = torch.utils.data.DataLoader(valid_data,batch_size = batch_size, shuffle=True)\n",
    "testLoader = torch.utils.data.DataLoader(test_data,batch_size = batch_size, shuffle=True)"
   ]
  },
  {
   "cell_type": "code",
   "execution_count": 9,
   "metadata": {},
   "outputs": [
    {
     "name": "stdout",
     "output_type": "stream",
     "text": [
      "True\n"
     ]
    }
   ],
   "source": [
    "train_on_gpu = torch.cuda.is_available()\n",
    "print(train_on_gpu)"
   ]
  },
  {
   "cell_type": "code",
   "execution_count": 23,
   "metadata": {},
   "outputs": [
    {
     "data": {
      "text/plain": [
       "rnn_model(\n",
       "  (lstm): LSTM(1, 64, num_layers=2, batch_first=True, dropout=0.3)\n",
       "  (fcn1): Linear(in_features=64, out_features=128, bias=True)\n",
       "  (fcn2): Linear(in_features=128, out_features=1, bias=True)\n",
       "  (dropout): Dropout(p=0.2, inplace=False)\n",
       ")"
      ]
     },
     "execution_count": 23,
     "metadata": {},
     "output_type": "execute_result"
    }
   ],
   "source": [
    "class rnn_model(nn.Module):\n",
    "    def __init__(self, input_size, n_hidden, n_layers, n_out):\n",
    "        super().__init__()\n",
    "        \n",
    "        self.n_hidden=n_hidden\n",
    "        self.n_layers = n_layers\n",
    "        self.lstm = nn.LSTM(input_size, n_hidden, n_layers, batch_first = True, dropout = 0.3)\n",
    "        self.fcn1 = nn.Linear(n_hidden, 128)\n",
    "        self.fcn2 = nn.Linear(128, n_out)#single value for regression\n",
    "        \n",
    "        self.dropout = nn.Dropout(0.2)\n",
    "        \n",
    "    def forward(self, x, hidden):\n",
    "        #x input shape is (batch_size, seq_len, features)\n",
    "        lstm_out, hidden = self.lstm(x)\n",
    "        lstm_out = lstm_out.contiguous().view(-1,self.n_hidden) #reshape lstm output for fcl\n",
    "        output=self.fcn1(lstm_out)\n",
    "        output = self.dropout(output)\n",
    "        output=self.fcn2(output)\n",
    "        #sig_out = self.sig(output)\n",
    "        #print(x.size(0))\n",
    "        output = output.view(x.size(0),-1)\n",
    "        return output[:,-1], hidden #return last prediction for each batch, and the hidden state\n",
    "    \n",
    "    def init_hidden(self,batch_size):\n",
    "        \n",
    "        weight = next(self.parameters()).data\n",
    "        \n",
    "        if (train_on_gpu):\n",
    "            hidden = (weight.new(self.n_layers, batch_size, self.n_hidden).zero_().cuda(),\n",
    "                  weight.new(self.n_layers, batch_size, self.n_hidden).zero_().cuda())\n",
    "        else:\n",
    "            hidden = (weight.new(self.n_layers, batch_size, self.n_hidden).zero_(),\n",
    "                      weight.new(self.n_layers, batch_size, self.n_hidden).zero_())\n",
    "        \n",
    "        return hidden\n",
    "        \n",
    "rnn = rnn_model(1,64,2,1)\n",
    "rnn"
   ]
  },
  {
   "cell_type": "code",
   "execution_count": 24,
   "metadata": {},
   "outputs": [],
   "source": [
    "criterion = nn.MSELoss()\n",
    "optimizer = torch.optim.Adam(rnn.parameters(), lr=0.001)"
   ]
  },
  {
   "cell_type": "code",
   "execution_count": 25,
   "metadata": {
    "scrolled": true
   },
   "outputs": [
    {
     "name": "stdout",
     "output_type": "stream",
     "text": [
      "..training loss:  8447\n",
      "validation loss:  265099\n",
      "..training loss:  211\n",
      "validation loss:  158083\n",
      "..training loss:  170\n",
      "validation loss:  102927\n",
      "..training loss:  236\n",
      "validation loss:  88390\n",
      "..training loss:  782\n",
      "validation loss:  81143\n",
      "..training loss:  153\n",
      "validation loss:  74182\n",
      "..training loss:  206\n",
      "validation loss:  69365\n",
      "..training loss:  271\n",
      "validation loss:  65198\n",
      "..training loss:  180\n",
      "validation loss:  62269\n",
      "..training loss:  185\n",
      "validation loss:  59513\n",
      "..training loss:  215\n",
      "validation loss:  57637\n",
      "..training loss:  108\n",
      "validation loss:  55830\n",
      "..training loss:  137\n",
      "validation loss:  53141\n",
      "..training loss:  169\n",
      "validation loss:  53383\n",
      "..training loss:  124\n",
      "validation loss:  51281\n",
      "..training loss:  274\n",
      "validation loss:  51616\n",
      "..training loss:  238\n",
      "validation loss:  49754\n",
      "..training loss:  194\n",
      "validation loss:  49112\n",
      "..training loss:  176\n",
      "validation loss:  48767\n",
      "..training loss:  126\n",
      "validation loss:  48063\n",
      "..training loss:  235\n",
      "validation loss:  48254\n",
      "..training loss:  149\n",
      "validation loss:  46888\n",
      "..training loss:  140\n",
      "validation loss:  48168\n",
      "..training loss:  148\n",
      "validation loss:  50100\n",
      "..training loss:  239\n",
      "validation loss:  47843\n",
      "..training loss:  130\n",
      "validation loss:  49492\n",
      "..training loss:  206\n",
      "validation loss:  45801\n",
      "..training loss:  120\n",
      "validation loss:  45749\n",
      "..training loss:  242\n",
      "validation loss:  53277\n",
      "..training loss:  138\n",
      "validation loss:  46619\n",
      "..training loss:  169\n",
      "validation loss:  48855\n",
      "..training loss:  162\n",
      "validation loss:  48293\n",
      "..training loss:  150\n",
      "validation loss:  47882\n",
      "..training loss:  152\n",
      "validation loss:  48559\n",
      "..training loss:  103\n",
      "validation loss:  47909\n",
      "..training loss:  82\n",
      "validation loss:  46072\n",
      "..training loss:  194\n",
      "validation loss:  46581\n",
      "..training loss:  172\n",
      "validation loss:  49311\n",
      "..training loss:  180\n",
      "validation loss:  51684\n",
      "..training loss:  288\n",
      "validation loss:  50131\n",
      "..training loss:  197\n",
      "validation loss:  45664\n",
      "..training loss:  155\n",
      "validation loss:  45695\n",
      "..training loss:  166\n",
      "validation loss:  47969\n",
      "..training loss:  160\n",
      "validation loss:  49211\n",
      "..training loss:  138\n",
      "validation loss:  46981\n",
      "..training loss:  144\n",
      "validation loss:  46370\n",
      "..training loss:  149\n",
      "validation loss:  46807\n",
      "..training loss:  105\n",
      "validation loss:  48284\n",
      "..training loss:  161\n",
      "validation loss:  49440\n",
      "..training loss:  272\n",
      "validation loss:  44661\n",
      "..training loss:  119\n",
      "validation loss:  50606\n",
      "..training loss:  210\n",
      "validation loss:  45219\n",
      "..training loss:  70\n",
      "validation loss:  40650\n",
      "..training loss:  149\n",
      "validation loss:  42418\n",
      "..training loss:  154\n",
      "validation loss:  46594\n",
      "..training loss:  88\n",
      "validation loss:  45720\n",
      "..training loss:  97\n",
      "validation loss:  41555\n",
      "..training loss:  124\n",
      "validation loss:  47169\n",
      "..training loss:  209\n",
      "validation loss:  40985\n",
      "..training loss:  164\n",
      "validation loss:  50889\n",
      "..training loss:  185\n",
      "validation loss:  47630\n",
      "..training loss:  159\n",
      "validation loss:  45843\n",
      "..training loss:  128\n",
      "validation loss:  47453\n",
      "..training loss:  65\n",
      "validation loss:  46699\n",
      "..training loss:  216\n",
      "validation loss:  48541\n",
      "..training loss:  92\n",
      "validation loss:  51103\n",
      "..training loss:  145\n",
      "validation loss:  48400\n",
      "..training loss:  193\n",
      "validation loss:  47875\n",
      "..training loss:  181\n",
      "validation loss:  51753\n",
      "..training loss:  94\n",
      "validation loss:  53365\n",
      "..training loss:  85\n",
      "validation loss:  54212\n",
      "..training loss:  187\n",
      "validation loss:  50070\n",
      "..training loss:  105\n",
      "validation loss:  48915\n",
      "..training loss:  93\n",
      "validation loss:  46748\n"
     ]
    }
   ],
   "source": [
    "\n",
    "epochs=50\n",
    "counter=0\n",
    "clip=5 #gradient clipping to prevent exploding gradients common in lstms\n",
    "print_every=200\n",
    "\n",
    "train_losses=[]\n",
    "valid_losses=[]\n",
    "\n",
    "if train_on_gpu:\n",
    "    rnn.cuda()\n",
    "    \n",
    "rnn.train()\n",
    "for e in range(epochs):\n",
    "    #initialize hidden state\n",
    "    h = rnn.init_hidden(batch_size)\n",
    "    \n",
    "    for inputs, labels in trainLoader:\n",
    "        counter+=1\n",
    "        \n",
    "        #if cuda is available, push data to gpu\n",
    "        if(train_on_gpu):\n",
    "            inputs, labels = inputs.cuda(), labels.cuda()\n",
    "            \n",
    "        #reshape inputs and convert to float\n",
    "        inputs = inputs.float().unsqueeze(-1)\n",
    "        #print(inputs.shape)\n",
    "        #print(inputs, labels)\n",
    "        #make new variables for hidden state so back propagation doesnt occur through entire hidden layer history\n",
    "        h = tuple([each.data for each in h])\n",
    "        \n",
    "        #clear out gradients\n",
    "        rnn.zero_grad()\n",
    "        \n",
    "        #get model output\n",
    "        out, h = rnn(inputs, h)\n",
    "        \n",
    "        #print(out, labels.shape)\n",
    "        #calc loss and perform backpropagation\n",
    "        loss = criterion(out.squeeze(0),labels.float())\n",
    "        loss.backward()\n",
    "        \n",
    "        train_losses.append(loss.item())\n",
    "        \n",
    "        nn.utils.clip_grad_norm_(rnn.parameters(), clip)\n",
    "        optimizer.step()\n",
    "        \n",
    "        #every few loops, print the loss and accuracy metrics\n",
    "        if counter % print_every == 0:\n",
    "            val_h = rnn.init_hidden(batch_size)\n",
    "            val_losses = []\n",
    "            rnn.eval()\n",
    "            for inputs, labels in validLoader:\n",
    "                if(train_on_gpu):\n",
    "                    inputs, labels = inputs.cuda(), labels.cuda()\n",
    "                val_h = tuple([each.data for each in val_h])\n",
    "                inputs = inputs.float().unsqueeze(-1)\n",
    "                val_out, val_h = rnn(inputs, val_h)\n",
    "                \n",
    "                val_loss = criterion(val_out.squeeze(0), labels.float())\n",
    "                val_losses.append(val_loss.item())\n",
    "            print('..training loss: ', round(loss.item()))\n",
    "            \n",
    "            print('validation loss: ', round(np.mean(val_losses)))\n",
    "            valid_losses.append(np.mean(val_losses))\n",
    "            rnn.train()"
   ]
  },
  {
   "cell_type": "markdown",
   "metadata": {},
   "source": [
    "best losses were 95440 for validation and 903 for training with 3 layers, 32 nodes\n",
    "\n",
    "best losses were 53651 for validation and 410 for training with 2 layers, 64 nodes"
   ]
  },
  {
   "cell_type": "code",
   "execution_count": 26,
   "metadata": {},
   "outputs": [
    {
     "data": {
      "text/plain": [
       "[<matplotlib.lines.Line2D at 0x22382cd2508>]"
      ]
     },
     "execution_count": 26,
     "metadata": {},
     "output_type": "execute_result"
    },
    {
     "data": {
      "image/png": "[encoded data removed]",
      "text/plain": [
       "<Figure size 432x288 with 1 Axes>"
      ]
     },
     "metadata": {
      "needs_background": "light"
     },
     "output_type": "display_data"
    }
   ],
   "source": [
    "plt.plot(train_losses)"
   ]
  },
  {
   "cell_type": "code",
   "execution_count": 27,
   "metadata": {},
   "outputs": [
    {
     "data": {
      "text/plain": [
       "[<matplotlib.lines.Line2D at 0x22384effac8>]"
      ]
     },
     "execution_count": 27,
     "metadata": {},
     "output_type": "execute_result"
    },
    {
     "data": {
      "image/png": "[encoded data removed]",
      "text/plain": [
       "<Figure size 432x288 with 1 Axes>"
      ]
     },
     "metadata": {
      "needs_background": "light"
     },
     "output_type": "display_data"
    }
   ],
   "source": [
    "plt.plot(valid_losses)"
   ]
  },
  {
   "cell_type": "code",
   "execution_count": 15,
   "metadata": {},
   "outputs": [],
   "source": [
    "tod = datetime.datetime.now()\n",
    "test=crc.get_historical_price('ETH', 'USD',\n",
    "                         timestamp=tod, exchange='Coinbase')"
   ]
  },
  {
   "cell_type": "code",
   "execution_count": 16,
   "metadata": {},
   "outputs": [
    {
     "data": {
      "text/plain": [
       "[239.17,\n",
       " 236.1,\n",
       " 245.88,\n",
       " 264.28,\n",
       " 275.68,\n",
       " 279.59,\n",
       " 305.66,\n",
       " 311.35,\n",
       " 322.24,\n",
       " 317.59,\n",
       " 318.16,\n",
       " 335.31,\n",
       " 346.86,\n",
       " 387.4,\n",
       " 372.21,\n",
       " 386.22,\n",
       " 389.82,\n",
       " 401.21,\n",
       " 395.28,\n",
       " 379.75,\n",
       " 397.51,\n",
       " 390.41,\n",
       " 395.78,\n",
       " 378.88,\n",
       " 387.27]"
      ]
     },
     "execution_count": 16,
     "metadata": {},
     "output_type": "execute_result"
    }
   ],
   "source": [
    "def get_past_days(num_days=5,curr='ETH'):\n",
    "    tod = datetime.datetime.now()\n",
    "    prices=[]\n",
    "    for i in range(num_days+1,1,-1):\n",
    "        d = datetime.timedelta(days = i)\n",
    "        a = tod - d\n",
    "        price=crc.get_historical_price(curr, 'USD',\n",
    "                         timestamp=a, exchange='Coinbase')\n",
    "        prices.append(price[curr]['USD'])\n",
    "    return prices\n",
    "p=get_past_days(seq_len + 1)\n",
    "p"
   ]
  },
  {
   "cell_type": "code",
   "execution_count": 20,
   "metadata": {},
   "outputs": [],
   "source": [
    "future = p[:]\n",
    "#future.append(421.08)\n",
    "\n",
    "#future = [393.71, 389.74, 390.87, 385.61, 380.49, 381.65, 384.97]\n",
    "\n",
    "future = torch.Tensor(future)"
   ]
  },
  {
   "cell_type": "code",
   "execution_count": 29,
   "metadata": {},
   "outputs": [
    {
     "name": "stdout",
     "output_type": "stream",
     "text": [
      "374.9017333984375 423.26\n"
     ]
    },
    {
     "data": {
      "text/plain": [
       "rnn_model(\n",
       "  (lstm): LSTM(1, 64, num_layers=2, batch_first=True, dropout=0.3)\n",
       "  (fcn1): Linear(in_features=64, out_features=128, bias=True)\n",
       "  (fcn2): Linear(in_features=128, out_features=1, bias=True)\n",
       "  (dropout): Dropout(p=0.2, inplace=False)\n",
       ")"
      ]
     },
     "execution_count": 29,
     "metadata": {},
     "output_type": "execute_result"
    }
   ],
   "source": [
    "rnn.eval()\n",
    "future=future.float().view(1,-1,1)\n",
    "prediction = rnn(future.cuda(), rnn.init_hidden(1))\n",
    "print(prediction[0].item(), test['ETH']['USD'])\n",
    "rnn.train()"
   ]
  },
  {
   "cell_type": "code",
   "execution_count": 19,
   "metadata": {},
   "outputs": [
    {
     "ename": "NameError",
     "evalue": "name 'test_h' is not defined",
     "output_type": "error",
     "traceback": [
      "\u001b[1;31m---------------------------------------------------------------------------\u001b[0m",
      "\u001b[1;31mNameError\u001b[0m                                 Traceback (most recent call last)",
      "\u001b[1;32m<ipython-input-19-45b238e984c2>\u001b[0m in \u001b[0;36m<module>\u001b[1;34m\u001b[0m\n\u001b[0;32m      3\u001b[0m     \u001b[1;32mif\u001b[0m\u001b[1;33m(\u001b[0m\u001b[0mtrain_on_gpu\u001b[0m\u001b[1;33m)\u001b[0m\u001b[1;33m:\u001b[0m\u001b[1;33m\u001b[0m\u001b[1;33m\u001b[0m\u001b[0m\n\u001b[0;32m      4\u001b[0m             \u001b[0minputs\u001b[0m\u001b[1;33m,\u001b[0m \u001b[0mlabels\u001b[0m \u001b[1;33m=\u001b[0m \u001b[0minputs\u001b[0m\u001b[1;33m.\u001b[0m\u001b[0mcuda\u001b[0m\u001b[1;33m(\u001b[0m\u001b[1;33m)\u001b[0m\u001b[1;33m,\u001b[0m \u001b[0mlabels\u001b[0m\u001b[1;33m.\u001b[0m\u001b[0mcuda\u001b[0m\u001b[1;33m(\u001b[0m\u001b[1;33m)\u001b[0m\u001b[1;33m\u001b[0m\u001b[1;33m\u001b[0m\u001b[0m\n\u001b[1;32m----> 5\u001b[1;33m             \u001b[0mtest_h\u001b[0m \u001b[1;33m=\u001b[0m \u001b[0mtuple\u001b[0m\u001b[1;33m(\u001b[0m\u001b[1;33m[\u001b[0m\u001b[0meach\u001b[0m\u001b[1;33m.\u001b[0m\u001b[0mdata\u001b[0m \u001b[1;32mfor\u001b[0m \u001b[0meach\u001b[0m \u001b[1;32min\u001b[0m \u001b[0mtest_h\u001b[0m\u001b[1;33m]\u001b[0m\u001b[1;33m)\u001b[0m\u001b[1;33m\u001b[0m\u001b[1;33m\u001b[0m\u001b[0m\n\u001b[0m\u001b[0;32m      6\u001b[0m             \u001b[0minputs\u001b[0m \u001b[1;33m=\u001b[0m \u001b[0minputs\u001b[0m\u001b[1;33m.\u001b[0m\u001b[0mfloat\u001b[0m\u001b[1;33m(\u001b[0m\u001b[1;33m)\u001b[0m\u001b[1;33m.\u001b[0m\u001b[0munsqueeze\u001b[0m\u001b[1;33m(\u001b[0m\u001b[1;33m-\u001b[0m\u001b[1;36m1\u001b[0m\u001b[1;33m)\u001b[0m\u001b[1;33m\u001b[0m\u001b[1;33m\u001b[0m\u001b[0m\n\u001b[0;32m      7\u001b[0m             \u001b[0mtest_out\u001b[0m\u001b[1;33m,\u001b[0m \u001b[0mval_h\u001b[0m \u001b[1;33m=\u001b[0m \u001b[0mrnn\u001b[0m\u001b[1;33m(\u001b[0m\u001b[0minputs\u001b[0m\u001b[1;33m,\u001b[0m \u001b[0mtest_h\u001b[0m\u001b[1;33m)\u001b[0m\u001b[1;33m\u001b[0m\u001b[1;33m\u001b[0m\u001b[0m\n",
      "\u001b[1;31mNameError\u001b[0m: name 'test_h' is not defined"
     ]
    }
   ],
   "source": [
    "rnn.eval()\n",
    "for inputs, labels in validLoader:\n",
    "    if(train_on_gpu):\n",
    "            inputs, labels = inputs.cuda(), labels.cuda()\n",
    "            test_h = tuple([each.data for each in test_h])\n",
    "            inputs = inputs.float().unsqueeze(-1)\n",
    "            test_out, val_h = rnn(inputs, test_h)\n",
    "\n",
    "            test_losses.append(test_loss.item())\n",
    "rnn.train()"
   ]
  },
  {
   "cell_type": "code",
   "execution_count": null,
   "metadata": {},
   "outputs": [],
   "source": []
  }
 ],
 "metadata": {
  "kernelspec": {
   "display_name": "Python 3",
   "language": "python",
   "name": "python3"
  },
  "language_info": {
   "codemirror_mode": {
    "name": "ipython",
    "version": 3
   },
   "file_extension": ".py",
   "mimetype": "text/x-python",
   "name": "python",
   "nbconvert_exporter": "python",
   "pygments_lexer": "ipython3",
   "version": "3.7.7"
  }
 },
 "nbformat": 4,
 "nbformat_minor": 4
}
