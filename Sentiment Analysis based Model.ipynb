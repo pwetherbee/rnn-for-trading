{
 "cells": [
  {
   "cell_type": "code",
   "execution_count": 18,
   "metadata": {},
   "outputs": [],
   "source": [
    "from crypto_news_api import CryptoControlAPI\n",
    "\n",
    "api = CryptoControlAPI('ceac0273a69d3e7f5a768ea6748cd957')"
   ]
  },
  {
   "cell_type": "code",
   "execution_count": 26,
   "metadata": {},
   "outputs": [],
   "source": [
    "#api.enableSentiment()\n",
    "bitcoin_news=api.getTopNewsByCoin('bitcoin')\n",
    "ethereum_news=api.getTopNewsByCoin('ethereum')"
   ]
  },
  {
   "cell_type": "code",
   "execution_count": 30,
   "metadata": {},
   "outputs": [
    {
     "name": "stdout",
     "output_type": "stream",
     "text": [
      "After a 60 percent rally in the span of two weeks, the price of Ethereum is cooling off.\n",
      "\n"
     ]
    }
   ],
   "source": [
    "print(ethereum_news[3]['description'])"
   ]
  },
  {
   "cell_type": "code",
   "execution_count": 22,
   "metadata": {},
   "outputs": [
    {
     "name": "stdout",
     "output_type": "stream",
     "text": [
      "Coinbase delays Ethereum Classic transactions after two 51% attacks\n",
      "Chainlink Prints Striking Bearish Reversal Signal After Surging to $11\n",
      "Bitcoin May Consolidate for 2 Weeks Before Seeing “Lift Off”\n",
      "BAND Protocol (BAND) Explodes to $12, This Analogy With Chainlink (LINK) Shows the Oracle Coin Has Just Begun\n",
      "South Korean Beachgoers Can Now Use Bitcoin to Pay for Services\n",
      "Market Wrap - Bitcoin Stays Around $11K While Cardano Makes a Major DeFi Move\n",
      "Grayscale Launches US Ad Campaign To Bring Crypto To Homes\n",
      "Bitcoin: “Number of Addresses Holding 1k+ coins just reached an ATH of 2,193,” Glassnode...\n",
      "Bitcoin faucets: what are they and the working platforms\n",
      "Japan abandoned cryptocurrencies during COVID-19 Pandemic\n",
      "South Korea’s Largest Bank Unveils Bitcoin Custody Services\n",
      "Bitcoin Grows Further As Multi-Dollar Institutions Invest In It\n",
      "Bitcoin Encounters Its Final Resistance Zone Before $15,000\n",
      "A $20m decentralized Chainlink (LINK) short was just liquidated on Aave\n",
      "Price Highs, Bull Runs, and Thieves: Bad Crypto News of the Week\n",
      "Bitcoin Price Prediction: BTC/USD Bulls and Bears Fight for Control around the $11,600\n",
      "Viabtc Founder Reveals BCH Fork Idea Called Bitcoin Cat\n",
      "Richard Stallman: A Discussion on Freedom, Privacy & Cryptocurrencies\n",
      "Privacy Coin, Monero (XMR) Bulls Reawaken After Historic Hashrate Surge, These Key Facts Are Essential to Note\n",
      "Ethereum’s circulating supply – Error 404?\n",
      "Russia’s leading bank Sberbank is reportedly preparing to issue a stablecoin.\n",
      "PayPal inches towards adopting cryptocurrency trading\n",
      "New York Regulator Fast-Tracks 10 Cryptocurrencies\n",
      "Bitcoin Price Prediction: BTC/USD Consolidates Above $11,500; Price May Escalate Soon\n",
      "Bitcoin trading laws impede stablecoin development, says Japan regulator\n",
      "“How many Ethereum in circulation?” Requests the Bitcoin Communal\n",
      "Trending Bitcoin News and Market Sentiment, Weekly Edition, 7th August 2020: Bitcoin Metrics Fly, Crypto Sentiment Peaks, Crypto Mum Till 2025\n",
      "Pantera Capital CEO: XRP Is One Of The Few Cryptocurrencies That’ll Be Really Important Ten Years From Now\n",
      "Massive surge in crypto outlets as Slovenia crypto adoption increases\n",
      "How 51% Attacks Crippled This Ethereum Crypto Offshoot\n",
      "Tether Treasury mints $120M on Ethereum, Ardoino claims inventory replenish\n",
      "The Reason Behind Bitcoin Upsurge Although When The U.S. Dollar Weakened:\n",
      "Erik Voorhees: Bitcoin And Stablecoins Will Eventually Take The Place Of Gold And Bank Notes\n",
      "Bitcoin Cash (BCH) Not To Fork under Haipo Yang to Accept ASERT and stay on BCH\n",
      "Following Today’s Action Will ETH Finally Close Above $400? (Ethereum Price Analysis)\n",
      "This Was The Week Of The Top 10: The Crypto Weekly Market Update\n",
      "Litecoin long-term Price Analysis: 08 August\n",
      "Only Bitcoin Outpaces G4 Central Bank Balance Sheet Growth\n",
      "Gemini Pay Takes on Coinbase Commerce with Flexa Collateralization on Ethereum\n",
      "Hong Kong’s rich relocating gold after China crackdown\n",
      "Mobile DeFi and the Shift Toward Self-Sovereignty\n",
      "BTC and ETH Crypto Derivatives in Demand, Market Expected to Grow Further\n",
      "Germany’s Financial Regulator Confiscates Unlicensed Bitcoin ATMs\n",
      "Goldman Sachs Cryptocurrency: Possible Collaboration With JPMorgan and Facebook\n",
      "Bitcoin is proving ‘smart money’ wrong again\n",
      "Co-Joined by Price Action, Here Is What Analysts Are Saying About Ripple (XRP) and Stellar (XLM) Bull Trends\n",
      "Dollar Reserves Surpass Bitcoin’s Dominance\n"
     ]
    }
   ],
   "source": [
    "#get the titles for every bitcoin article\n",
    "for article in bitcoin_news:\n",
    "    print(article['title'])"
   ]
  },
  {
   "cell_type": "code",
   "execution_count": null,
   "metadata": {},
   "outputs": [],
   "source": []
  }
 ],
 "metadata": {
  "kernelspec": {
   "display_name": "Python 3",
   "language": "python",
   "name": "python3"
  },
  "language_info": {
   "codemirror_mode": {
    "name": "ipython",
    "version": 3
   },
   "file_extension": ".py",
   "mimetype": "text/x-python",
   "name": "python",
   "nbconvert_exporter": "python",
   "pygments_lexer": "ipython3",
   "version": "3.7.1"
  }
 },
 "nbformat": 4,
 "nbformat_minor": 2
}
