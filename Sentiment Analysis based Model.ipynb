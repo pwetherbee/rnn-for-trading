{
 "cells": [
  {
   "cell_type": "code",
   "execution_count": 1,
   "metadata": {},
   "outputs": [],
   "source": [
    "from crypto_news_api import CryptoControlAPI\n",
    "\n",
    "api = CryptoControlAPI('ceac0273a69d3e7f5a768ea6748cd957')"
   ]
  },
  {
   "cell_type": "code",
   "execution_count": 2,
   "metadata": {},
   "outputs": [
    {
     "ename": "Exception",
     "evalue": "Bad response from the CryptoControl API",
     "output_type": "error",
     "traceback": [
      "\u001b[1;31m---------------------------------------------------------------------------\u001b[0m",
      "\u001b[1;31mException\u001b[0m                                 Traceback (most recent call last)",
      "\u001b[1;32m<ipython-input-2-ba492d25f880>\u001b[0m in \u001b[0;36m<module>\u001b[1;34m\u001b[0m\n\u001b[0;32m      1\u001b[0m \u001b[1;31m#api.enableSentiment()\u001b[0m\u001b[1;33m\u001b[0m\u001b[1;33m\u001b[0m\u001b[1;33m\u001b[0m\u001b[0m\n\u001b[1;32m----> 2\u001b[1;33m \u001b[0mbitcoin_news\u001b[0m\u001b[1;33m=\u001b[0m\u001b[0mapi\u001b[0m\u001b[1;33m.\u001b[0m\u001b[0mgetTopNewsByCoin\u001b[0m\u001b[1;33m(\u001b[0m\u001b[1;34m'bitcoin'\u001b[0m\u001b[1;33m)\u001b[0m\u001b[1;33m\u001b[0m\u001b[1;33m\u001b[0m\u001b[0m\n\u001b[0m\u001b[0;32m      3\u001b[0m \u001b[0methereum_news\u001b[0m\u001b[1;33m=\u001b[0m\u001b[0mapi\u001b[0m\u001b[1;33m.\u001b[0m\u001b[0mgetTopNewsByCoin\u001b[0m\u001b[1;33m(\u001b[0m\u001b[1;34m'ethereum'\u001b[0m\u001b[1;33m)\u001b[0m\u001b[1;33m\u001b[0m\u001b[1;33m\u001b[0m\u001b[0m\n",
      "\u001b[1;32m~\\Anaconda3\\envs\\rnn for trading\\lib\\site-packages\\crypto_news_api\\__init__.py\u001b[0m in \u001b[0;36mgetTopNewsByCoin\u001b[1;34m(self, coin, language)\u001b[0m\n\u001b[0;32m     65\u001b[0m             \u001b[0mReturns\u001b[0m \u001b[0ma\u001b[0m \u001b[0mJSON\u001b[0m \u001b[0marray\u001b[0m \u001b[0mof\u001b[0m \u001b[0marticles\u001b[0m\u001b[1;33m\u001b[0m\u001b[1;33m\u001b[0m\u001b[0m\n\u001b[0;32m     66\u001b[0m         \"\"\"\n\u001b[1;32m---> 67\u001b[1;33m         \u001b[1;32mreturn\u001b[0m \u001b[0mself\u001b[0m\u001b[1;33m.\u001b[0m\u001b[0m_fetch\u001b[0m\u001b[1;33m(\u001b[0m\u001b[1;34m\"/news/coin/%s?langage=%s\"\u001b[0m \u001b[1;33m%\u001b[0m \u001b[1;33m(\u001b[0m\u001b[0mcoin\u001b[0m\u001b[1;33m,\u001b[0m \u001b[0mlanguage\u001b[0m\u001b[1;33m)\u001b[0m\u001b[1;33m)\u001b[0m\u001b[1;33m\u001b[0m\u001b[1;33m\u001b[0m\u001b[0m\n\u001b[0m\u001b[0;32m     68\u001b[0m \u001b[1;33m\u001b[0m\u001b[0m\n\u001b[0;32m     69\u001b[0m \u001b[1;33m\u001b[0m\u001b[0m\n",
      "\u001b[1;32m~\\Anaconda3\\envs\\rnn for trading\\lib\\site-packages\\crypto_news_api\\__init__.py\u001b[0m in \u001b[0;36m_fetch\u001b[1;34m(self, url)\u001b[0m\n\u001b[0;32m     26\u001b[0m         \u001b[1;32mif\u001b[0m \u001b[1;33m(\u001b[0m\u001b[0mresponse\u001b[0m\u001b[1;33m.\u001b[0m\u001b[0mstatus_code\u001b[0m \u001b[1;32mis\u001b[0m \u001b[1;36m401\u001b[0m\u001b[1;33m)\u001b[0m\u001b[1;33m:\u001b[0m \u001b[1;32mraise\u001b[0m \u001b[0mException\u001b[0m\u001b[1;33m(\u001b[0m\u001b[1;34m\"Invalid API Key\"\u001b[0m\u001b[1;33m)\u001b[0m\u001b[1;33m\u001b[0m\u001b[1;33m\u001b[0m\u001b[0m\n\u001b[0;32m     27\u001b[0m         \u001b[1;32mif\u001b[0m \u001b[1;33m(\u001b[0m\u001b[0mresponse\u001b[0m\u001b[1;33m.\u001b[0m\u001b[0mstatus_code\u001b[0m \u001b[1;32mis\u001b[0m \u001b[1;36m405\u001b[0m\u001b[1;33m)\u001b[0m\u001b[1;33m:\u001b[0m \u001b[1;32mraise\u001b[0m \u001b[0mException\u001b[0m\u001b[1;33m(\u001b[0m\u001b[1;34m\"You are not a premium user. Visit https://cryptocontrol.io/about/premium for more info\"\u001b[0m\u001b[1;33m)\u001b[0m\u001b[1;33m\u001b[0m\u001b[1;33m\u001b[0m\u001b[0m\n\u001b[1;32m---> 28\u001b[1;33m         \u001b[1;32mif\u001b[0m \u001b[1;33m(\u001b[0m\u001b[0mresponse\u001b[0m\u001b[1;33m.\u001b[0m\u001b[0mstatus_code\u001b[0m \u001b[1;32mis\u001b[0m \u001b[1;32mnot\u001b[0m \u001b[1;36m200\u001b[0m\u001b[1;33m)\u001b[0m\u001b[1;33m:\u001b[0m \u001b[1;32mraise\u001b[0m \u001b[0mException\u001b[0m\u001b[1;33m(\u001b[0m\u001b[1;34m\"Bad response from the CryptoControl API\"\u001b[0m\u001b[1;33m)\u001b[0m\u001b[1;33m\u001b[0m\u001b[1;33m\u001b[0m\u001b[0m\n\u001b[0m\u001b[0;32m     29\u001b[0m \u001b[1;33m\u001b[0m\u001b[0m\n\u001b[0;32m     30\u001b[0m         \u001b[1;32mreturn\u001b[0m \u001b[0mresponse\u001b[0m\u001b[1;33m.\u001b[0m\u001b[0mjson\u001b[0m\u001b[1;33m(\u001b[0m\u001b[1;33m)\u001b[0m\u001b[1;33m\u001b[0m\u001b[1;33m\u001b[0m\u001b[0m\n",
      "\u001b[1;31mException\u001b[0m: Bad response from the CryptoControl API"
     ]
    }
   ],
   "source": [
    "#api.enableSentiment()\n",
    "bitcoin_news=api.getTopNewsByCoin('bitcoin')\n",
    "ethereum_news=api.getTopNewsByCoin('ethereum')"
   ]
  },
  {
   "cell_type": "code",
   "execution_count": 3,
   "metadata": {},
   "outputs": [
    {
     "name": "stdout",
     "output_type": "stream",
     "text": [
      "Half of DeFi Yield Farmers Can't Read Smart Contracts: Survey\n"
     ]
    }
   ],
   "source": [
    "print(ethereum_news[0]['title'])\n",
    "\n",
    "sentiment = 0.2"
   ]
  },
  {
   "cell_type": "code",
   "execution_count": 4,
   "metadata": {},
   "outputs": [
    {
     "name": "stdout",
     "output_type": "stream",
     "text": [
      "Bitcoin’s price is currently plunging, with the growing sell-side pressure coming from a combination of technical uncertainty, weakness in the stock market, and strength in the US Dollar BTC’s recent inability to break above $11,000 may also be one factor behind this recent turbulence, as it…\n",
      "​The total crypto market cap has recovered from the September 6th lows close to $314 billion, but it is having a hard time staying above the $350 billion mark, suggesting that higher levels keep attracting sellers. Bitcoin (BTC) dominance dropped from over 68 percent in mid-May to around 56 percent…\n",
      "A candidate for Wisconsin State Assembly is counterchallenge a state regulator by beginning acceptive donations in cryptocurrencies like Bitcoin (BTC).\n",
      "\n",
      "Danil Potekhin and Dmitrii Karasavidi allegedly engaged in a range of crimes in connection with a conspiracy to defraud 3 exchanges. [...]\n",
      "\n",
      "On the 19th of September, Blockchain.com reported that the Bitcoin’s blockchain data size hit 300 gigabytes, a new record milestone for the network. The new milestone represents the total number of transactions stored on the Bitcoin blockchain over its ten years of existence. As more transactions…\n",
      "Bitcoin has entered no man’s land as it fails to pass $11,000 but is holding the low-$10,000s. The coin now trades at $10,900 as of this article’s writing, again below the aoforementioned support. Bitcoin actually may be in a positive spot, though, as it managed to hold a pivotal technical level of…\n",
      "After a clear break above USD 11,000, bitcoin price faced resistance near USD 11,200. BTC started a downside correction and it is currently (08:30 UTC) trading below the USD 11,000 level. It seems like the price is stuck in a range above the USD 10,750 support level. On the other hand, most major…\n",
      "MicroStrategy is one of the world’s largest business intelligence service providers. The company recently decided to convert its primary asset base to Bitcoin, which signaled [...]\n",
      "\n",
      "Uniswap’s UNI token launch generated massive hype for around 24 hours, leading the token’s price to surge up to highs of $8.50 before the hype faded and the cryptocurrency’s price plunged lower. It doesn’t appear that the hype will return anytime soon, as the token has since erased the vast majority…\n",
      "The future of any technology is commonly associated with the one that could alter life as we know it. Blockchain is one such case that is the center of attention these days and many corporations have come forward to embrace this “disruptive” technology. However, when it comes to design, it’s a…\n",
      "The Meme protocol, a way of staking tokens to get Ethereum-based crypto-collectibles, is going viral. And the price of the $MEME token is going up.\n",
      "\n",
      "Jonathan Khoo was a contractor at the Commonwealth Scientific and Industrial Research Organisation, a federal government’s scientific research agency. [...]\n",
      "\n",
      "Bitcoin and Ethereum break below crucial support levels over the past 24 hours, suggesting further losses on the horizon.\n",
      "Bitcoin’s average transaction value is growing at a fast pace in 2020. It recently peaked at over $129,000, reaching its highest levels in more than [...]\n",
      "\n",
      "MicroStrategy has acquired more Bitcoin than most companies in its field. The American software company which is now famous for buying over $400 million worth of Bitcoin with its balance sheet, saw a 9% spike in assets shortly after adding more Bitcoins to its vault. MicroStrategy is one of the very…\n",
      "Brazil’s Hashdex is teaming up with Nasdaq to bring the world’s first Bitcoin ETF to the Bermuda Stock Exchange.\n",
      "Regulated Brazilian fund manager Hashdex has inked a deal with Nasdaq to launch the world’s first crypto asset exchange-traded fund ( ETF ) on the Bermuda Stock Exchange (BSX).\n",
      "The stock…\n",
      "Ethereum’s correction triggered a DeFi-token collapse which resulted in YFI and UNI dropping by 46%.\n",
      "After outperforming Bitcoin ( BTC ) and Ether ( ETH ) strongly in August, Decentralized Finance (DeFi) tokens are now plummeting as many registered losses of up to 50%. \n",
      "Cryptocurrency daily market…\n",
      "Raoul Pal has started to touch once more on discussions that were forgotten, more or less, to this point: The approval of exchange-traded funds (ETFs) [...]\n",
      "\n",
      "It has been a rocky past day for Bitcoin, with the benchmark crypto posting massive losses as buyers struggle to garner significant momentum. This selling pressure has sent shockwaves throughout the entire cryptocurrency market, causing altcoins to see massive selloffs that have erased the bulk of…\n",
      "Iran has granted bitcoin miners exclusive access to electricity generated from three power plants for their mining activities, according to state power utility Thermal Power Plant Holding Company (TPPH). Mohsen Tarztalab, managing director of TPPH, told a local news agency on Monday that the…\n",
      "Top Ethereum-based altcoins are plunging as the price of Bitcoin fails to react positively to the $11,000 resistance. BTC is down 4% in the past 24 hours while Ethereum has shed 8%. Most top altcoins on Ethereum, such as Yearn.finance and Aave’s LEND, are down over 20% in the past 24 hours. This…\n",
      "Historically speaking, some miners tend to start selling their various Bitcoin (BTC) holdings by the end of July. This, in turn, leads to an increase [...]\n",
      "\n",
      "Frenzy as Uniswap launches new governance token\n",
      "Uniswap stole the show this week when it announced it was launching UNI, its very own governance token. A total of 1 billion tokens will exist, and anyone who has ever used the platform can claim 400 of them.\n",
      "Thousands came forward to accept their…\n",
      "Bitcoin has faced a strong correction in the past 24 hours, dropping to $10,400. This comes after the coin hit $11,200 last week in a breakout that some thought would take the coin to $12,000. Bitcoin’s weakness comes as legacy markets like the S&P 500 have bled lower due to a number of geopolitical…\n",
      "Bitcoin could soon move towards the crucial CME futures gap at $9,600, formed when the cryptocurrency surged from the $9,000s in late July and early August. The CME futures is closed on the weekends, despite Bitcoin spot markets still trading. This forms natural gaps in the CME’s price action, many…\n",
      "The Dark Overlord group stole medical records and client files from the companies, then demanded Bitcoin to return the information.\n",
      "Bitcoin (BTC) Price Prediction – September 21, 2020Bitcoin reaches a high of $11,174 but retraced to a $10,812 low. After retesting the $11,000 resistance, BTC/USD [...]\n",
      "\n",
      "Pension funds and insurers could be increasing their cryptocurrency investments over the next five years, but some concerns still linger.\n",
      "\n",
      "In the prior week, the first and largest crypto asset, Bitcoin (BTC) in a display of strength rallied from $10,250 to $11,180. After retesting the $11,000 key level on two consecutive times, BTC wobbled without strength in the face of resistance to trade as low as $10,180 today. Not only Bitcoin saw…\n",
      "Cryptocurrencies were hit on Monday as the U.S. dollar rally picked up. LTC goes into RPG, THETA continues to grow and China seeks first CBDC.\n",
      "\n",
      "Markets are expected to be volatile this week, as a great number of bitcoin and ethereum options are set to expire this Friday. Data shows more than 87,000 bitcoin options will expire and 77% of the action is held on the Deribit exchange. U.S. stocks dropped hard on Monday, as the Dow Jones…\n",
      "Norway Government Pension Fund Global, the world’s biggest sovereign wealth fund, now holds almost 600 bitcoins. This is according to a recent report published by crypto analytics firm Arcane Research. Why Is The Norwegian Government Fund Indirectly Holding BTC? Norway has arguably the largest…\n",
      "Three Iranian power plants with enough output to supply half of New York City will begin selling some surplus power to crypto miners.\n",
      "\n",
      "Craig Wright’s tactics for delaying the Kleiman estate litigation process may be coming to an end. The United States District Court for the Southern District of Florida has denied “on all grounds” the motion introduced by Craig S. Wright to dismiss the long-standing Kleiman vs. Wright lawsuit.…\n",
      "Bitcoin, stocks, and commodities are tumbling as the impending U.S. presidential election drives fear into the market.\n",
      "The market has taken a bearish turn and Bitcoin and altcoins will need strong relief rallies in order to restore their uptrends.\n",
      "Legacy and crypto crypto markets saw a strong correction today as traders fear that the second round of economic stimulus might be delayed as the White House, Senate and…\n",
      "Bitfarms boost its mining power by 360 PH with the new lease, set to run for 24 months.\n",
      "\n",
      "Bitcoin and ether price fell precipitously Monday as markets globally roil in uncertainty.\n",
      "There is authentic demand for crypto collectibles, called NFTs, but the introduction of yield farming has introduced new issues.\n",
      "\n",
      "Ethereum has been hit hard by the recent market-wide downturn, with the cryptocurrency’s price crashing by nearly $30 in a matter of minutes earlier today This move struck a serious blow to its technical outlook, leading many investors and analysts to anticipate further downside in the near-term One…\n",
      "Bitcoin, Ethereum, and other major crypto assets all plummeted over the last several hours, but few have dropped as hard as top DeFi tokens, YFI, LEND, and UNI. Why have these once soaring altcoins plunged so hard and is there more downside ahead? Yearn-Ing For The DeFi Trend To Continue After 20%…\n",
      "Reports of South African comedian Trevor Noah have flooded in regarding the investment of the celebrity, with rumours circulating that he has invested in Bitcoin and cryptocurrency. As an acclaimed author, political commentator, and famed television host, Noah sits in the spotlight with his net…\n"
     ]
    }
   ],
   "source": [
    "#get the titles for every bitcoin article\n",
    "for article in bitcoin_news:\n",
    "    print(article['description'])"
   ]
  },
  {
   "cell_type": "code",
   "execution_count": null,
   "metadata": {},
   "outputs": [],
   "source": []
  }
 ],
 "metadata": {
  "kernelspec": {
   "display_name": "Python 3",
   "language": "python",
   "name": "python3"
  },
  "language_info": {
   "codemirror_mode": {
    "name": "ipython",
    "version": 3
   },
   "file_extension": ".py",
   "mimetype": "text/x-python",
   "name": "python",
   "nbconvert_exporter": "python",
   "pygments_lexer": "ipython3",
   "version": "3.7.7"
  }
 },
 "nbformat": 4,
 "nbformat_minor": 2
}
