{
 "cells": [
  {
   "cell_type": "code",
   "execution_count": 2,
   "metadata": {},
   "outputs": [],
   "source": [
    "from crypto_news_api import CryptoControlAPI\n",
    "\n",
    "api = CryptoControlAPI('ceac0273a69d3e7f5a768ea6748cd957')"
   ]
  },
  {
   "cell_type": "code",
   "execution_count": 3,
   "metadata": {},
   "outputs": [],
   "source": [
    "#api.enableSentiment()\n",
    "bitcoin_news=api.getTopNewsByCoin('bitcoin')\n",
    "ethereum_news=api.getTopNewsByCoin('ethereum')"
   ]
  },
  {
   "cell_type": "code",
   "execution_count": 7,
   "metadata": {},
   "outputs": [
    {
     "name": "stdout",
     "output_type": "stream",
     "text": [
      "{'_id': '5f38e2d12647560017ac226f', 'hotness': 73961.12027133525, 'activityHotness': 0.10582689081239759, 'primaryCategory': 'Exchanges', 'words': 1042, 'similarArticles': [], 'coins': [{'_id': '59d21e9b83a0523906a45ee0', 'name': 'Dynamic', 'slug': 'dynamic', 'tradingSymbol': 'DYN'}, {'_id': '59cb59e81c073f09e76f614b', 'name': 'Bitcoin', 'slug': 'bitcoin', 'tradingSymbol': 'BTC'}, {'_id': '5e3844a916c3760019f74c8b', 'name': 'CREDIT', 'slug': 'credit', 'tradingSymbol': 'CREDIT'}, {'_id': '59cb59f9b0836b0a63aebc7c', 'name': 'Ethereum', 'tradingSymbol': 'ETH', 'slug': 'ethereum'}, {'_id': '59cb5a047ab17a0b2ec00edf', 'name': 'Ripple', 'tradingSymbol': 'xrp', 'slug': 'ripple'}, {'_id': '5a7b931102ac032bc99781f1', 'name': 'DATA', 'slug': 'data', 'tradingSymbol': 'DTA'}, {'_id': '59d21e9b83a0523906a45db0', 'name': 'Litecoin', 'slug': 'litecoin', 'tradingSymbol': 'LTC'}], 'description': \"It's a great way to operate with crypto without having to mine them\\n\", 'publishedAt': '2020-08-16T06:05:12.000Z', 'title': 'Are there any advantages to trading forex with Bitcoin?', 'url': 'https://cryptocontrol.io/r/api/article/5f38e2d12647560017ac226f?ref=5f2f7fb9c3bdbe0017b3c054', 'source': {'_id': '5cfa747b28d54f001058f77e', 'name': 'The Cryptonomist ', 'url': 'https://cryptonomist.ch/en/', 'favicon': 'https://assets.cryptocontrol.io/favicons/5cfa747b28d54f001058f77e.png'}, 'thumbnail': 'https://cloudfront.cryptocontrol.io/thumbnails/5f38e2d12647560017ac226f-1597563601764.jpg', 'sourceDomain': 'en.cryptonomist.ch', 'originalImageUrl': 'https://en.cryptonomist.ch/wp-content/uploads/2020/08/trading-forex-bitcoin.jpg'}\n"
     ]
    }
   ],
   "source": [
    "print(ethereum_news[3])"
   ]
  },
  {
   "cell_type": "code",
   "execution_count": 5,
   "metadata": {},
   "outputs": [
    {
     "name": "stdout",
     "output_type": "stream",
     "text": [
      "Gold Bull Peter Schiff Still Thinks Bitcoin Is a “Fad” on Its Way to Zero\n",
      "Is Bitcoin Really In a Bull Market? Here’s Why Analysts Think BTC Isn’t\n",
      "Record Ethereum Network Use and Gas Fees Pose Risk to DeFi Expansion\n",
      "What Analysts Are Thinking After Chainlink (LINK) Jumped Another 15%\n",
      "Why Cryptocurrency Is More Than a Hedge Against US Dollar Inflation\n",
      "Analyst: Bitcoin Could Surge to $17,000 Once This Crucial Level is Broken\n",
      "LIFETIONCOIN Provides Payment Solutions and Worldwide Prosperity\n",
      "Make It Rain Gold! Winklevoss Twins on Elon Musk & Space Mining\n",
      "Block reward miners in Malaysia caught stealing power\n",
      "Bitcoin Is Forming Highly Bullish Patterns, Says Former Goldman Sachs Manager\n",
      "New York Attorney to Repay $5.2 Million Fraudulently Withdrawn from Crypto Firm\n",
      "US Regulator Charges Tech Firm, CEO in $5 Million ICO Fraud Case\n",
      "Bitcoin Is More Trustworthy Than The US Dollar, Coinbase CEO Says\n",
      "Bitcoin Whale Warns Crypto Newbie Traders\n",
      "James Howells: the man who threw out 7,500 bitcoin\n",
      "Are there any advantages to trading forex with Bitcoin?\n",
      "Blockchain Phones and Bitcoin Watches: Revisiting the Crypto Tech Hype\n",
      "Which blockchain is the most decentralized?\n",
      "Bitcoin price rises above $11900, what’s next?\n",
      "Bitcoin is not Bearish at all as Things Go in Favor of...\n",
      "Bitcoin Breaking This Confluence Resistance Could Spark a Significant Surge\n",
      "Bitcoin Cash price rises above $308, what’s next?\n",
      "Dex Platforms Trade Over $2.4 Billion in 7 Days, Defi Swaps up 68% Since Last Week\n",
      "CME Bitcoin Futures Open Interest Soars, Institutions Look at BTC as Inflation...\n",
      "Transcript: O3 Labs AMA on Holdex\n",
      "These 4 Factors Show Why It’s Hard to Be Bearish on Bitcoin Right Now\n",
      "Bulls Stampede Toward $12K Bitcoin Price as Weekly Close Approaches\n",
      "Bitcoin Price Prediction: BTC/USD Continues to Face Rejection as Bulls and Bears Tussle for Price Possession\n",
      "Can Belarus Use Crypto to Bypass Sanctions? Experts Are Skeptical\n",
      "Bull Runs, Mining, and Tor Attacks: Bad Crypto News of the Week\n",
      "Mike Novogratz’s Galaxy Digital Holdings Reports $38.5 Million Income for Q2: “We’ve Crossed the Rubicon’ \n",
      "Ex-Prudential CEO George Ball Joins the Bitcoin Camp; Calls It A “Staple” For Investors\n",
      "Bitcoin Price Prediction: The Bulls Ready to Push BTC/USD Above $12,000 Again\n",
      "What Warren Buffet’s Barrick Gold purchase means for Bitcoin Price\n",
      "Grayscale Witnesses Investment of $217 in Just One...\n",
      "Unraveling the Blockchain and Crypto Gaming World One Click at a Time\n",
      "Crypto Price Analysis Aug 14: Bitcoin (BTC), ETH, XRP, LINK, WAVES\n",
      "Hong Kong Police Arrests Three Men Who Swindled $30,000 From Bitcoin...\n",
      "Former Prudential Securities Chief Executive Ball Bats for Bitcoin\n",
      "The United States Postal Service has filed a Patent for Blockchain-Based Mail-In Voting...\n",
      "Bulls relentless to push Bitcoin price above $12,100\n",
      "Litecoin (LTC) Vs Cardano (ADA) Which Is A Better Investment In 2020?\n",
      "Ex-CEO of Prudential Insurance, former Bitcoin hater, reconsiders\n",
      "Will Bitcoin (BTC) Bulls Launch Back at $12,000 in a Weekend Skit? Analysts Weigh Up As Tether (USDT) Market Cap Surges\n",
      "Could Buffett’s Change in Gold Strategy Move Him Toward Bitcoin?\n",
      "What Venezuelans Think About Bitcoin and American Media - CoinDesk\n"
     ]
    }
   ],
   "source": [
    "#get the titles for every bitcoin article\n",
    "for article in bitcoin_news:\n",
    "    print(article['title'])"
   ]
  },
  {
   "cell_type": "code",
   "execution_count": null,
   "metadata": {},
   "outputs": [],
   "source": []
  }
 ],
 "metadata": {
  "kernelspec": {
   "display_name": "Python 3",
   "language": "python",
   "name": "python3"
  },
  "language_info": {
   "codemirror_mode": {
    "name": "ipython",
    "version": 3
   },
   "file_extension": ".py",
   "mimetype": "text/x-python",
   "name": "python",
   "nbconvert_exporter": "python",
   "pygments_lexer": "ipython3",
   "version": "3.7.7"
  }
 },
 "nbformat": 4,
 "nbformat_minor": 2
}
